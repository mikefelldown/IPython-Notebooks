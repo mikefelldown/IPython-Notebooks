{
 "cells": [
  {
   "cell_type": "code",
   "execution_count": 2,
   "metadata": {
    "collapsed": true
   },
   "outputs": [],
   "source": [
    "import os\n",
    "import xlrd\n",
    "import openpyxl\n",
    "from glob import glob"
   ]
  },
  {
   "cell_type": "code",
   "execution_count": 25,
   "metadata": {
    "collapsed": true
   },
   "outputs": [],
   "source": [
    "os.chdir(r\"P:\\Mike Fell\\Upper Canada Drill Logs\\UC_DDH11\\Excel_Logs\")"
   ]
  },
  {
   "cell_type": "code",
   "execution_count": 26,
   "metadata": {
    "collapsed": true
   },
   "outputs": [],
   "source": [
    "flist = glob('*.xls')"
   ]
  },
  {
   "cell_type": "code",
   "execution_count": 27,
   "metadata": {},
   "outputs": [],
   "source": [
    "for f in flist:\n",
    "    wb = xlrd.open_workbook(f)\n",
    "    wslist = wb.sheet_names()\n",
    "    if all([not w.startswith('SD') for w in wslist if w not in ('Gyro','Header','Descriptions')]):\n",
    "        lab = \"Swastica\"\n",
    "        \n",
    "    else: # all([w.startswith('SD') for w in wslist if w not in ('Gyro','Header','Descriptions')]):\n",
    "        lab = \"ALS\"\n",
    "        print \"'\" + f + \"',\"\n"
   ]
  },
  {
   "cell_type": "code",
   "execution_count": 28,
   "metadata": {
    "collapsed": true
   },
   "outputs": [],
   "source": [
    "flist = glob('*.xlsx')"
   ]
  },
  {
   "cell_type": "code",
   "execution_count": 29,
   "metadata": {},
   "outputs": [],
   "source": [
    "for f in flist:\n",
    "    wb = openpyxl.load_workbook(filename = f)\n",
    "    wslist = wb.get_sheet_names()\n",
    "    if all([not w.startswith('SD') for w in wslist if w not in ('Gyro','Header','Descriptions')]):\n",
    "        lab = \"Swastica\"\n",
    "    else: # all([w.startswith('SD') for w in wslist if w not in ('Gyro','Header','Descriptions')]):\n",
    "        lab = \"ALS\"\n",
    "        print \"'\"+f+\"',\"\n",
    "\n"
   ]
  },
  {
   "cell_type": "code",
   "execution_count": 14,
   "metadata": {},
   "outputs": [
    {
     "data": {
      "text/plain": [
       "['UC12_395W1.xlsx',\n",
       " 'UC12_395W2.xlsx',\n",
       " 'UC12_395W3.xlsx',\n",
       " 'UC12_395W4.xlsx',\n",
       " 'UC12_396 W1.xlsx',\n",
       " 'UC12_396W2.xlsx',\n",
       " 'UC12_396W4.xlsx',\n",
       " 'UC12_397.xlsx',\n",
       " 'UC12_397W2.xlsx',\n",
       " 'UC12_440A.xlsx',\n",
       " 'UC12_451E.xlsx',\n",
       " 'UC12_451W1.xlsx',\n",
       " 'UC12_453.xlsx',\n",
       " 'UC12_453W1.xlsx',\n",
       " 'UC12_462.xlsx',\n",
       " 'UC12_463.xlsx',\n",
       " 'UC12_464.xlsx',\n",
       " '~$UC12_395W3.xlsx']"
      ]
     },
     "execution_count": 14,
     "metadata": {},
     "output_type": "execute_result"
    }
   ],
   "source": [
    "flist\n"
   ]
  },
  {
   "cell_type": "code",
   "execution_count": null,
   "metadata": {
    "collapsed": true
   },
   "outputs": [],
   "source": []
  }
 ],
 "metadata": {
  "kernelspec": {
   "display_name": "Python 2",
   "language": "python",
   "name": "python2"
  },
  "language_info": {
   "codemirror_mode": {
    "name": "ipython",
    "version": 2
   },
   "file_extension": ".py",
   "mimetype": "text/x-python",
   "name": "python",
   "nbconvert_exporter": "python",
   "pygments_lexer": "ipython2",
   "version": "2.7.5"
  }
 },
 "nbformat": 4,
 "nbformat_minor": 2
}
