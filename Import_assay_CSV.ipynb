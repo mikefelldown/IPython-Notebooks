{
 "cells": [
  {
   "cell_type": "code",
   "execution_count": 1,
   "metadata": {
    "collapsed": true
   },
   "outputs": [],
   "source": [
    "import os\n",
    "import sys\n",
    "import pandas as pd\n",
    "import pyodbc\n",
    "from datetime import datetime\n",
    "from dateutil import parser\n",
    "from glob import glob\n"
   ]
  },
  {
   "cell_type": "code",
   "execution_count": 2,
   "metadata": {
    "collapsed": true
   },
   "outputs": [],
   "source": [
    "os.chdir(r\"N:\\07_Geology\\07.9_QAQC\\40_Data\\43_Assays\\ALSChemex\\02_Data\")\n",
    "input_files = glob(\"*.csv\")"
   ]
  },
  {
   "cell_type": "code",
   "execution_count": 3,
   "metadata": {},
   "outputs": [
    {
     "name": "stdout",
     "output_type": "stream",
     "text": [
      "connection created\n",
      "Inserting cert TM17208256.csv\n",
      "                                                   Finalized\n",
      "TM17208256                                                  \n",
      "CLIENT                OSIKLI - Canadian Malartic Corporation\n",
      "# of SAMPLES                                              66\n",
      "DATE RECEIVED                                         270917\n",
      "DATE COMPLETED                                        011017\n",
      "PROJECT                                                   UB\n",
      "CERTIFICATE COMMENTS                                     NaN\n",
      "PO NUMBER                                             KLS-47\n",
      "NaN                                                  Cu-AA45\n"
     ]
    }
   ],
   "source": [
    "conn = pyodbc.connect(r'DSN=OKLG_QAQC;Trusted_Connection=True')\n",
    "if conn:\n",
    "    print \"connection created\"\n",
    "for f in input_files:\n",
    "    testsql = \"Select * from LabJobCert where CertNum = '{}'\".format(f.replace('.csv',''))\n",
    "    test = conn.execute(testsql)\n",
    "    if not test.fetchone():\n",
    "        print \"Inserting cert {}\".format(f)\n",
    "        input_file = r\"N:\\07_Geology\\07.9_QAQC\\40_Data\\43_Assays\\ALSChemex\\02_Data\\{}\".format(f)\n",
    "        csv = pd.read_csv(input_file, sep = ',', skiprows = [0,1,2,3,4,5,6,7,11,12,13,14,15,16], header = [0,1,2], index_col = 0)\n",
    "        header = pd.read_csv(input_file, nrows = 8, index_col = 0, usecols= [0,1])\n",
    "        print header\n",
    "        row = [datetime.strftime(datetime.today(), \"%Y%m%d %H:%M:%S %p\"), header.index.name, header.ix['CLIENT'][0], \\\n",
    "               int(header.ix['# of SAMPLES'][0]),datetime.strftime(parser.parse(header.ix['DATE RECEIVED'][0], \\\n",
    "               dayfirst = True), \"%Y%m%d %H:%M:%S %p\"), \\\n",
    "               datetime.strftime(parser.parse(header.ix['DATE COMPLETED'][0], dayfirst = True), \"%Y%m%d %H:%M:%S %p\"), \\\n",
    "               header.ix['PROJECT'][0],\"NULL\",header.ix['PO NUMBER'][0],\"ALSChemex\",header.index.name]\n",
    "        conn.execute(\"INSERT INTO dbo.LabJobCert (LoadDate, CertNum, Client, NumSamples,\\\n",
    "                 DateRecieved, DateFinalised, Project, Comment, PONumber, Lab, OrigFileName) \\\n",
    "                 values ('{}','{}','{}','{}','{}','{}','{}',{},'{}','{}','{}')\".format(*row))\n",
    "        conn.commit()\n",
    "        for this in csv.iterrows():\n",
    "            for x, y in  this[1].iteritems():\n",
    "                if x[2] <> 'NA' and not pd.isnull(y):\n",
    "                    if this[0].startswith(\"Blank\"):\n",
    "                        SampleType = 'Lab Blank'\n",
    "                        ref = 'Blank'\n",
    "                    elif this[0].startswith('Ch:'):\n",
    "                        SampleType = 'Lab Check'\n",
    "                        ref = this[0].replace('Ch:','').strip()\n",
    "                    elif this[0].startswith('St'):\n",
    "                        SampleType = 'Lab Standard'\n",
    "                        ref = this[0][this[0].index(\":\")+1: this[0].index(\"_\")]\n",
    "                    else:\n",
    "                        SampleType = 'Original'\n",
    "                        ref = None\n",
    "                    name = \"{1}_{0}_{2}\".format(*x).replace(\" \",\"\")    \n",
    "                    row =  [datetime.strftime(datetime.today(), \"%Y%m%d %H:%M:%S %p\"), header.index.name, this[0], SampleType, name, ref, y, header.index.name, 1, x[1], x[2], x[0]]\n",
    "                    conn.execute(\"INSERT INTO dbo.LabJobResults (LoadDate, CertNum, SampleID, SampleType, Name, Reference, Value, OrigFileName, Preferred, Element, Unit, Method)\\\n",
    "                    values ('{}','{}','{}','{}','{}','{}','{}','{}','{}','{}','{}','{}')\".format(*row))\n",
    "                    conn.commit()\n"
   ]
  },
  {
   "cell_type": "code",
   "execution_count": 4,
   "metadata": {
    "collapsed": true
   },
   "outputs": [],
   "source": [
    "conn.close()"
   ]
  },
  {
   "cell_type": "code",
   "execution_count": null,
   "metadata": {
    "collapsed": true
   },
   "outputs": [],
   "source": []
  }
 ],
 "metadata": {
  "kernelspec": {
   "display_name": "Python 2",
   "language": "python",
   "name": "python2"
  },
  "language_info": {
   "codemirror_mode": {
    "name": "ipython",
    "version": 2
   },
   "file_extension": ".py",
   "mimetype": "text/x-python",
   "name": "python",
   "nbconvert_exporter": "python",
   "pygments_lexer": "ipython2",
   "version": "2.7.5"
  }
 },
 "nbformat": 4,
 "nbformat_minor": 1
}
