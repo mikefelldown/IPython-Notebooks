{
 "cells": [
  {
   "cell_type": "code",
   "execution_count": 11,
   "metadata": {
    "collapsed": true
   },
   "outputs": [],
   "source": [
    "import os, pyodbc\n",
    "import pandas as pd\n",
    "#import numpy as np\n",
    "from pandas import DataFrame\n",
    "from datetime import datetime, timedelta\n",
    "from matplotlib import pyplot as plt\n",
    "from sqlalchemy import create_engine"
   ]
  },
  {
   "cell_type": "code",
   "execution_count": 12,
   "metadata": {
    "collapsed": true
   },
   "outputs": [],
   "source": [
    "sql = 'SELECT Project, HoleID, count(Samples_Outstanding) as NoSamplesOutstanding, count(QAQC_Outstanding) as QAQC_Outstanding \\\n",
    "FROM \\\n",
    "(SELECT a.NomProjet Project, b.Nom HoleID, c.NuEchantillon Samples_Outstanding, NULL as QAQC_Outstanding \\\n",
    "FROM tblNomProjet a join tblNuSondage b on a.idKey = b.idNomProjet join tblAnalReg c on b.idKey = c.idNuSondage \\\n",
    "where not exists(Select * from tblCertEchAnalyse d where c.idKey = d.idAnalReg) \\\n",
    "UNION \\\n",
    "SELECT a.NomProjet Project, b.Nom HoleID, NULL, c.NuEchantillon QAQC_Outstanding \\\n",
    "FROM tblNomProjet a join tblNuSondage b on a.idKey = b.idNomProjet \\\n",
    "join tblQAQC c on b.idKey = c.idNuSondage \\\n",
    "where not exists(Select * from tblCertEchQAQC d where c.idKey = d.idQAQC \\\n",
    ") ) as x \\\n",
    "group by Project, HoleID \\\n",
    "having HoleID like \\'%17[_]%\\' \\\n",
    "order by Project, HoleID'"
   ]
  },
  {
   "cell_type": "code",
   "execution_count": 13,
   "metadata": {
    "collapsed": true
   },
   "outputs": [],
   "source": [
    "engine = create_engine(\"mssql+pyodbc://gt_KL_Master\")"
   ]
  },
  {
   "cell_type": "code",
   "execution_count": 4,
   "metadata": {
    "collapsed": true
   },
   "outputs": [],
   "source": [
    "df = pd.read_sql(sql, engine)"
   ]
  },
  {
   "cell_type": "code",
   "execution_count": 5,
   "metadata": {
    "collapsed": true
   },
   "outputs": [],
   "source": [
    "df.to_clipboard(index = False)"
   ]
  },
  {
   "cell_type": "code",
   "execution_count": 6,
   "metadata": {},
   "outputs": [
    {
     "data": {
      "text/html": [
       "<div>\n",
       "<table border=\"1\" class=\"dataframe\">\n",
       "  <thead>\n",
       "    <tr style=\"text-align: right;\">\n",
       "      <th></th>\n",
       "      <th>Project</th>\n",
       "      <th>HoleID</th>\n",
       "      <th>NoSamplesOutstanding</th>\n",
       "      <th>QAQC_Outstanding</th>\n",
       "    </tr>\n",
       "  </thead>\n",
       "  <tbody>\n",
       "    <tr>\n",
       "      <th>0</th>\n",
       "      <td>Amalgamated Kirkland</td>\n",
       "      <td>AKC17_138</td>\n",
       "      <td>32</td>\n",
       "      <td>6</td>\n",
       "    </tr>\n",
       "    <tr>\n",
       "      <th>1</th>\n",
       "      <td>Skead-MacGregor</td>\n",
       "      <td>SM17_06</td>\n",
       "      <td>72</td>\n",
       "      <td>10</td>\n",
       "    </tr>\n",
       "    <tr>\n",
       "      <th>2</th>\n",
       "      <td>Skead-MacGregor</td>\n",
       "      <td>SM17_07</td>\n",
       "      <td>116</td>\n",
       "      <td>17</td>\n",
       "    </tr>\n",
       "    <tr>\n",
       "      <th>3</th>\n",
       "      <td>Skead-MacGregor</td>\n",
       "      <td>SM17_08</td>\n",
       "      <td>100</td>\n",
       "      <td>15</td>\n",
       "    </tr>\n",
       "    <tr>\n",
       "      <th>4</th>\n",
       "      <td>Skead-MacGregor</td>\n",
       "      <td>SM17_09</td>\n",
       "      <td>17</td>\n",
       "      <td>1</td>\n",
       "    </tr>\n",
       "    <tr>\n",
       "      <th>5</th>\n",
       "      <td>Skead-MacGregor</td>\n",
       "      <td>SM17_10</td>\n",
       "      <td>25</td>\n",
       "      <td>6</td>\n",
       "    </tr>\n",
       "    <tr>\n",
       "      <th>6</th>\n",
       "      <td>Skead-MacGregor</td>\n",
       "      <td>SM17_11</td>\n",
       "      <td>120</td>\n",
       "      <td>17</td>\n",
       "    </tr>\n",
       "    <tr>\n",
       "      <th>7</th>\n",
       "      <td>UpperBeaver</td>\n",
       "      <td>UB17_428</td>\n",
       "      <td>54</td>\n",
       "      <td>6</td>\n",
       "    </tr>\n",
       "    <tr>\n",
       "      <th>8</th>\n",
       "      <td>UpperBeaver</td>\n",
       "      <td>UB17_429</td>\n",
       "      <td>25</td>\n",
       "      <td>3</td>\n",
       "    </tr>\n",
       "    <tr>\n",
       "      <th>9</th>\n",
       "      <td>UpperBeaver</td>\n",
       "      <td>UB17_437</td>\n",
       "      <td>56</td>\n",
       "      <td>10</td>\n",
       "    </tr>\n",
       "    <tr>\n",
       "      <th>10</th>\n",
       "      <td>UpperBeaver</td>\n",
       "      <td>UB17_438</td>\n",
       "      <td>136</td>\n",
       "      <td>19</td>\n",
       "    </tr>\n",
       "    <tr>\n",
       "      <th>11</th>\n",
       "      <td>UpperBeaver</td>\n",
       "      <td>UB17_439</td>\n",
       "      <td>127</td>\n",
       "      <td>21</td>\n",
       "    </tr>\n",
       "    <tr>\n",
       "      <th>12</th>\n",
       "      <td>UpperBeaver</td>\n",
       "      <td>UB17_440</td>\n",
       "      <td>109</td>\n",
       "      <td>19</td>\n",
       "    </tr>\n",
       "    <tr>\n",
       "      <th>13</th>\n",
       "      <td>UpperBeaver</td>\n",
       "      <td>UB17_441</td>\n",
       "      <td>132</td>\n",
       "      <td>20</td>\n",
       "    </tr>\n",
       "    <tr>\n",
       "      <th>14</th>\n",
       "      <td>UpperBeaver</td>\n",
       "      <td>UB17_442</td>\n",
       "      <td>132</td>\n",
       "      <td>21</td>\n",
       "    </tr>\n",
       "    <tr>\n",
       "      <th>15</th>\n",
       "      <td>UpperBeaver</td>\n",
       "      <td>UB17_443</td>\n",
       "      <td>142</td>\n",
       "      <td>25</td>\n",
       "    </tr>\n",
       "    <tr>\n",
       "      <th>16</th>\n",
       "      <td>UpperBeaver</td>\n",
       "      <td>UB17_444</td>\n",
       "      <td>130</td>\n",
       "      <td>20</td>\n",
       "    </tr>\n",
       "  </tbody>\n",
       "</table>\n",
       "</div>"
      ],
      "text/plain": [
       "                 Project     HoleID  NoSamplesOutstanding  QAQC_Outstanding\n",
       "0   Amalgamated Kirkland  AKC17_138                    32                 6\n",
       "1        Skead-MacGregor    SM17_06                    72                10\n",
       "2        Skead-MacGregor    SM17_07                   116                17\n",
       "3        Skead-MacGregor    SM17_08                   100                15\n",
       "4        Skead-MacGregor    SM17_09                    17                 1\n",
       "5        Skead-MacGregor    SM17_10                    25                 6\n",
       "6        Skead-MacGregor    SM17_11                   120                17\n",
       "7            UpperBeaver   UB17_428                    54                 6\n",
       "8            UpperBeaver   UB17_429                    25                 3\n",
       "9            UpperBeaver   UB17_437                    56                10\n",
       "10           UpperBeaver   UB17_438                   136                19\n",
       "11           UpperBeaver   UB17_439                   127                21\n",
       "12           UpperBeaver   UB17_440                   109                19\n",
       "13           UpperBeaver   UB17_441                   132                20\n",
       "14           UpperBeaver   UB17_442                   132                21\n",
       "15           UpperBeaver   UB17_443                   142                25\n",
       "16           UpperBeaver   UB17_444                   130                20"
      ]
     },
     "execution_count": 6,
     "metadata": {},
     "output_type": "execute_result"
    }
   ],
   "source": [
    "df"
   ]
  },
  {
   "cell_type": "code",
   "execution_count": 14,
   "metadata": {
    "collapsed": true
   },
   "outputs": [],
   "source": [
    "sql = 'Select TOP 10 \\\n",
    "DATEPART(yyyy, e.DateEmis) as YEAR, DATEPART(ww,e.DateEmis) as WeekofYear, \\\n",
    "a.NomProjet as PROJECT, COUNT(DISTINCT c.NuEchantillon) as \\'Count of Samples\\' \\\n",
    "from tblNomProjet a join tblNuSondage b on a.idKey = b.idNomProjet \\\n",
    "join tblAnalReg c on b.idKey = c.idNuSondage \\\n",
    "join tblCertEchAnalyse d on c.idKey = d.idAnalReg \\\n",
    "join tblAnalRegCertificat e on d.NuCertificat = e.NuCertificat \\\n",
    "group by DATEPART(yyyy,e.DateEmis), DATEPART(ww,e.DateEmis), a.NomProjet \\\n",
    "HAVING DATEPART(yyyy,e.DateEmis) = 2017 \\\n",
    "ORDER BY WeekofYear DESC'"
   ]
  },
  {
   "cell_type": "code",
   "execution_count": 15,
   "metadata": {
    "collapsed": true
   },
   "outputs": [],
   "source": [
    "df = pd.read_sql(sql, engine)"
   ]
  },
  {
   "cell_type": "code",
   "execution_count": 16,
   "metadata": {
    "scrolled": true
   },
   "outputs": [
    {
     "data": {
      "text/html": [
       "<div>\n",
       "<table border=\"1\" class=\"dataframe\">\n",
       "  <thead>\n",
       "    <tr style=\"text-align: right;\">\n",
       "      <th></th>\n",
       "      <th>YEAR</th>\n",
       "      <th>WeekofYear</th>\n",
       "      <th>PROJECT</th>\n",
       "      <th>Count of Samples</th>\n",
       "    </tr>\n",
       "  </thead>\n",
       "  <tbody>\n",
       "    <tr>\n",
       "      <th>0</th>\n",
       "      <td>2017</td>\n",
       "      <td>36</td>\n",
       "      <td>Anoki-McBean</td>\n",
       "      <td>2</td>\n",
       "    </tr>\n",
       "  </tbody>\n",
       "</table>\n",
       "</div>"
      ],
      "text/plain": [
       "   YEAR  WeekofYear       PROJECT  Count of Samples\n",
       "0  2017          36  Anoki-McBean                 2"
      ]
     },
     "execution_count": 16,
     "metadata": {},
     "output_type": "execute_result"
    }
   ],
   "source": [
    "df"
   ]
  },
  {
   "cell_type": "code",
   "execution_count": 10,
   "metadata": {
    "collapsed": true
   },
   "outputs": [],
   "source": [
    "df[:3].to_clipboard(index = False)"
   ]
  },
  {
   "cell_type": "code",
   "execution_count": null,
   "metadata": {
    "collapsed": true
   },
   "outputs": [],
   "source": []
  }
 ],
 "metadata": {
  "kernelspec": {
   "display_name": "Python 2",
   "language": "python",
   "name": "python2"
  },
  "language_info": {
   "codemirror_mode": {
    "name": "ipython",
    "version": 2
   },
   "file_extension": ".py",
   "mimetype": "text/x-python",
   "name": "python",
   "nbconvert_exporter": "python",
   "pygments_lexer": "ipython2",
   "version": "2.7.5"
  }
 },
 "nbformat": 4,
 "nbformat_minor": 2
}
