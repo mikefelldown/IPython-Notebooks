{
 "cells": [
  {
   "cell_type": "code",
   "execution_count": 1,
   "metadata": {
    "collapsed": true
   },
   "outputs": [],
   "source": [
    "import os\n",
    "import sys\n",
    "import pandas as pd\n",
    "import pyodbc\n",
    "from datetime import datetime\n",
    "from dateutil import parser\n",
    "from glob import glob\n"
   ]
  },
  {
   "cell_type": "code",
   "execution_count": 2,
   "metadata": {
    "collapsed": true
   },
   "outputs": [],
   "source": [
    "os.chdir(r\"N:\\07_Geology\\07.9_QAQC\\40_Data\\43_Assays\\ALSChemex\\02_Data\")\n",
    "input_files = glob(\"*.csv\")"
   ]
  },
  {
   "cell_type": "code",
   "execution_count": 3,
   "metadata": {},
   "outputs": [
    {
     "data": {
      "text/plain": [
       "['TM17074569.csv',\n",
       " 'TM17075696.csv',\n",
       " 'TM17075700.csv',\n",
       " 'TM17075706.csv',\n",
       " 'TM17080005.csv',\n",
       " 'TM17080011.csv',\n",
       " 'TM17080018.csv',\n",
       " 'TM17087490.csv',\n",
       " 'TM17087494.csv',\n",
       " 'TM17087496.csv',\n",
       " 'TM17091830.csv',\n",
       " 'TM17091834.csv',\n",
       " 'TM17091843.csv',\n",
       " 'TM17091851.csv',\n",
       " 'TM17096307.csv',\n",
       " 'TM17096332.csv',\n",
       " 'TM17102837.csv',\n",
       " 'TM17102840.csv',\n",
       " 'TM17102842.csv',\n",
       " 'TM17107800.csv',\n",
       " 'TM17107804.csv',\n",
       " 'TM17107808.csv',\n",
       " 'TM17107821.csv',\n",
       " 'TM17107830.csv',\n",
       " 'TM17107832.csv',\n",
       " 'TM17119005.csv',\n",
       " 'TM17119010.csv',\n",
       " 'TM17119925.csv',\n",
       " 'TM17119936.csv',\n",
       " 'TM17119939.csv',\n",
       " 'TM17119953.csv',\n",
       " 'TM17119958.csv',\n",
       " 'TM17119966.csv',\n",
       " 'TM17119974.csv',\n",
       " 'TM17119979.csv',\n",
       " 'TM17119982.csv',\n",
       " 'TM17119985.csv',\n",
       " 'TM17119989.csv',\n",
       " 'TM17120887.csv']"
      ]
     },
     "execution_count": 3,
     "metadata": {},
     "output_type": "execute_result"
    }
   ],
   "source": [
    "input_files\n"
   ]
  },
  {
   "cell_type": "code",
   "execution_count": 7,
   "metadata": {},
   "outputs": [
    {
     "name": "stdout",
     "output_type": "stream",
     "text": [
      "connection created\n",
      "looking at file TM17074569.csv\n",
      "looking at file TM17075696.csv\n",
      "looking at file TM17075700.csv\n",
      "looking at file TM17075706.csv\n",
      "looking at file TM17080005.csv\n",
      "looking at file TM17080011.csv\n",
      "looking at file TM17080018.csv\n",
      "looking at file TM17087490.csv\n",
      "looking at file TM17087494.csv\n",
      "looking at file TM17087496.csv\n",
      "looking at file TM17091830.csv\n",
      "looking at file TM17091834.csv\n",
      "looking at file TM17091843.csv\n",
      "looking at file TM17091851.csv\n",
      "looking at file TM17096307.csv\n",
      "looking at file TM17096332.csv\n",
      "looking at file TM17102837.csv\n",
      "looking at file TM17102840.csv\n",
      "looking at file TM17102842.csv\n",
      "looking at file TM17107800.csv\n",
      "looking at file TM17107804.csv\n",
      "looking at file TM17107808.csv\n",
      "looking at file TM17107821.csv\n",
      "looking at file TM17107830.csv\n",
      "looking at file TM17107832.csv\n",
      "looking at file TM17119005.csv\n",
      "Inserting cert TM17119005.csv\n",
      "looking at file TM17119010.csv\n",
      "looking at file TM17119925.csv\n",
      "looking at file TM17119936.csv\n",
      "looking at file TM17119939.csv\n",
      "Inserting cert TM17119939.csv\n",
      "looking at file TM17119953.csv\n",
      "looking at file TM17119958.csv\n",
      "looking at file TM17119966.csv\n",
      "Inserting cert TM17119966.csv\n",
      "looking at file TM17119974.csv\n",
      "looking at file TM17119979.csv\n",
      "looking at file TM17119982.csv\n",
      "Inserting cert TM17119982.csv\n",
      "looking at file TM17119985.csv\n",
      "looking at file TM17119989.csv\n",
      "looking at file TM17120887.csv\n"
     ]
    }
   ],
   "source": [
    "conn = pyodbc.connect(r'DSN=OKLG_QAQC;Trusted_Connection=True')\n",
    "if conn:\n",
    "    print \"connection created\"\n",
    "for f in input_files:\n",
    "    testsql = \"Select * from LabJobCert where CertNum = '{}'\".format(f.replace('.csv',''))\n",
    "    test = conn.execute(testsql)\n",
    "    if not test.fetchone():\n",
    "        print \"Inserting cert {}\".format(f)\n",
    "        input_file = r\"N:\\07_Geology\\07.9_QAQC\\40_Data\\43_Assays\\ALSChemex\\02_Data\\{}\".format(f)\n",
    "        csv = pd.read_csv(input_file, sep = ',', skiprows = [0,1,2,3,4,5,6,7,11,12,13,14,15,16], header = [0,1,2], index_col = 0)\n",
    "        header = pd.read_csv(input_file, nrows = 8, index_col = 0, usecols= [0,1])\n",
    "        print header\n",
    "        row = [datetime.strftime(datetime.today(), \"%Y%m%d %H:%M:%S %p\"), header.index.name, header.ix['CLIENT'][0], \\\n",
    "               int(header.ix['# of SAMPLES'][0]),datetime.strftime(parser.parse(header.ix['DATE RECEIVED'][0], \\\n",
    "               dayfirst = True), \"%Y%m%d %H:%M:%S %p\"), \\\n",
    "               datetime.strftime(parser.parse(header.ix['DATE COMPLETED'][0], dayfirst = True), \"%Y%m%d %H:%M:%S %p\"), \\\n",
    "               header.ix['PROJECT'][0],\"NULL\",header.ix['PO NUMBER'][0],\"ALSChemex\",header.index.name]\n",
    "        conn.execute(\"INSERT INTO dbo.LabJobCert (LoadDate, CertNum, Client, NumSamples,\\\n",
    "                 DateRecieved, DateFinalised, Project, Comment, PONumber, Lab, OrigFileName) \\\n",
    "                 values ('{}','{}','{}','{}','{}','{}','{}',{},'{}','{}','{}')\".format(*row))\n",
    "        conn.commit()\n",
    "        for this in csv.iterrows():\n",
    "            for x, y in  this[1].iteritems():\n",
    "                if x[2] <> 'NA' and not pd.isnull(y):\n",
    "                    if this[0].startswith(\"Blank\"):\n",
    "                        SampleType = 'Lab Blank'\n",
    "                        ref = 'Blank'\n",
    "                    elif this[0].startswith('Ch:'):\n",
    "                        SampleType = 'Lab Check'\n",
    "                        ref = this[0].replace('Ch:','').strip()\n",
    "                    elif this[0].startswith('St'):\n",
    "                        SampleType = 'Lab Standard'\n",
    "                        ref = this[0][this[0].index(\":\")+1: this[0].index(\"_\")]\n",
    "                    else:\n",
    "                        SampleType = 'Original'\n",
    "                        ref = None\n",
    "                    name = \"{1}_{0}_{2}\".format(*x).replace(\" \",\"\")    \n",
    "                    row =  [datetime.strftime(datetime.today(), \"%Y%m%d %H:%M:%S %p\"), header.index.name, this[0], SampleType, name, ref, y, header.index.name, 1, x[1], x[2], x[0]]\n",
    "                    conn.execute(\"INSERT INTO dbo.LabJobResults (LoadDate, CertNum, SampleID, SampleType, Name, Reference, Value, OrigFileName, Preferred, Element, Unit, Method)\\\n",
    "                    values ('{}','{}','{}','{}','{}','{}','{}','{}','{}','{}','{}','{}')\".format(*row))\n",
    "                    conn.commit()\n"
   ]
  },
  {
   "cell_type": "code",
   "execution_count": 8,
   "metadata": {
    "collapsed": true
   },
   "outputs": [],
   "source": [
    "conn.close()"
   ]
  },
  {
   "cell_type": "code",
   "execution_count": null,
   "metadata": {
    "collapsed": true
   },
   "outputs": [],
   "source": []
  }
 ],
 "metadata": {
  "kernelspec": {
   "display_name": "Python 2",
   "language": "python",
   "name": "python2"
  },
  "language_info": {
   "codemirror_mode": {
    "name": "ipython",
    "version": 2
   },
   "file_extension": ".py",
   "mimetype": "text/x-python",
   "name": "python",
   "nbconvert_exporter": "python",
   "pygments_lexer": "ipython2",
   "version": "2.7.5"
  }
 },
 "nbformat": 4,
 "nbformat_minor": 1
}
