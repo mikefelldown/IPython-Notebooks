{
 "cells": [
  {
   "cell_type": "code",
   "execution_count": 1,
   "metadata": {
    "collapsed": true
   },
   "outputs": [],
   "source": [
    "import os\n",
    "import pandas as pd\n",
    "import numpy as np\n",
    "from pandas import DataFrame\n",
    "from datetime import datetime, timedelta\n",
    "from matplotlib import pyplot as plt\n",
    "from sqlalchemy import create_engine"
   ]
  },
  {
   "cell_type": "code",
   "execution_count": 2,
   "metadata": {},
   "outputs": [
    {
     "name": "stdout",
     "output_type": "stream",
     "text": [
      "Using matplotlib backend: TkAgg\n",
      "Populating the interactive namespace from numpy and matplotlib\n"
     ]
    },
    {
     "name": "stderr",
     "output_type": "stream",
     "text": [
      "c:\\python27\\arcgis10.2\\lib\\site-packages\\IPython\\core\\magics\\pylab.py:161: UserWarning: pylab import has clobbered these variables: ['datetime']\n",
      "`%matplotlib` prevents importing * from pylab and numpy\n",
      "  \"\\n`%matplotlib` prevents importing * from pylab and numpy\"\n"
     ]
    }
   ],
   "source": [
    "%pylab"
   ]
  },
  {
   "cell_type": "code",
   "execution_count": 32,
   "metadata": {
    "collapsed": true
   },
   "outputs": [],
   "source": [
    "engine = create_engine(\"mssql+pyodbc://gt_KL_Master\")"
   ]
  },
  {
   "cell_type": "code",
   "execution_count": 33,
   "metadata": {
    "collapsed": true
   },
   "outputs": [],
   "source": [
    "sql_proj = \"Select NomProjet from tblNomProjet\""
   ]
  },
  {
   "cell_type": "code",
   "execution_count": 34,
   "metadata": {
    "collapsed": true
   },
   "outputs": [],
   "source": [
    "projs = pd.read_sql(sql_proj, engine)"
   ]
  },
  {
   "cell_type": "code",
   "execution_count": 37,
   "metadata": {},
   "outputs": [
    {
     "name": "stdout",
     "output_type": "stream",
     "text": [
      "No samples in project Casan.\n",
      "No samples in project Kinabik.\n",
      "No samples in project Diamond Lake.\n",
      "No samples in project Misema Lake.\n",
      "No samples in project Anoki-McBean.\n"
     ]
    }
   ],
   "source": [
    "for i in projs['NomProjet']:\n",
    "    sql = \"Select b.Nom as HoleID, c.NuEchantillon as SampleID, c.ProfDe as From_m, c.ProfA as To_m, c.Col122 as Plot_Au \\\n",
    "    from tblNomProjet a join tblNuSondage b on a.idkey = b.idNomProjet \\\n",
    "    join tblAnalReg c on b.idkey = c.idNuSondage where a.NomProjet = '{}' and isnumeric(c.Col122) = 1\".format(i)\n",
    "    df = pd.read_sql(sql, engine)\n",
    "    if len(df):\n",
    "        df.Plot_Au = df.Plot_Au.astype(np.float)\n",
    "        fig = plt.figure()\n",
    "        ax.set_title(\"Master: {}\".format(i), fontweight = 'bold', fontsize = '16')\n",
    "        ax = fig.add_subplot(1,1,1)\n",
    "        n, bins, patches = ax.hist(df.Plot_Au, bins = 50)\n",
    "        ax.set_yscale('log')\n",
    "        ax.set_xlabel('Au (g/t)')\n",
    "    else:\n",
    "        print \"No samples in project {}.\".format(i)"
   ]
  },
  {
   "cell_type": "code",
   "execution_count": 8,
   "metadata": {},
   "outputs": [],
   "source": [
    "n, bins, patches = ax.hist(df.Plot_Au, bins = 50)"
   ]
  },
  {
   "cell_type": "code",
   "execution_count": 16,
   "metadata": {},
   "outputs": [
    {
     "data": {
      "text/plain": [
       "[<matplotlib.lines.Line2D at 0xc3f8cf0>]"
      ]
     },
     "execution_count": 16,
     "metadata": {},
     "output_type": "execute_result"
    }
   ],
   "source": [
    "ax.plot(bins[:-1],cumul)"
   ]
  },
  {
   "cell_type": "code",
   "execution_count": 17,
   "metadata": {},
   "outputs": [
    {
     "data": {
      "text/plain": [
       "array([ 4136.,  4182.,  4193.,  4200.,  4205.,  4208.,  4208.,  4209.,\n",
       "        4210.,  4210.,  4211.,  4211.,  4211.,  4211.,  4211.,  4211.,\n",
       "        4211.,  4211.,  4211.,  4211.,  4212.,  4212.,  4212.,  4212.,\n",
       "        4212.,  4212.,  4212.,  4212.,  4212.,  4212.,  4212.,  4212.,\n",
       "        4212.,  4212.,  4212.,  4212.,  4212.,  4212.,  4212.,  4212.,\n",
       "        4212.,  4212.,  4212.,  4212.,  4212.,  4212.,  4212.,  4212.,\n",
       "        4212.,  4213.])"
      ]
     },
     "execution_count": 17,
     "metadata": {},
     "output_type": "execute_result"
    }
   ],
   "source": [
    "cumul"
   ]
  },
  {
   "cell_type": "code",
   "execution_count": 20,
   "metadata": {
    "collapsed": true
   },
   "outputs": [],
   "source": [
    "data = DataFrame(np.random.normal(0, 5, 1000))"
   ]
  },
  {
   "cell_type": "code",
   "execution_count": 25,
   "metadata": {
    "collapsed": true
   },
   "outputs": [],
   "source": [
    "fig, ax  = plt.subplots(1)"
   ]
  },
  {
   "cell_type": "code",
   "execution_count": 26,
   "metadata": {},
   "outputs": [
    {
     "data": {
      "text/plain": [
       "{'boxes': [<matplotlib.lines.Line2D at 0x104808b0>],\n",
       " 'caps': [<matplotlib.lines.Line2D at 0x104711f0>,\n",
       "  <matplotlib.lines.Line2D at 0x10471a70>],\n",
       " 'fliers': [<matplotlib.lines.Line2D at 0x10488710>],\n",
       " 'means': [<matplotlib.lines.Line2D at 0x10488430>],\n",
       " 'medians': [<matplotlib.lines.Line2D at 0x104880f0>],\n",
       " 'whiskers': [<matplotlib.lines.Line2D at 0x104809b0>,\n",
       "  <matplotlib.lines.Line2D at 0x10480c30>]}"
      ]
     },
     "execution_count": 26,
     "metadata": {},
     "output_type": "execute_result"
    }
   ],
   "source": [
    "ax.boxplot(data[0], showmeans = True)"
   ]
  },
  {
   "cell_type": "code",
   "execution_count": 27,
   "metadata": {},
   "outputs": [
    {
     "data": {
      "text/plain": [
       "<matplotlib.text.Annotation at 0x10491350>"
      ]
     },
     "execution_count": 27,
     "metadata": {},
     "output_type": "execute_result"
    }
   ],
   "source": [
    "datarange = ax.get_ylim()[1] - ax.get_ylim()[0]\n",
    "shift = datarange * 0.01\n",
    "ax.annotate(\"Median\", (1.1, np.median(data[0]) - shift))\n",
    "ax.annotate(\"Mean\", (1.1, np.mean(data[0]) - shift))\n",
    "ax.annotate(\"Lower Quartile\", (1.1, np.percentile(data[0], 25)- shift))\n",
    "ax.annotate(\"Upper Quartile\", (1.1, np.percentile(data[0], 75)- shift))\n",
    "iqr = np.percentile(data[0], 75) - np.percentile(data[0], 25)\n",
    "ax.annotate(\"Maximum\", (1.1, np.percentile(data[0], 75) + 1.5 * iqr))\n",
    "ax.annotate(\"Minimum\", (1.1, np.percentile(data[0], 25) - 1.5 * iqr))\n",
    "ax.annotate(\"Outcasts\", (1.1, min(data[0][data[0] > np.percentile(data[0], 75) + 1.5 * iqr] ) + shift))\n",
    "ax.annotate(\"Outcasts\", (1.1, max(data[0][data[0] < np.percentile(data[0], 25) - 1.5 * iqr]) - shift))"
   ]
  },
  {
   "cell_type": "code",
   "execution_count": null,
   "metadata": {
    "collapsed": true
   },
   "outputs": [],
   "source": []
  }
 ],
 "metadata": {
  "kernelspec": {
   "display_name": "Python 2",
   "language": "python",
   "name": "python2"
  },
  "language_info": {
   "codemirror_mode": {
    "name": "ipython",
    "version": 2
   },
   "file_extension": ".py",
   "mimetype": "text/x-python",
   "name": "python",
   "nbconvert_exporter": "python",
   "pygments_lexer": "ipython2",
   "version": "2.7.5"
  }
 },
 "nbformat": 4,
 "nbformat_minor": 2
}
