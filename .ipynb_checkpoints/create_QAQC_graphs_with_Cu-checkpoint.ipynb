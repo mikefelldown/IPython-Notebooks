{
 "cells": [
  {
   "cell_type": "code",
   "execution_count": 1,
   "metadata": {
    "collapsed": true
   },
   "outputs": [],
   "source": [
    "import os, pyodbc\n",
    "import pandas as pd\n",
    "#import numpy as np\n",
    "from pandas import DataFrame\n",
    "from datetime import datetime, timedelta\n",
    "from matplotlib import pyplot as plt\n",
    "from sqlalchemy import create_engine\n"
   ]
  },
  {
   "cell_type": "code",
   "execution_count": 2,
   "metadata": {},
   "outputs": [
    {
     "name": "stdout",
     "output_type": "stream",
     "text": [
      "Using matplotlib backend: TkAgg\n",
      "Populating the interactive namespace from numpy and matplotlib\n"
     ]
    },
    {
     "name": "stderr",
     "output_type": "stream",
     "text": [
      "c:\\python27\\arcgis10.2\\lib\\site-packages\\IPython\\core\\magics\\pylab.py:161: UserWarning: pylab import has clobbered these variables: ['datetime']\n",
      "`%matplotlib` prevents importing * from pylab and numpy\n",
      "  \"\\n`%matplotlib` prevents importing * from pylab and numpy\"\n"
     ]
    }
   ],
   "source": [
    "%pylab"
   ]
  },
  {
   "cell_type": "markdown",
   "metadata": {},
   "source": [
    "Connect to SQL db and create dataframe"
   ]
  },
  {
   "cell_type": "code",
   "execution_count": 3,
   "metadata": {
    "collapsed": true
   },
   "outputs": [],
   "source": [
    "engine = create_engine(\"mssql+pyodbc://gt_KL_Master\")\n"
   ]
  },
  {
   "cell_type": "markdown",
   "metadata": {},
   "source": [
    "Query for Au and Cu standards"
   ]
  },
  {
   "cell_type": "code",
   "execution_count": 4,
   "metadata": {
    "collapsed": true
   },
   "outputs": [],
   "source": [
    "sql = \"Select  b.Nom as 'HOLEID', c.NuEchantillon as 'SAMPLEID', 'Au' as 'Element', c.Reference as 'STD', \\\n",
    "c.Col101 as 'val', e.DateEmis as 'Date' \\\n",
    "from tblNomProjet a join tblNuSondage b on a.idkey = b.idNomProjet \\\n",
    "join tblQAQC c on b.idkey = c.idNuSondage \\\n",
    "join tblCertEchQAQC d on c.idkey = d.idQAQC \\\n",
    "join tblAnalRegCertificat e on d.NuCertificat = e.NuCertificat \\\n",
    "where c.TypeQAQC = 3 and c.Col101 is not NULL \\\n",
    "and exists (Select * from tblTypeStandard f where c.Reference = f.Abreviation and f.Element = 'Col101') \\\n",
    "and  e.DateEmis >= DATEADD(MONTH, -3, GETDATE()) and c.Reference <> 'CM24'  and isnumeric(Col101) = 1\\\n",
    "\\\n",
    "UNION \\\n",
    "\\\n",
    "Select  b.Nom as 'HOLEID', c.NuEchantillon as 'SAMPLEID', 'Cu' as 'Element', c.Reference as 'STD', \\\n",
    "COALESCE(CAST(c.Col99 as float), CAST(c.Col98 as float)/10000) as 'val', e.DateEmis as 'Date' \\\n",
    "from tblNomProjet a join tblNuSondage b on a.idkey = b.idNomProjet \\\n",
    "join tblQAQC c on b.idkey = c.idNuSondage \\\n",
    "join tblCertEchQAQC d on c.idkey = d.idQAQC \\\n",
    "join tblAnalRegCertificat e on d.NuCertificat = e.NuCertificat \\\n",
    "where c.TypeQAQC = 3 and (c.Col98 is not NULL or c.Col99 is not NULL)\\\n",
    "and e.DateEmis >= DATEADD(MONTH, -3, GETDATE()) and exists (Select * from tblTypeStandard  f where   f.Abreviation = c.Reference \\\n",
    "and f.Element in ('Col98','Col99'))\"\n"
   ]
  },
  {
   "cell_type": "code",
   "execution_count": 22,
   "metadata": {
    "collapsed": true
   },
   "outputs": [],
   "source": [
    "sql = \"Select  b.Nom as 'HOLEID', c.NuEchantillon as 'SAMPLEID', 'Au' as 'Element', c.Reference as 'STD', \\\n",
    "c.Col101 as 'val', e.DateEmis as 'Date' \\\n",
    "from tblNomProjet a join tblNuSondage b on a.idkey = b.idNomProjet \\\n",
    "join tblQAQC c on b.idkey = c.idNuSondage \\\n",
    "join tblCertEchQAQC d on c.idkey = d.idQAQC \\\n",
    "join tblAnalRegCertificat e on d.NuCertificat = e.NuCertificat \\\n",
    "where c.TypeQAQC = 3 and c.Col101 is not NULL \\\n",
    "and  e.DateEmis BETWEEN '2017-01-01' and '2017-07-01'\\\n",
    "and c.Reference <> 'CM24'  and isnumeric(Col101) = 1\\\n",
    "\\\n",
    "UNION \\\n",
    "\\\n",
    "Select  b.Nom as 'HOLEID', c.NuEchantillon as 'SAMPLEID', 'Cu' as 'Element', c.Reference as 'STD', \\\n",
    "COALESCE(CAST(c.Col98 as float), CAST(c.Col99 as float)/10000) as 'val', e.DateEmis as 'Date' \\\n",
    "from tblNomProjet a join tblNuSondage b on a.idkey = b.idNomProjet \\\n",
    "join tblQAQC c on b.idkey = c.idNuSondage \\\n",
    "join tblCertEchQAQC d on c.idkey = d.idQAQC \\\n",
    "join tblAnalRegCertificat e on d.NuCertificat = e.NuCertificat \\\n",
    "where c.TypeQAQC = 3 and (c.Col99 is not NULL or c.Col98 is not NULL)\\\n",
    "and e.DateEmis BETWEEN '2017-01-01' and '2017-07-01'  and exists (Select * from tblTypeStandard  f where   f.Abreviation = c.Reference \\\n",
    "and f.Element in ('Col98','Col99'))\"\n"
   ]
  },
  {
   "cell_type": "code",
   "execution_count": 5,
   "metadata": {
    "collapsed": true
   },
   "outputs": [],
   "source": [
    "df = pd.read_sql(sql, engine) #, index_col = 'Date')"
   ]
  },
  {
   "cell_type": "code",
   "execution_count": 6,
   "metadata": {
    "collapsed": true
   },
   "outputs": [],
   "source": [
    "df.index = df.Date"
   ]
  },
  {
   "cell_type": "code",
   "execution_count": 7,
   "metadata": {
    "collapsed": true
   },
   "outputs": [],
   "source": [
    "groups = df.groupby(['Element','STD']).mean()\n",
    "graphs = groups.index.get_values()"
   ]
  },
  {
   "cell_type": "markdown",
   "metadata": {},
   "source": [
    "Generate Standard Graph"
   ]
  },
  {
   "cell_type": "code",
   "execution_count": 8,
   "metadata": {
    "collapsed": true
   },
   "outputs": [],
   "source": [
    "# with plt.xkcd():\n",
    "fig = plt.figure(facecolor = 'w', figsize = (10, 12), tight_layout = False)\n",
    "#fig.suptitle('CRM Analyses for Q1 and Q2 of 2017', fontsize = 16)\n",
    "fig.suptitle('CRM Analyses for week of %s' % (datetime.date.today() + datetime.timedelta(4 - \\\n",
    "               datetime.date.weekday(datetime.date.today()))).strftime('Friday, %B %d, %Y'), fontsize = 16)\n",
    "#fig.figimage(logo, 700,1025, zorder=1)\n",
    "length = len(graphs)\n",
    "\n",
    "for a, g in enumerate(graphs):   \n",
    "\n",
    "    ax1 = fig.add_subplot(length,1,a+1)\n",
    "    time_buffer = max((df.index.max() - df.index.min()) * 0.05, timedelta(5))\n",
    "    datarange = [df.index.min() - time_buffer, df.index.max()+ time_buffer]\n",
    "\n",
    "    #standard graphs  \n",
    "    if g[0] == 'Au':\n",
    "        el = \"Col101\"\n",
    "        unit = \"g/t\"\n",
    "    elif g[0] == 'Cu':\n",
    "        el = \"Col99\"\n",
    "        unit = \"%\"\n",
    "    std = pd.read_sql(\"Select Moyenne as 'avg', Ecart_type as 'sigma' from tblTypeStandard where Element \\\n",
    "    = '{}' and Abreviation = '{}'\".format(el, g[1]), engine)\n",
    "    std_mean = std.values[0][0]\n",
    "    std_sd = std.values[0][1]\n",
    "    subset = df[(df.STD == g[1]) & (df.Element == g[0])]\n",
    "    ax1.plot(datarange, [subset.val.mean(), \\\n",
    "                         subset.val.mean()], 'r-', \\\n",
    "              label = 'measured avg = %0.3f' % (subset.val.mean()), linewidth = 1)\n",
    "    ax1.plot()\n",
    "    ax1.plot(datarange, [std_mean, std_mean], 'b-', label = 'published avg = %0.3f' % (std_mean), linewidth = 1)\n",
    "    _2sig1 = subset.val.mean() + 2 * subset.val.std()\n",
    "    _2sig2 = subset.val.mean() - 2 * subset.val.std()\n",
    "    _3sig1 = subset.val.mean() + 3 * subset.val.std()\n",
    "    _3sig2 = subset.val.mean() - 3 * subset.val.std()\n",
    "    _2sigm1 = std_mean + 2 * std_sd\n",
    "    _2sigm2 = std_mean - 2 * std_sd\n",
    "    _3sigm1 = std_mean + 3 * std_sd\n",
    "    _3sigm2 = std_mean - 3 * std_sd\n",
    "    ax1.plot(datarange, [_2sig1,_2sig1], 'r--', label = u'measured 2 sigma', linewidth = 1)\n",
    "    ax1.plot(datarange, [_2sig2,_2sig2], 'r--')\n",
    "    ax1.plot(datarange, [_3sig1,_3sig1], 'r:', label = u'meausred 3 sigma', linewidth = 1)\n",
    "    ax1.plot(datarange, [_3sig2,_3sig2], 'r:')\n",
    "    ax1.plot(datarange, [_2sigm1,_2sigm1], 'b--', label = u'published 2 sigma', linewidth = 1)\n",
    "    ax1.plot(datarange, [_2sigm2,_2sigm2], 'b--')\n",
    "    ax1.plot(datarange, [_3sigm1,_3sigm1], 'b:', label = u'published 3 sigma', linewidth = 1)\n",
    "    ax1.plot(datarange, [_3sigm2,_3sigm2], 'b:', linewidth = 2)\n",
    "    ax1.plot(subset.val, 'wo', label = '_nolegend_')\n",
    "    ax1.plot(subset.val, 'k.', label = '_nolegend_')\n",
    "    labels = subset['SAMPLEID'][(subset.val < std_mean - 2 * std_sd) |\\\n",
    "                          (subset.val > std_mean + 2 * std_sd)]\n",
    "    for d, l in labels.iteritems():\n",
    "         ax1.annotate(l, xy = (d, subset.val[subset.SAMPLEID == l]), xytext=(5, 5), textcoords= 'offset points', color = 'r')\n",
    "    ylim = ax1.get_ylim()\n",
    "    yshift = (ylim[1] - ylim[0]) /10.0\n",
    "\n",
    "    ax1.set_ylim(ylim[0] - yshift, ylim[1] + yshift)\n",
    "    ax1.legend(loc = 'upper left', fontsize = 'small')\n",
    "    ax1.set_title('%s Analyses for %s, n= %d' % (g[0], g[1], subset.val.count()), fontsize = 12)\n",
    "\n",
    "    ax1.set_ylabel(g[0] + \" \" + unit)\n",
    "    xticks = ax1.get_xticks()\n",
    "    date_labels = [datetime.date.fromordinal(int(f)) for f in xticks]\n",
    "    ax1.set_xticklabels([])\n",
    "    if a == length -1:\n",
    "      ax1.set_xticklabels([x.strftime('%d-%b-%y') for x in date_labels], rotation = 45)\n",
    "    \n",
    "#fig.savefig('C:\\\\Temp\\\\crm.jpg', dpi = 200)  \n",
    "\n",
    "\n"
   ]
  }
 ],
 "metadata": {
  "kernelspec": {
   "display_name": "Python 2",
   "language": "python",
   "name": "python2"
  },
  "language_info": {
   "codemirror_mode": {
    "name": "ipython",
    "version": 2
   },
   "file_extension": ".py",
   "mimetype": "text/x-python",
   "name": "python",
   "nbconvert_exporter": "python",
   "pygments_lexer": "ipython2",
   "version": "2.7.5"
  }
 },
 "nbformat": 4,
 "nbformat_minor": 1
}
