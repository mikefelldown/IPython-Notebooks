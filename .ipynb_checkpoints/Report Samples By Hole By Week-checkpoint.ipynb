{
 "cells": [
  {
   "cell_type": "code",
   "execution_count": 16,
   "metadata": {
    "collapsed": true
   },
   "outputs": [],
   "source": [
    "import pandas as pd\n",
    "import pyodbc\n",
    "from datetime import date\n",
    "from datetime import timedelta"
   ]
  },
  {
   "cell_type": "code",
   "execution_count": 39,
   "metadata": {},
   "outputs": [],
   "source": [
    "conn = pyodbc.connect(r'DSN=gt_KL_Master;Trusted_Connection=True')"
   ]
  },
  {
   "cell_type": "code",
   "execution_count": 40,
   "metadata": {},
   "outputs": [],
   "source": [
    "isodate = date.isocalendar(date.today())\n",
    "startdate = date(isodate[0],1,1) + timedelta((isodate[1]-1) * 7 -1)\n",
    "enddate = startdate + timedelta(6)\n",
    "sql = \"Select NuCertificat from tblAnalRegCertificat where DateEmis between '\" + startdate.strftime('%Y-%m-%d') +\\\n",
    "    \"' and '\" + enddate.strftime('%Y-%m-%d') + \"'\"\n",
    "certs = conn.execute(sql).fetchall()"
   ]
  },
  {
   "cell_type": "code",
   "execution_count": 41,
   "metadata": {},
   "outputs": [
    {
     "data": {
      "text/plain": [
       "[(u'TM17171961', ),\n",
       " (u'A17-08746Final', ),\n",
       " (u'TM17178068', ),\n",
       " (u'TM17171956', ),\n",
       " (u'TM17178094', ),\n",
       " (u'TM17178069', )]"
      ]
     },
     "execution_count": 41,
     "metadata": {},
     "output_type": "execute_result"
    }
   ],
   "source": [
    "certs"
   ]
  },
  {
   "cell_type": "code",
   "execution_count": 47,
   "metadata": {},
   "outputs": [
    {
     "name": "stdout",
     "output_type": "stream",
     "text": [
      "TM17171961 (u'Amalgamated Kirkland', u'AKC17_138', Decimal('1755.5000000000000000'), Decimal('1922.0000000000000000'), 225)\n",
      "A17-08746Final None\n",
      "TM17178068 (u'Skead-MacGregor', u'SM17_06', Decimal('240.0000000000000000'), Decimal('250.5000000000000000'), 14)\n",
      "TM17171956 (u'UpperBeaver', u'UB17_437', Decimal('4.6000000000000000'), Decimal('117.0000000000000000'), 228)\n",
      "TM17178094 None\n",
      "TM17178069 (u'Skead-MacGregor', u'SM17_07', Decimal('15.0000000000000000'), Decimal('121.5000000000000000'), 148)\n"
     ]
    }
   ],
   "source": [
    "for c in certs:\n",
    "    sql2 = \"Select a.NomProjet, b.Nom, Min(c.ProfDe), Max(c.ProfA), count(c.NuEchantillon) from tblNomProjet a join tblNuSondage b on a.idkey = b.idNomProjet \\\n",
    "    join tblAnalReg c on b.idkey = c.idNuSondage join tblCertEchAnalyse d on c.idkey = d.idAnalReg \\\n",
    "    where d.NuCertificat = '{}' group by a.NomProjet, b.Nom\".format(c[0])\n",
    "    cert_data = conn.execute(sql2)\n",
    "    print c[0], cert_data.fetchone()"
   ]
  },
  {
   "cell_type": "code",
   "execution_count": null,
   "metadata": {
    "collapsed": true
   },
   "outputs": [],
   "source": []
  }
 ],
 "metadata": {
  "kernelspec": {
   "display_name": "Python 2",
   "language": "python",
   "name": "python2"
  },
  "language_info": {
   "codemirror_mode": {
    "name": "ipython",
    "version": 2
   },
   "file_extension": ".py",
   "mimetype": "text/x-python",
   "name": "python",
   "nbconvert_exporter": "python",
   "pygments_lexer": "ipython2",
   "version": "2.7.5"
  }
 },
 "nbformat": 4,
 "nbformat_minor": 2
}
