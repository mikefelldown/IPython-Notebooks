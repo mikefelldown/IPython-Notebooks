{
 "cells": [
  {
   "cell_type": "code",
   "execution_count": 1,
   "metadata": {
    "collapsed": true
   },
   "outputs": [],
   "source": [
    "import os\n",
    "import pandas as pd\n",
    "import numpy as np\n",
    "from pandas import DataFrame\n",
    "from datetime import datetime, timedelta\n",
    "from matplotlib import pyplot as plt\n",
    "from sqlalchemy import create_engine"
   ]
  },
  {
   "cell_type": "code",
   "execution_count": 2,
   "metadata": {},
   "outputs": [
    {
     "name": "stdout",
     "output_type": "stream",
     "text": [
      "Using matplotlib backend: TkAgg\n",
      "Populating the interactive namespace from numpy and matplotlib\n"
     ]
    },
    {
     "name": "stderr",
     "output_type": "stream",
     "text": [
      "c:\\python27\\arcgis10.2\\lib\\site-packages\\IPython\\core\\magics\\pylab.py:161: UserWarning: pylab import has clobbered these variables: ['datetime']\n",
      "`%matplotlib` prevents importing * from pylab and numpy\n",
      "  \"\\n`%matplotlib` prevents importing * from pylab and numpy\"\n"
     ]
    }
   ],
   "source": [
    "%pylab"
   ]
  },
  {
   "cell_type": "code",
   "execution_count": 3,
   "metadata": {
    "collapsed": true
   },
   "outputs": [],
   "source": [
    "engine = create_engine(\"mssql+pyodbc://gt_QAQC_Tools\")"
   ]
  },
  {
   "cell_type": "code",
   "execution_count": 4,
   "metadata": {
    "collapsed": true
   },
   "outputs": [],
   "source": [
    "sql = \"Select CertNum, SampleID, SampleType, Reference, DateFinalised, Pass2mm, Pass75um, [WT. SAMPLE] from \\\n",
    "(Select a.CertNum, a.DateFinalised, b.SampleID, b.SampleType, b.Reference, b.Element, b.Value \\\n",
    "from dbo.LabJobCert a join dbo.LabJobResults b on a.CertNum = b.CertNum \\\n",
    "where DATEPART(YYYY, a.DateFinalised) = 2017 and b.Element in ('Pass2mm','Pass75um', 'WT. Sample')) as sourceTable PIVOT \\\n",
    "(MIN(Value) for Element in ([Pass2mm], [Pass75um], [WT. SAMPLE])) as pivotTable\"\n"
   ]
  },
  {
   "cell_type": "code",
   "execution_count": 5,
   "metadata": {
    "collapsed": true
   },
   "outputs": [],
   "source": [
    "df = pd.read_sql(sql, engine, index_col = 'DateFinalised')"
   ]
  },
  {
   "cell_type": "code",
   "execution_count": 87,
   "metadata": {
    "collapsed": true
   },
   "outputs": [],
   "source": [
    "plt.style.use('seaborn-notebook')\n",
    "fig = plt.figure()\n",
    "ax1 = fig.add_subplot(1,1,1)"
   ]
  },
  {
   "cell_type": "code",
   "execution_count": 71,
   "metadata": {},
   "outputs": [
    {
     "data": {
      "text/plain": [
       "<matplotlib.legend.Legend at 0xa6e5f30>"
      ]
     },
     "execution_count": 71,
     "metadata": {},
     "output_type": "execute_result"
    }
   ],
   "source": [
    "groups = df.groupby('Reference')\n",
    "for key, group in groups:\n",
    "    if key == 'None':\n",
    "        ax1.plot(group['WT. SAMPLE'], label = key, marker = '+', linestyle = '')\n",
    "ax1.legend(loc = 'best')    "
   ]
  },
  {
   "cell_type": "code",
   "execution_count": 88,
   "metadata": {},
   "outputs": [
    {
     "data": {
      "text/plain": [
       "<matplotlib.text.Text at 0xf01d1f0>"
      ]
     },
     "execution_count": 88,
     "metadata": {},
     "output_type": "execute_result"
    }
   ],
   "source": [
    "ax1.plot(df['Pass2mm'], \"b.\")\n",
    "datarange = [df.index.max(), df.index.min()]\n",
    "_5pct = df[df.Pass2mm.notnull()].Pass2mm.astype(np.float).quantile(0.05)\n",
    "_10pct = df[df.Pass2mm.notnull()].Pass2mm.astype(np.float).quantile(0.1)\n",
    "ax1.plot(datarange, [_5pct,_5pct], 'b:', label = u'5th percentile', linewidth = 1.5)\n",
    "ax1.plot(datarange, [_10pct,_10pct], 'b--', label = u'10th percentile', linewidth = 1.5)\n",
    "ax1.plot((ax1.get_xlim()),(70, 70), 'r-', label = u\"Threshold\")\n",
    "ax1.legend(loc = 'best')\n",
    "ax1.set_xlim(datetime.date(2017,2,27), datetime.date(2017,7,1))\n",
    "xticks = ax1.get_xticks()\n",
    "date_labels = [datetime.date.fromordinal(int(f)) for f in xticks]\n",
    "ax1.set_xticklabels([x.strftime('%d-%b-%y') for x in date_labels], rotation = 45)\n",
    "ax1.set_ylim((40,100))\n",
    "ax1.set_ylabel(\"Passed %\")"
   ]
  },
  {
   "cell_type": "code",
   "execution_count": 66,
   "metadata": {},
   "outputs": [
    {
     "data": {
      "text/plain": [
       "[<matplotlib.text.Text at 0xc64fe30>,\n",
       " <matplotlib.text.Text at 0xc658990>,\n",
       " <matplotlib.text.Text at 0xc66cdb0>,\n",
       " <matplotlib.text.Text at 0xc679170>,\n",
       " <matplotlib.text.Text at 0xc679510>,\n",
       " <matplotlib.text.Text at 0xc6798b0>,\n",
       " <matplotlib.text.Text at 0xc7b4a50>,\n",
       " <matplotlib.text.Text at 0xc7b4df0>]"
      ]
     },
     "execution_count": 66,
     "metadata": {},
     "output_type": "execute_result"
    }
   ],
   "source": [
    "ax1.plot(df['Pass75um'], 'g+')\n",
    "datarange = [df.index.max(), df.index.min()]\n",
    "_5pct = df[df.Pass75um.notnull()].Pass75um.astype(np.float).quantile(0.05)\n",
    "_10pct = df[df.Pass75um.notnull()].Pass75um.astype(np.float).quantile(0.1)\n",
    "ax1.plot(datarange, [_5pct,_5pct], 'g:', label = u'5th percentile', linewidth = 1.5)\n",
    "ax1.plot(datarange, [_10pct,_10pct], 'g--', label = u'10th percentile', linewidth = 1.5)\n",
    "ax1.plot((ax1.get_xlim()), (85, 85), 'r-', label = u'Threshold')\n",
    "ax1.legend(loc = 'best')  \n",
    "ax1.set_xlim(datetime.date(2017,2,27), datetime.date(2017,7,1))\n",
    "xticks = ax1.get_xticks()\n",
    "date_labels = [datetime.date.fromordinal(int(f)) for f in xticks]\n",
    "ax1.set_xticklabels([x.strftime('%d-%b-%y') for x in date_labels], rotation = 45)"
   ]
  },
  {
   "cell_type": "code",
   "execution_count": 63,
   "metadata": {},
   "outputs": [
    {
     "data": {
      "text/plain": [
       "(736387.0, 736511.0)"
      ]
     },
     "execution_count": 63,
     "metadata": {},
     "output_type": "execute_result"
    }
   ],
   "source": [
    "ax1.set_xlim(datetime.date(2017,2,27), datetime.date(2017,7,1))"
   ]
  },
  {
   "cell_type": "code",
   "execution_count": 64,
   "metadata": {},
   "outputs": [
    {
     "data": {
      "text/plain": [
       "[<matplotlib.text.Text at 0xbdd69d0>,\n",
       " <matplotlib.text.Text at 0xbdea710>,\n",
       " <matplotlib.text.Text at 0xc55c7b0>,\n",
       " <matplotlib.text.Text at 0xc55cb50>,\n",
       " <matplotlib.text.Text at 0xc55cef0>,\n",
       " <matplotlib.text.Text at 0xc5672b0>,\n",
       " <matplotlib.text.Text at 0xbd5fd30>,\n",
       " <matplotlib.text.Text at 0xc588510>]"
      ]
     },
     "execution_count": 64,
     "metadata": {},
     "output_type": "execute_result"
    }
   ],
   "source": [
    "ax1.set_xticklabels(ax1.get_xticklabels(), rotation = 45)"
   ]
  },
  {
   "cell_type": "code",
   "execution_count": null,
   "metadata": {
    "collapsed": true
   },
   "outputs": [],
   "source": []
  }
 ],
 "metadata": {
  "kernelspec": {
   "display_name": "Python 2",
   "language": "python",
   "name": "python2"
  },
  "language_info": {
   "codemirror_mode": {
    "name": "ipython",
    "version": 2
   },
   "file_extension": ".py",
   "mimetype": "text/x-python",
   "name": "python",
   "nbconvert_exporter": "python",
   "pygments_lexer": "ipython2",
   "version": "2.7.5"
  }
 },
 "nbformat": 4,
 "nbformat_minor": 2
}
