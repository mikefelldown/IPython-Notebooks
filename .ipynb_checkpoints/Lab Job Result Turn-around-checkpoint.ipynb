{
 "cells": [
  {
   "cell_type": "code",
   "execution_count": 1,
   "metadata": {
    "collapsed": true
   },
   "outputs": [],
   "source": [
    "import pandas as pd\n",
    "from pandas import DataFrame\n",
    "import numpy as np\n",
    "import dateutil\n",
    "from datetime import datetime as dt\n",
    "import os\n",
    "from sqlalchemy import create_engine\n",
    "from matplotlib import pyplot as plt"
   ]
  },
  {
   "cell_type": "code",
   "execution_count": 2,
   "metadata": {},
   "outputs": [
    {
     "name": "stdout",
     "output_type": "stream",
     "text": [
      "Using matplotlib backend: TkAgg\n",
      "Populating the interactive namespace from numpy and matplotlib\n"
     ]
    }
   ],
   "source": [
    "%pylab\n",
    "engine = create_engine(\"mssql+pyodbc://gt_QAQC_Tools\")\n"
   ]
  },
  {
   "cell_type": "code",
   "execution_count": 3,
   "metadata": {
    "collapsed": true
   },
   "outputs": [],
   "source": [
    "sql = 'Select CertNum, NumSamples as n, DateRecieved as rec_date, DateFinalised\\\n",
    " as fin_date, Project, Lab from LabJobCert where DATEPART(YYYY, DateRecieved) = 2017 and Lab = \\'ALSChemex\\''"
   ]
  },
  {
   "cell_type": "code",
   "execution_count": 4,
   "metadata": {
    "collapsed": true
   },
   "outputs": [],
   "source": [
    "df = pd.read_sql(sql, engine, index_col = 'rec_date')\n"
   ]
  },
  {
   "cell_type": "code",
   "execution_count": 5,
   "metadata": {
    "collapsed": true
   },
   "outputs": [],
   "source": [
    "df['turnaround'] = df.fin_date - df.index\n",
    "df['start_date'] = df.fin_date - df.turnaround\n",
    "df['difference'] = df.fin_date.apply(dt.toordinal) - df.start_date.apply(dt.toordinal)"
   ]
  },
  {
   "cell_type": "code",
   "execution_count": 6,
   "metadata": {
    "collapsed": true
   },
   "outputs": [],
   "source": [
    "days = df.groupby(['start_date'])"
   ]
  },
  {
   "cell_type": "code",
   "execution_count": 7,
   "metadata": {
    "collapsed": true
   },
   "outputs": [],
   "source": [
    "plt.style.use('seaborn-notebook')"
   ]
  },
  {
   "cell_type": "code",
   "execution_count": 8,
   "metadata": {
    "collapsed": true
   },
   "outputs": [],
   "source": [
    "# with plt.xkcd():\n",
    "fig = plt.figure(figsize = (8, 6))\n",
    "ax = fig.add_subplot(1,1,1)\n",
    "ax.fill_between(days.max().index, days.max().difference, days.min().difference, alpha = 0.5, color = 'grey')\n",
    "ax.plot(days.mean().difference, 'blue')\n",
    "ax.set_title('Primary Lab Turnaround\\nAverage Days and Range From Date Submitted')\n",
    "xticks = ax.get_xticks()\n",
    "date_labels = [dt.fromordinal(int(f)) for f in xticks]\n",
    "ax.set_xticklabels([])\n",
    "ax.set_xticklabels([x.strftime('%d-%b-%y') for x in date_labels], rotation = 25)\n",
    "ax.set_xlabel('Received Date')\n",
    "ax.set_ylabel('Days')\n",
    "ax.grid()"
   ]
  },
  {
   "cell_type": "code",
   "execution_count": null,
   "metadata": {
    "collapsed": true
   },
   "outputs": [],
   "source": []
  }
 ],
 "metadata": {
  "kernelspec": {
   "display_name": "Python 2",
   "language": "python",
   "name": "python2"
  },
  "language_info": {
   "codemirror_mode": {
    "name": "ipython",
    "version": 2
   },
   "file_extension": ".py",
   "mimetype": "text/x-python",
   "name": "python",
   "nbconvert_exporter": "python",
   "pygments_lexer": "ipython2",
   "version": "2.7.5"
  }
 },
 "nbformat": 4,
 "nbformat_minor": 2
}
