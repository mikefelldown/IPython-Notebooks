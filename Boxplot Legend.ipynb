{
 "cells": [
  {
   "cell_type": "code",
   "execution_count": 1,
   "metadata": {
    "collapsed": true
   },
   "outputs": [],
   "source": [
    "import os\n",
    "import pandas as pd\n",
    "import numpy as np\n",
    "from pandas import DataFrame\n",
    "from datetime import datetime, timedelta\n",
    "from matplotlib import pyplot as plt\n",
    "from sqlalchemy import create_engine"
   ]
  },
  {
   "cell_type": "code",
   "execution_count": 2,
   "metadata": {},
   "outputs": [
    {
     "name": "stdout",
     "output_type": "stream",
     "text": [
      "Using matplotlib backend: TkAgg\n",
      "Populating the interactive namespace from numpy and matplotlib\n"
     ]
    },
    {
     "name": "stderr",
     "output_type": "stream",
     "text": [
      "c:\\python27\\arcgis10.2\\lib\\site-packages\\IPython\\core\\magics\\pylab.py:161: UserWarning: pylab import has clobbered these variables: ['datetime']\n",
      "`%matplotlib` prevents importing * from pylab and numpy\n",
      "  \"\\n`%matplotlib` prevents importing * from pylab and numpy\"\n"
     ]
    }
   ],
   "source": [
    "%pylab\n",
    "os.chdir(\"C:\\users\\mfell\\Documents\")"
   ]
  },
  {
   "cell_type": "code",
   "execution_count": 39,
   "metadata": {
    "collapsed": true
   },
   "outputs": [],
   "source": [
    "engine = create_engine(\"mssql+pyodbc://gt_KL_Master\")\n",
    "db = 'Master'\n",
    "col = 'Col122'"
   ]
  },
  {
   "cell_type": "code",
   "execution_count": 32,
   "metadata": {
    "collapsed": true
   },
   "outputs": [],
   "source": [
    "engine = create_engine(\"mssql+pyodbc://gt_KL_Logger\")\n",
    "db = 'Logger'\n",
    "col = 'Col98'"
   ]
  },
  {
   "cell_type": "code",
   "execution_count": 33,
   "metadata": {
    "collapsed": true
   },
   "outputs": [],
   "source": [
    "sql_proj = \"Select NomProjet from tblNomProjet\""
   ]
  },
  {
   "cell_type": "code",
   "execution_count": 34,
   "metadata": {
    "collapsed": true
   },
   "outputs": [],
   "source": [
    "projs = pd.read_sql(sql_proj, engine)"
   ]
  },
  {
   "cell_type": "code",
   "execution_count": 42,
   "metadata": {},
   "outputs": [
    {
     "name": "stderr",
     "output_type": "stream",
     "text": [
      "c:\\python27\\arcgis10.2\\lib\\site-packages\\ipykernel_launcher.py:6: SettingWithCopyWarning: \n",
      "A value is trying to be set on a copy of a slice from a DataFrame\n",
      "\n",
      "See the caveats in the documentation: http://pandas.pydata.org/pandas-docs/stable/indexing.html#indexing-view-versus-copy\n",
      "  \n"
     ]
    }
   ],
   "source": [
    "# for i in projs['NomProjet']:\n",
    "sql = \"Select b.Nom as HoleID, c.NuEchantillon as SampleID, c.ProfDe as From_m, c.ProfA as To_m, {0} as Plot_Au \\\n",
    "from tblNomProjet a join tblNuSondage b on a.idkey = b.idNomProjet \\\n",
    "join tblAnalReg c on b.idkey = c.idNuSondage where isnumeric({0}) = 1\".format(col)#, i) a.NomProjet = '{1}' and \n",
    "df = pd.read_sql(sql, engine)\n",
    "if len(df):\n",
    "    df.Plot_Au = df.Plot_Au.astype(np.float)\n",
    "    df.Plot_Au[df.Plot_Au>=16] = 16\n",
    "    fig = plt.figure()\n",
    "\n",
    "    ax = fig.add_subplot(1,1,1)\n",
    "    ax.set_title(\"{}: {}\".format(db, i), fontweight = 'bold', fontsize = '16')\n",
    "    n, bins, patches = ax.hist(df.Plot_Au, bins = 50, range = (0, 16), log = True)\n",
    "#     ax.set_yscale('log')\n",
    "    ax.set_xlabel('Au (g/t)')\n",
    "    xlim = ax.get_xlim()\n",
    "    ylim = ax.get_ylim()\n",
    "    ax.set_ylim((ylim[0]-0.5), ylim[1])\n",
    "    x_range = xlim[1] - xlim[0]\n",
    "    y_range = ylim[1] - ylim[0]\n",
    "    xpos = x_range * 0.65 + xlim[0]\n",
    "    ypos = 10**(np.log10(y_range) * 0.8) + ylim[0]\n",
    "    xticklabels = [str('%d'%(x)) for x in ax.get_xticks()]\n",
    "    xticklabels[-1] = '>16'\n",
    "    ax.set_xticklabels(xticklabels)\n",
    "    ax.annotate(\"n = {}\\nmax = {}\\nn > 0.2 = {}\".format(df.Plot_Au.count(), df.Plot_Au.max(), \\\n",
    "                                                        df.Plot_Au[df.Plot_Au > 0.2].count()), (xpos, ypos))\n",
    "    fig.savefig('{}_{}.png'.format(db, i))\n",
    "else:\n",
    "    print \"No samples in project {}.\".format(i)"
   ]
  },
  {
   "cell_type": "code",
   "execution_count": 89,
   "metadata": {
    "collapsed": true
   },
   "outputs": [],
   "source": [
    "data[1] = np.nan"
   ]
  },
  {
   "cell_type": "code",
   "execution_count": 123,
   "metadata": {
    "collapsed": true
   },
   "outputs": [],
   "source": [
    "fig, ax  = plt.subplots(1)"
   ]
  },
  {
   "cell_type": "code",
   "execution_count": 124,
   "metadata": {},
   "outputs": [
    {
     "data": {
      "text/plain": [
       "{'boxes': [<matplotlib.lines.Line2D at 0x191d4910>,\n",
       "  <matplotlib.lines.Line2D at 0x191f5b10>],\n",
       " 'caps': [<matplotlib.lines.Line2D at 0x191cb8f0>,\n",
       "  <matplotlib.lines.Line2D at 0x191f4b10>,\n",
       "  <matplotlib.lines.Line2D at 0x179564f0>,\n",
       "  <matplotlib.lines.Line2D at 0x17956830>],\n",
       " 'fliers': [<matplotlib.lines.Line2D at 0x191f5790>,\n",
       "  <matplotlib.lines.Line2D at 0x17956eb0>],\n",
       " 'means': [<matplotlib.lines.Line2D at 0x191f54b0>,\n",
       "  <matplotlib.lines.Line2D at 0x17956e90>],\n",
       " 'medians': [<matplotlib.lines.Line2D at 0x191f5170>,\n",
       "  <matplotlib.lines.Line2D at 0x17956b50>],\n",
       " 'whiskers': [<matplotlib.lines.Line2D at 0x191d4a30>,\n",
       "  <matplotlib.lines.Line2D at 0x191cbbb0>,\n",
       "  <matplotlib.lines.Line2D at 0x191f5e50>,\n",
       "  <matplotlib.lines.Line2D at 0x179561b0>]}"
      ]
     },
     "execution_count": 124,
     "metadata": {},
     "output_type": "execute_result"
    }
   ],
   "source": [
    "ax.boxplot(np.array(data), showmeans = True)"
   ]
  },
  {
   "cell_type": "code",
   "execution_count": 125,
   "metadata": {
    "collapsed": true
   },
   "outputs": [],
   "source": [
    "annos = []\n",
    "annos.append(ax.annotate(\"Median\", (1, np.median(data[0])), xytext = (25, 0), textcoords = 'offset points', arrowprops = {}))\n",
    "\n",
    "# annos.append(ax.annotate(\"Mean\", (1, np.mean(data[0]))))\n",
    "# annos.append(ax.annotate(\"Lower Quartile\", (1, np.percentile(data[0], 25))))\n",
    "# annos.append(ax.annotate(\"Upper Quartile\", (1, np.percentile(data[0], 75))))\n",
    "# iqr = np.percentile(data[0], 75) - np.percentile(data[0], 25)\n",
    "# annos.append(ax.annotate(\"Maximum\", (1, np.percentile(data[0], 75) + 1.5 * iqr)))\n",
    "# annos.append(ax.annotate(\"Minimum\", (1, np.percentile(data[0], 25) - 1.5 * iqr)))\n",
    "# annos.append(ax.annotate(\"Outcasts\", (1, max(data[0][data[0] > np.percentile(data[0], 75) + 1.5 * iqr] ))))\n",
    "# annos.append(ax.annotate(\"Outcasts\", (1, min(data[0][data[0] < np.percentile(data[0], 25) - 1.5 * iqr], arrow))))"
   ]
  }
 ],
 "metadata": {
  "kernelspec": {
   "display_name": "Python 2",
   "language": "python",
   "name": "python2"
  },
  "language_info": {
   "codemirror_mode": {
    "name": "ipython",
    "version": 2
   },
   "file_extension": ".py",
   "mimetype": "text/x-python",
   "name": "python",
   "nbconvert_exporter": "python",
   "pygments_lexer": "ipython2",
   "version": "2.7.5"
  }
 },
 "nbformat": 4,
 "nbformat_minor": 2
}
