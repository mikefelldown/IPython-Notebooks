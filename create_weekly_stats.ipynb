{
 "cells": [
  {
   "cell_type": "code",
   "execution_count": 1,
   "metadata": {
    "collapsed": true
   },
   "outputs": [],
   "source": [
    "import os, pyodbc\n",
    "import pandas as pd\n",
    "#import numpy as np\n",
    "from pandas import DataFrame\n",
    "from datetime import datetime, timedelta\n",
    "from matplotlib import pyplot as plt\n",
    "from sqlalchemy import create_engine"
   ]
  },
  {
   "cell_type": "code",
   "execution_count": 13,
   "metadata": {
    "collapsed": true
   },
   "outputs": [],
   "source": [
    "sql = 'SELECT Project, HoleID, count(Samples_Outstanding) as NoSamplesOutstanding, count(QAQC_Outstanding) as QAQC_Outstanding \\\n",
    "FROM \\\n",
    "(SELECT a.NomProjet Project, b.Nom HoleID, c.NuEchantillon Samples_Outstanding, NULL as QAQC_Outstanding \\\n",
    "FROM tblNomProjet a join tblNuSondage b on a.idKey = b.idNomProjet join tblAnalReg c on b.idKey = c.idNuSondage \\\n",
    "where not exists(Select * from tblCertEchAnalyse d where c.idKey = d.idAnalReg) \\\n",
    "UNION \\\n",
    "SELECT a.NomProjet Project, b.Nom HoleID, NULL, c.NuEchantillon QAQC_Outstanding \\\n",
    "FROM tblNomProjet a join tblNuSondage b on a.idKey = b.idNomProjet \\\n",
    "join tblQAQC c on b.idKey = c.idNuSondage \\\n",
    "where not exists(Select * from tblCertEchQAQC d where c.idKey = d.idQAQC \\\n",
    ") ) as x \\\n",
    "group by Project, HoleID \\\n",
    "having HoleID like \\'%17[_-]%\\' \\\n",
    "order by Project, HoleID'"
   ]
  },
  {
   "cell_type": "code",
   "execution_count": 14,
   "metadata": {
    "collapsed": true
   },
   "outputs": [],
   "source": [
    "engine = create_engine(\"mssql+pyodbc://gt_KL_Master\")"
   ]
  },
  {
   "cell_type": "code",
   "execution_count": 15,
   "metadata": {
    "collapsed": true
   },
   "outputs": [],
   "source": [
    "df = pd.read_sql(sql, engine)"
   ]
  },
  {
   "cell_type": "code",
   "execution_count": 16,
   "metadata": {
    "collapsed": true
   },
   "outputs": [],
   "source": [
    "df.to_clipboard(index = False)"
   ]
  },
  {
   "cell_type": "code",
   "execution_count": 17,
   "metadata": {},
   "outputs": [
    {
     "data": {
      "text/html": [
       "<div>\n",
       "<table border=\"1\" class=\"dataframe\">\n",
       "  <thead>\n",
       "    <tr style=\"text-align: right;\">\n",
       "      <th></th>\n",
       "      <th>Project</th>\n",
       "      <th>HoleID</th>\n",
       "      <th>NoSamplesOutstanding</th>\n",
       "      <th>QAQC_Outstanding</th>\n",
       "    </tr>\n",
       "  </thead>\n",
       "  <tbody>\n",
       "    <tr>\n",
       "      <th>0</th>\n",
       "      <td>Skead-MacGregor</td>\n",
       "      <td>SM17_08</td>\n",
       "      <td>10</td>\n",
       "      <td>1</td>\n",
       "    </tr>\n",
       "    <tr>\n",
       "      <th>1</th>\n",
       "      <td>Skead-MacGregor</td>\n",
       "      <td>SM17_11</td>\n",
       "      <td>331</td>\n",
       "      <td>51</td>\n",
       "    </tr>\n",
       "    <tr>\n",
       "      <th>2</th>\n",
       "      <td>Skead-MacGregor</td>\n",
       "      <td>SM17_12</td>\n",
       "      <td>98</td>\n",
       "      <td>14</td>\n",
       "    </tr>\n",
       "    <tr>\n",
       "      <th>3</th>\n",
       "      <td>Skead-MacGregor</td>\n",
       "      <td>SM17_13</td>\n",
       "      <td>87</td>\n",
       "      <td>13</td>\n",
       "    </tr>\n",
       "    <tr>\n",
       "      <th>4</th>\n",
       "      <td>Skead-MacGregor</td>\n",
       "      <td>SM17_14</td>\n",
       "      <td>116</td>\n",
       "      <td>16</td>\n",
       "    </tr>\n",
       "    <tr>\n",
       "      <th>5</th>\n",
       "      <td>UpperBeaver</td>\n",
       "      <td>UB17_440</td>\n",
       "      <td>109</td>\n",
       "      <td>19</td>\n",
       "    </tr>\n",
       "    <tr>\n",
       "      <th>6</th>\n",
       "      <td>UpperBeaver</td>\n",
       "      <td>UB17_443</td>\n",
       "      <td>142</td>\n",
       "      <td>25</td>\n",
       "    </tr>\n",
       "    <tr>\n",
       "      <th>7</th>\n",
       "      <td>UpperBeaver</td>\n",
       "      <td>UB17_444</td>\n",
       "      <td>130</td>\n",
       "      <td>20</td>\n",
       "    </tr>\n",
       "    <tr>\n",
       "      <th>8</th>\n",
       "      <td>UpperBeaver</td>\n",
       "      <td>UB17_445</td>\n",
       "      <td>89</td>\n",
       "      <td>13</td>\n",
       "    </tr>\n",
       "    <tr>\n",
       "      <th>9</th>\n",
       "      <td>UpperBeaver</td>\n",
       "      <td>UB17_446</td>\n",
       "      <td>66</td>\n",
       "      <td>10</td>\n",
       "    </tr>\n",
       "    <tr>\n",
       "      <th>10</th>\n",
       "      <td>UpperBeaver</td>\n",
       "      <td>UB17_447</td>\n",
       "      <td>92</td>\n",
       "      <td>13</td>\n",
       "    </tr>\n",
       "    <tr>\n",
       "      <th>11</th>\n",
       "      <td>UpperBeaver</td>\n",
       "      <td>UB17_448</td>\n",
       "      <td>117</td>\n",
       "      <td>17</td>\n",
       "    </tr>\n",
       "    <tr>\n",
       "      <th>12</th>\n",
       "      <td>UpperBeaver</td>\n",
       "      <td>UB17_449</td>\n",
       "      <td>108</td>\n",
       "      <td>16</td>\n",
       "    </tr>\n",
       "    <tr>\n",
       "      <th>13</th>\n",
       "      <td>UpperBeaver</td>\n",
       "      <td>UB17_450</td>\n",
       "      <td>120</td>\n",
       "      <td>19</td>\n",
       "    </tr>\n",
       "  </tbody>\n",
       "</table>\n",
       "</div>"
      ],
      "text/plain": [
       "            Project    HoleID  NoSamplesOutstanding  QAQC_Outstanding\n",
       "0   Skead-MacGregor   SM17_08                    10                 1\n",
       "1   Skead-MacGregor   SM17_11                   331                51\n",
       "2   Skead-MacGregor   SM17_12                    98                14\n",
       "3   Skead-MacGregor   SM17_13                    87                13\n",
       "4   Skead-MacGregor   SM17_14                   116                16\n",
       "5       UpperBeaver  UB17_440                   109                19\n",
       "6       UpperBeaver  UB17_443                   142                25\n",
       "7       UpperBeaver  UB17_444                   130                20\n",
       "8       UpperBeaver  UB17_445                    89                13\n",
       "9       UpperBeaver  UB17_446                    66                10\n",
       "10      UpperBeaver  UB17_447                    92                13\n",
       "11      UpperBeaver  UB17_448                   117                17\n",
       "12      UpperBeaver  UB17_449                   108                16\n",
       "13      UpperBeaver  UB17_450                   120                19"
      ]
     },
     "execution_count": 17,
     "metadata": {},
     "output_type": "execute_result"
    }
   ],
   "source": [
    "df"
   ]
  },
  {
   "cell_type": "code",
   "execution_count": 8,
   "metadata": {
    "collapsed": true
   },
   "outputs": [],
   "source": [
    "sql2 = 'Select TOP 10 \\\n",
    "DATEPART(yyyy, e.DateEmis) as YEAR, DATEPART(ww,e.DateEmis) as WeekofYear, \\\n",
    "a.NomProjet as PROJECT, COUNT(DISTINCT c.NuEchantillon) as \\'Count of Samples\\' \\\n",
    "from tblNomProjet a join tblNuSondage b on a.idKey = b.idNomProjet \\\n",
    "join tblAnalReg c on b.idKey = c.idNuSondage \\\n",
    "join tblCertEchAnalyse d on c.idKey = d.idAnalReg \\\n",
    "join tblAnalRegCertificat e on d.NuCertificat = e.NuCertificat \\\n",
    "group by DATEPART(yyyy,e.DateEmis), DATEPART(ww,e.DateEmis), a.NomProjet \\\n",
    "HAVING DATEPART(yyyy,e.DateEmis) = 2017 \\\n",
    "ORDER BY WeekofYear DESC'"
   ]
  },
  {
   "cell_type": "code",
   "execution_count": 9,
   "metadata": {
    "collapsed": true
   },
   "outputs": [],
   "source": [
    "df2 = pd.read_sql(sql2, engine)"
   ]
  },
  {
   "cell_type": "code",
   "execution_count": 10,
   "metadata": {
    "scrolled": true
   },
   "outputs": [
    {
     "data": {
      "text/html": [
       "<div>\n",
       "<table border=\"1\" class=\"dataframe\">\n",
       "  <thead>\n",
       "    <tr style=\"text-align: right;\">\n",
       "      <th></th>\n",
       "      <th>YEAR</th>\n",
       "      <th>WeekofYear</th>\n",
       "      <th>PROJECT</th>\n",
       "      <th>Count of Samples</th>\n",
       "    </tr>\n",
       "  </thead>\n",
       "  <tbody>\n",
       "    <tr>\n",
       "      <th>0</th>\n",
       "      <td>2017</td>\n",
       "      <td>39</td>\n",
       "      <td>Skead-MacGregor</td>\n",
       "      <td>93</td>\n",
       "    </tr>\n",
       "    <tr>\n",
       "      <th>1</th>\n",
       "      <td>2017</td>\n",
       "      <td>39</td>\n",
       "      <td>UpperBeaver</td>\n",
       "      <td>264</td>\n",
       "    </tr>\n",
       "    <tr>\n",
       "      <th>2</th>\n",
       "      <td>2017</td>\n",
       "      <td>38</td>\n",
       "      <td>UpperBeaver</td>\n",
       "      <td>80</td>\n",
       "    </tr>\n",
       "    <tr>\n",
       "      <th>3</th>\n",
       "      <td>2017</td>\n",
       "      <td>37</td>\n",
       "      <td>Kirkland North</td>\n",
       "      <td>114</td>\n",
       "    </tr>\n",
       "    <tr>\n",
       "      <th>4</th>\n",
       "      <td>2017</td>\n",
       "      <td>37</td>\n",
       "      <td>Skead-MacGregor</td>\n",
       "      <td>247</td>\n",
       "    </tr>\n",
       "    <tr>\n",
       "      <th>5</th>\n",
       "      <td>2017</td>\n",
       "      <td>37</td>\n",
       "      <td>UpperBeaver</td>\n",
       "      <td>262</td>\n",
       "    </tr>\n",
       "    <tr>\n",
       "      <th>6</th>\n",
       "      <td>2017</td>\n",
       "      <td>36</td>\n",
       "      <td>Amalgamated Kirkland</td>\n",
       "      <td>176</td>\n",
       "    </tr>\n",
       "    <tr>\n",
       "      <th>7</th>\n",
       "      <td>2017</td>\n",
       "      <td>36</td>\n",
       "      <td>Skead-MacGregor</td>\n",
       "      <td>79</td>\n",
       "    </tr>\n",
       "    <tr>\n",
       "      <th>8</th>\n",
       "      <td>2017</td>\n",
       "      <td>36</td>\n",
       "      <td>UpperBeaver</td>\n",
       "      <td>131</td>\n",
       "    </tr>\n",
       "    <tr>\n",
       "      <th>9</th>\n",
       "      <td>2017</td>\n",
       "      <td>35</td>\n",
       "      <td>Amalgamated Kirkland</td>\n",
       "      <td>78</td>\n",
       "    </tr>\n",
       "  </tbody>\n",
       "</table>\n",
       "</div>"
      ],
      "text/plain": [
       "   YEAR  WeekofYear               PROJECT  Count of Samples\n",
       "0  2017          39       Skead-MacGregor                93\n",
       "1  2017          39           UpperBeaver               264\n",
       "2  2017          38           UpperBeaver                80\n",
       "3  2017          37        Kirkland North               114\n",
       "4  2017          37       Skead-MacGregor               247\n",
       "5  2017          37           UpperBeaver               262\n",
       "6  2017          36  Amalgamated Kirkland               176\n",
       "7  2017          36       Skead-MacGregor                79\n",
       "8  2017          36           UpperBeaver               131\n",
       "9  2017          35  Amalgamated Kirkland                78"
      ]
     },
     "execution_count": 10,
     "metadata": {},
     "output_type": "execute_result"
    }
   ],
   "source": [
    "df2"
   ]
  },
  {
   "cell_type": "code",
   "execution_count": 12,
   "metadata": {
    "collapsed": true
   },
   "outputs": [],
   "source": [
    "df2[:2].to_clipboard(index = False)"
   ]
  },
  {
   "cell_type": "code",
   "execution_count": null,
   "metadata": {
    "collapsed": true
   },
   "outputs": [],
   "source": []
  }
 ],
 "metadata": {
  "kernelspec": {
   "display_name": "Python 2",
   "language": "python",
   "name": "python2"
  },
  "language_info": {
   "codemirror_mode": {
    "name": "ipython",
    "version": 2
   },
   "file_extension": ".py",
   "mimetype": "text/x-python",
   "name": "python",
   "nbconvert_exporter": "python",
   "pygments_lexer": "ipython2",
   "version": "2.7.5"
  }
 },
 "nbformat": 4,
 "nbformat_minor": 2
}
