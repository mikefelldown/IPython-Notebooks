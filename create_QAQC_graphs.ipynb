{
 "cells": [
  {
   "cell_type": "code",
   "execution_count": 1,
   "metadata": {
    "collapsed": true
   },
   "outputs": [],
   "source": [
    "import os, pyodbc\n",
    "import pandas as pd\n",
    "import numpy as np\n",
    "from pandas import DataFrame\n",
    "from datetime import datetime, timedelta\n",
    "from matplotlib import pyplot as plt\n",
    "from sqlalchemy import create_engine\n"
   ]
  },
  {
   "cell_type": "code",
   "execution_count": 2,
   "metadata": {},
   "outputs": [
    {
     "name": "stdout",
     "output_type": "stream",
     "text": [
      "Using matplotlib backend: TkAgg\n",
      "Populating the interactive namespace from numpy and matplotlib\n"
     ]
    },
    {
     "name": "stderr",
     "output_type": "stream",
     "text": [
      "c:\\python27\\arcgis10.2\\lib\\site-packages\\IPython\\core\\magics\\pylab.py:161: UserWarning: pylab import has clobbered these variables: ['datetime']\n",
      "`%matplotlib` prevents importing * from pylab and numpy\n",
      "  \"\\n`%matplotlib` prevents importing * from pylab and numpy\"\n"
     ]
    }
   ],
   "source": [
    "%pylab\n"
   ]
  },
  {
   "cell_type": "markdown",
   "metadata": {},
   "source": [
    "Connect to SQL db and create dataframe"
   ]
  },
  {
   "cell_type": "code",
   "execution_count": 3,
   "metadata": {
    "collapsed": true
   },
   "outputs": [],
   "source": [
    "engine = create_engine(\"mssql+pyodbc://gt_KL_Master\")\n"
   ]
  },
  {
   "cell_type": "markdown",
   "metadata": {},
   "source": [
    "Query for Au standards"
   ]
  },
  {
   "cell_type": "code",
   "execution_count": 4,
   "metadata": {
    "collapsed": true
   },
   "outputs": [],
   "source": [
    "sql = \"Select  b.Nom as 'HOLEID', c.NuEchantillon as 'SAMPLEID', c.Reference as 'STD', \\\n",
    "c.Col101 as 'Au_gpt', e.DateEmis as 'Date' \\\n",
    "from tblNomProjet a join tblNuSondage b on a.idkey = b.idNomProjet \\\n",
    "join tblQAQC c on b.idkey = c.idNuSondage \\\n",
    "join tblCertEchQAQC d on c.idkey = d.idQAQC \\\n",
    "join tblAnalRegCertificat e on d.NuCertificat = e.NuCertificat \\\n",
    "where c.TypeQAQC = 3 and c.Col101 is not NULL \\\n",
    "and e.DateEmis > '2017-1-1' and c.Reference <> 'CM24'  and isnumeric(Col101) = 1\""
   ]
  },
  {
   "cell_type": "markdown",
   "metadata": {},
   "source": [
    "Upper Canada Standards"
   ]
  },
  {
   "cell_type": "code",
   "execution_count": 4,
   "metadata": {
    "collapsed": true
   },
   "outputs": [],
   "source": [
    "sql = \"Select  b.Nom as 'HOLEID', c.NuEchantillon as 'SAMPLEID', c.Reference as 'STD', \\\n",
    "c.Col101 as 'Au_gpt', e.DateEmis as 'Date' \\\n",
    "from tblNomProjet a join tblNuSondage b on a.idkey = b.idNomProjet \\\n",
    "join tblQAQC c on b.idkey = c.idNuSondage \\\n",
    "join tblCertEchQAQC d on c.idkey = d.idQAQC \\\n",
    "join tblAnalRegCertificat e on d.NuCertificat = e.NuCertificat \\\n",
    "where c.TypeQAQC = 3 and c.Col101 is not NULL \\\n",
    "and a.NomProjet = 'UpperCanada'  and isnumeric(Col101) = 1\""
   ]
  },
  {
   "cell_type": "markdown",
   "metadata": {},
   "source": [
    "Query for  CU standards"
   ]
  },
  {
   "cell_type": "code",
   "execution_count": 53,
   "metadata": {
    "collapsed": true
   },
   "outputs": [],
   "source": [
    "sql = \"Select  b.Nom as 'HOLEID', c.NuEchantillon as 'SAMPLEID', c.Reference as 'STD', \\\n",
    "c.Col98 as 'Cu_ppm', c.Col99 as 'Cu_pct', e.DateEmis as 'Date' \\\n",
    "from tblNomProjet a join tblNuSondage b on a.idkey = b.idNomProjet \\\n",
    "join tblQAQC c on b.idkey = c.idNuSondage \\\n",
    "join tblCertEchQAQC d on c.idkey = d.idQAQC \\\n",
    "join tblAnalRegCertificat e on d.NuCertificat = e.NuCertificat \\\n",
    "where c.TypeQAQC = 3 and c.Col98 is not NULL \\\n",
    "and e.DateEmis > '2017-1-1'\""
   ]
  },
  {
   "cell_type": "markdown",
   "metadata": {},
   "source": [
    "Query for lab standards"
   ]
  },
  {
   "cell_type": "code",
   "execution_count": 6,
   "metadata": {
    "collapsed": true
   },
   "outputs": [],
   "source": [
    "sql = \"Select  b.Nom as 'HOLEID', '0000' as 'SAMPLEID', c.Reference as 'STD', c.Col101 as 'Au_gpt', e.DateEmis as 'Date' \\\n",
    "from tblNomProjet a join tblNuSondage b on a.idkey = b.idNomProjet \\\n",
    "join tblQAQCLab c on b.idkey = c.idNuSondage \\\n",
    "join tblAnalRegCertificat e on c.NuCertificat = e.NuCertificat \\\n",
    "where c.TypeQAQC = 3 and c.Col101 is not NULL and e.DateEmis > '2017-1-1'\""
   ]
  },
  {
   "cell_type": "markdown",
   "metadata": {},
   "source": [
    "Query for Blanks"
   ]
  },
  {
   "cell_type": "code",
   "execution_count": 4,
   "metadata": {
    "collapsed": true
   },
   "outputs": [],
   "source": [
    "sql = \"Select  b.Nom as 'HOLEID', c.NuEchantillon as 'SAMPLEID', c.Reference as 'STD', \\\n",
    "c.Col101 as 'Au_gpt', e.DateEmis as 'Date'\\\n",
    "from tblNomProjet a join tblNuSondage b on a.idkey = b.idNomProjet \\\n",
    "join tblQAQC c on b.idkey = c.idNuSondage \\\n",
    "join tblCertEchQAQC d on c.idkey = d.idQAQC \\\n",
    "join tblAnalRegCertificat e on d.NuCertificat = e.NuCertificat \\\n",
    "where c.TypeQAQC = 1 and c.Col101 is not NULL \\\n",
    "and e.DateEmis > DATEADD(MONTH, -3, GETDATE()) \\\n",
    "and e.idLaboratoire = 6\""
   ]
  },
  {
   "cell_type": "code",
   "execution_count": 11,
   "metadata": {
    "collapsed": true
   },
   "outputs": [],
   "source": [
    "sql = \"Select  b.Nom as 'HOLEID', c.NuEchantillon as 'SAMPLEID', c.Reference as 'STD', \\\n",
    "c.Col101 as 'Au_gpt', e.DateEmis as 'Date'\\\n",
    "from tblNomProjet a join tblNuSondage b on a.idkey = b.idNomProjet \\\n",
    "join tblQAQC c on b.idkey = c.idNuSondage \\\n",
    "join tblCertEchQAQC d on c.idkey = d.idQAQC \\\n",
    "join tblAnalRegCertificat e on d.NuCertificat = e.NuCertificat \\\n",
    "where c.TypeQAQC = 1 and c.Col101 is not NULL \\\n",
    "and a.NomProjet = 'UpperCanada' and e.idLaboratoire = 6\""
   ]
  },
  {
   "cell_type": "code",
   "execution_count": 32,
   "metadata": {
    "collapsed": true
   },
   "outputs": [],
   "source": [
    "sql = \"Select  b.Nom as 'HOLEID', c.NuEchantillon as 'SAMPLEID', c.Reference as 'STD', \\\n",
    "c.Col101 as 'Au_gpt', e.DateEmis as 'Date'\\\n",
    "from tblNomProjet a join tblNuSondage b on a.idkey = b.idNomProjet \\\n",
    "join tblQAQC c on b.idkey = c.idNuSondage \\\n",
    "join tblCertEchQAQC d on c.idkey = d.idQAQC \\\n",
    "join tblAnalRegCertificat e on d.NuCertificat = e.NuCertificat \\\n",
    "where c.TypeQAQC = 1 and c.Col101 is not NULL \\\n",
    "and e.DateEmis between '2017-01-01' and '2017-07-01' and e.idLaboratoire = 6\""
   ]
  },
  {
   "cell_type": "code",
   "execution_count": 5,
   "metadata": {
    "collapsed": true
   },
   "outputs": [],
   "source": [
    "df = pd.read_sql(sql, engine) #, index_col = 'Date')"
   ]
  },
  {
   "cell_type": "code",
   "execution_count": 6,
   "metadata": {
    "collapsed": true
   },
   "outputs": [],
   "source": [
    "stds = pd.read_sql(\"Select * from tblTypeStandard\", engine)\n",
    "stds.columns = ['idkey','std_name','alias','col','avg','active','sigma']"
   ]
  },
  {
   "cell_type": "code",
   "execution_count": 7,
   "metadata": {
    "collapsed": true
   },
   "outputs": [],
   "source": [
    "if 'Au_gpt' in df.columns:\n",
    "    df['Au_val'] = df.Au_gpt[(df.Au_gpt <> ' NSS') & (df.Au_gpt <> 'NSS') & (df.Au_gpt <> 'NIL') & \\\n",
    "                      (df.Au_gpt <> '<0.01') & (df.Au_gpt <> '<0.005')].astype(np.float)\n",
    "    df = df.fillna({'Au_val':0.005})\n",
    "elif 'Cu_ppm' in df.columns:\n",
    "    df['Cu_val'] = df.Cu_ppm[(df.Cu_ppm <> ' NSS') & (df.Cu_ppm <> 'NSS') & (df.Cu_ppm <> 'NIL') & \\\n",
    "                      (df.Cu_ppm <> '<0.01') & (df.Cu_ppm <> '<0.005')].astype(np.float)\n",
    "    df = df.fillna({'Cu_ppm':0})"
   ]
  },
  {
   "cell_type": "code",
   "execution_count": 8,
   "metadata": {
    "collapsed": true
   },
   "outputs": [],
   "source": [
    "df.index = df.Date"
   ]
  },
  {
   "cell_type": "code",
   "execution_count": 9,
   "metadata": {},
   "outputs": [
    {
     "name": "stderr",
     "output_type": "stream",
     "text": [
      "c:\\python27\\arcgis10.2\\lib\\site-packages\\ipykernel_launcher.py:1: SettingWithCopyWarning: \n",
      "A value is trying to be set on a copy of a slice from a DataFrame\n",
      "\n",
      "See the caveats in the documentation: http://pandas.pydata.org/pandas-docs/stable/indexing.html#indexing-view-versus-copy\n",
      "  \"\"\"Entry point for launching an IPython kernel.\n"
     ]
    }
   ],
   "source": [
    "df.STD[df.STD == 'Blank'] = 'QuartzPebble'\n",
    "groups = set(df['STD'])"
   ]
  },
  {
   "cell_type": "markdown",
   "metadata": {},
   "source": [
    "Generate Standard Graph"
   ]
  },
  {
   "cell_type": "code",
   "execution_count": 10,
   "metadata": {},
   "outputs": [
    {
     "ename": "IndexError",
     "evalue": "index 0 is out of bounds for axis 0 with size 0",
     "output_type": "error",
     "traceback": [
      "\u001b[1;31m---------------------------------------------------------------------------\u001b[0m",
      "\u001b[1;31mIndexError\u001b[0m                                Traceback (most recent call last)",
      "\u001b[1;32m<ipython-input-10-f3c460006894>\u001b[0m in \u001b[0;36m<module>\u001b[1;34m()\u001b[0m\n\u001b[0;32m     12\u001b[0m \u001b[1;33m\u001b[0m\u001b[0m\n\u001b[0;32m     13\u001b[0m     \u001b[1;31m#standard graphs\u001b[0m\u001b[1;33m\u001b[0m\u001b[1;33m\u001b[0m\u001b[0m\n\u001b[1;32m---> 14\u001b[1;33m     \u001b[0mstd_mean\u001b[0m \u001b[1;33m=\u001b[0m \u001b[0mstds\u001b[0m\u001b[1;33m.\u001b[0m\u001b[0mavg\u001b[0m\u001b[1;33m[\u001b[0m\u001b[0mstds\u001b[0m\u001b[1;33m[\u001b[0m\u001b[1;34m'alias'\u001b[0m\u001b[1;33m]\u001b[0m \u001b[1;33m==\u001b[0m \u001b[0mg\u001b[0m\u001b[1;33m]\u001b[0m\u001b[1;33m.\u001b[0m\u001b[0mvalues\u001b[0m\u001b[1;33m[\u001b[0m\u001b[1;36m0\u001b[0m\u001b[1;33m]\u001b[0m\u001b[1;33m\u001b[0m\u001b[0m\n\u001b[0m\u001b[0;32m     15\u001b[0m     \u001b[0mstd_sd\u001b[0m \u001b[1;33m=\u001b[0m \u001b[0mstds\u001b[0m\u001b[1;33m.\u001b[0m\u001b[0msigma\u001b[0m\u001b[1;33m[\u001b[0m\u001b[0mstds\u001b[0m\u001b[1;33m[\u001b[0m\u001b[1;34m'alias'\u001b[0m\u001b[1;33m]\u001b[0m \u001b[1;33m==\u001b[0m \u001b[0mg\u001b[0m\u001b[1;33m]\u001b[0m\u001b[1;33m.\u001b[0m\u001b[0mvalues\u001b[0m\u001b[1;33m[\u001b[0m\u001b[1;36m0\u001b[0m\u001b[1;33m]\u001b[0m\u001b[1;33m\u001b[0m\u001b[0m\n\u001b[0;32m     16\u001b[0m     \u001b[0max1\u001b[0m\u001b[1;33m.\u001b[0m\u001b[0mplot\u001b[0m\u001b[1;33m(\u001b[0m\u001b[0mdatarange\u001b[0m\u001b[1;33m,\u001b[0m \u001b[1;33m[\u001b[0m\u001b[0mdf\u001b[0m\u001b[1;33m[\u001b[0m\u001b[0mdf\u001b[0m\u001b[1;33m.\u001b[0m\u001b[0mSTD\u001b[0m \u001b[1;33m==\u001b[0m \u001b[0mg\u001b[0m\u001b[1;33m]\u001b[0m\u001b[1;33m.\u001b[0m\u001b[0mAu_val\u001b[0m\u001b[1;33m.\u001b[0m\u001b[0mmean\u001b[0m\u001b[1;33m(\u001b[0m\u001b[1;33m)\u001b[0m\u001b[1;33m,\u001b[0m \u001b[0mdf\u001b[0m\u001b[1;33m[\u001b[0m\u001b[0mdf\u001b[0m\u001b[1;33m.\u001b[0m\u001b[0mSTD\u001b[0m \u001b[1;33m==\u001b[0m \u001b[0mg\u001b[0m\u001b[1;33m]\u001b[0m\u001b[1;33m.\u001b[0m\u001b[0mAu_val\u001b[0m\u001b[1;33m.\u001b[0m\u001b[0mmean\u001b[0m\u001b[1;33m(\u001b[0m\u001b[1;33m)\u001b[0m\u001b[1;33m]\u001b[0m\u001b[1;33m,\u001b[0m \u001b[1;34m'r-'\u001b[0m\u001b[1;33m,\u001b[0m              \u001b[0mlabel\u001b[0m \u001b[1;33m=\u001b[0m \u001b[1;34m'measured avg = %0.3f'\u001b[0m \u001b[1;33m%\u001b[0m \u001b[1;33m(\u001b[0m\u001b[0mdf\u001b[0m\u001b[1;33m[\u001b[0m\u001b[0mdf\u001b[0m\u001b[1;33m.\u001b[0m\u001b[0mSTD\u001b[0m \u001b[1;33m==\u001b[0m \u001b[0mg\u001b[0m\u001b[1;33m]\u001b[0m\u001b[1;33m.\u001b[0m\u001b[0mAu_val\u001b[0m\u001b[1;33m.\u001b[0m\u001b[0mmean\u001b[0m\u001b[1;33m(\u001b[0m\u001b[1;33m)\u001b[0m\u001b[1;33m)\u001b[0m\u001b[1;33m,\u001b[0m \u001b[0mlinewidth\u001b[0m \u001b[1;33m=\u001b[0m \u001b[1;36m1\u001b[0m\u001b[1;33m)\u001b[0m\u001b[1;33m\u001b[0m\u001b[0m\n",
      "\u001b[1;31mIndexError\u001b[0m: index 0 is out of bounds for axis 0 with size 0"
     ]
    }
   ],
   "source": [
    "# with plt.xkcd():\n",
    "fig = plt.figure(facecolor = 'w', figsize = (10, 12), tight_layout = False)\n",
    "\n",
    "fig.suptitle('CRM Analyses for week of %s' % (datetime.date.today() + datetime.timedelta(4 - \\\n",
    "              datetime.date.weekday(datetime.date.today()))).strftime('Friday, %B %d, %Y'), fontsize = 16)\n",
    "#fig.figimage(logo, 700,1025, zorder=1)\n",
    "length = len(groups)\n",
    "\n",
    "for a, g in enumerate(groups):   \n",
    "    ax1 = fig.add_subplot(length,1,a+1)\n",
    "    time_buffer = max((df.index.max() - df.index.min()) * 0.1, timedelta(5))\n",
    "    datarange = [df.index.min() - time_buffer, df.index.max()+ time_buffer]\n",
    "\n",
    "    #standard graphs\n",
    "    std_mean = stds.avg[stds['alias'] == g].values[0]\n",
    "    std_sd = stds.sigma[stds['alias'] == g].values[0]\n",
    "    ax1.plot(datarange, [df[df.STD == g].Au_val.mean(), df[df.STD == g].Au_val.mean()], 'r-',\\\n",
    "              label = 'measured avg = %0.3f' % (df[df.STD == g].Au_val.mean()), linewidth = 1)\n",
    "    ax1.plot(datarange, [std_mean, std_mean], 'b-', label = 'published avg = %0.3f' % (std_mean), linewidth = 1)\n",
    "    _2sig1 = df[df.STD == g].Au_val.mean() + 2 * df[df.STD == g].Au_val.std()\n",
    "    _2sig2 = df[df.STD == g].Au_val.mean() - 2 * df[df.STD == g].Au_val.std()\n",
    "    _3sig1 = df[df.STD == g].Au_val.mean() + 3 * df[df.STD == g].Au_val.std()\n",
    "    _3sig2 = df[df.STD == g].Au_val.mean() - 3 * df[df.STD == g].Au_val.std()\n",
    "    _2sigm1 = std_mean + 2 * std_sd\n",
    "    _2sigm2 = std_mean - 2 * std_sd\n",
    "    _3sigm1 = std_mean + 3 * std_sd\n",
    "    _3sigm2 = std_mean - 3 * std_sd\n",
    "    ax1.plot(datarange, [_2sig1,_2sig1], 'r--', label = u'measured 2 sigma', linewidth = 1)\n",
    "    ax1.plot(datarange, [_2sig2,_2sig2], 'r--')\n",
    "    ax1.plot(datarange, [_3sig1,_3sig1], 'r:', label = u'meausred 3 sigma', linewidth = 1)\n",
    "    ax1.plot(datarange, [_3sig2,_3sig2], 'r:')\n",
    "    ax1.plot(datarange, [_2sigm1,_2sigm1], 'b--', label = u'published 2 sigma', linewidth = 1)\n",
    "    ax1.plot(datarange, [_2sigm2,_2sigm2], 'b--')\n",
    "    ax1.plot(datarange, [_3sigm1,_3sigm1], 'b:', label = u'published 3 sigma', linewidth = 1)\n",
    "    ax1.plot(datarange, [_3sigm2,_3sigm2], 'b:', linewidth = 2)\n",
    "    ax1.plot(df.Au_val[df.STD == g], 'wo', label = '_nolegend_')\n",
    "    ax1.plot(df.Au_val[df.STD == g], 'k.', label = '_nolegend_')\n",
    "    labels = df['SAMPLEID'][(df.STD == g) & ((df.Au_val < std_mean - 2 * std_sd) |\\\n",
    "                         (df.Au_val > std_mean + 2 * std_sd))]\n",
    "    for d, l in labels.iteritems():\n",
    "        ax1.annotate(l, xy = (d, df.Au_val[df.SAMPLEID == l]), xytext=(5, 5), textcoords= 'offset points', color = 'r')\n",
    "    ylim = ax1.get_ylim()\n",
    "    yshift = (ylim[1] - ylim[0]) /10.0\n",
    "\n",
    "    ax1.set_ylim(ylim[0] - yshift, ylim[1] + yshift)\n",
    "    ax1.legend(loc = 'upper left', fontsize = 'small')\n",
    "    ax1.set_title('Analyses for %s, n= %d' % (g, df[df.STD == g].Au_val.count()), fontsize = 12)\n",
    "\n",
    "    ax1.set_ylabel('Au g/t')\n",
    "    xticks = ax1.get_xticks()\n",
    "    date_labels = [datetime.date.fromordinal(int(f)) for f in xticks]\n",
    "    ax1.set_xticklabels([])\n",
    "    if a == length -1:\n",
    "      ax1.set_xticklabels([x.strftime('%d-%b-%y') for x in date_labels], rotation = 45)\n",
    "    \n",
    "#fig.savefig('C:\\\\Temp\\\\crm.jpg', dpi = 200)  \n",
    "\n",
    "\n"
   ]
  },
  {
   "cell_type": "markdown",
   "metadata": {},
   "source": [
    "Generate Blank graph"
   ]
  },
  {
   "cell_type": "code",
   "execution_count": 11,
   "metadata": {
    "collapsed": true
   },
   "outputs": [],
   "source": [
    "# with plt.xkcd():\n",
    "fig = plt.figure(facecolor = 'w', figsize = (10, 8))\n",
    "\n",
    "\n",
    "fig.suptitle('Blank Analyses for week of %s' % (datetime.date.today() + datetime.timedelta(4 - \\\n",
    "              datetime.date.weekday(datetime.date.today()))).strftime('Friday, %B %d, %Y'), fontsize = 16)\n",
    "#fig.figimage(logo, 690*3,1035*3, zorder=1)\n",
    "length = len(groups)\n",
    "\n",
    "for a, g in enumerate(groups): \n",
    "    ax1 = fig.add_subplot(length,1,a+1)\n",
    "\n",
    "    time_buffer = max((df.index.max() - df.index.min()) * 0.1, timedelta(5))\n",
    "    datarange = [df.index.min() - time_buffer, df.index.max()+ time_buffer]\n",
    "\n",
    "    ax1.plot(datarange, [0.015, 0.015], 'r-', label = '3 * L.O.D. (0.015 g/t)', linewidth = 1.5)\n",
    "    ax1.plot(datarange, [0.005, 0.005], 'r:', label = 'L.O.D. (0.005 g/t)', linewidth = 1.5)\n",
    "    _80pct = df[df.STD == g].Au_val.quantile(0.8)\n",
    "    _90pct = df[df.STD == g].Au_val.quantile(0.9)\n",
    "    ax1.plot(datarange, [_80pct,_80pct], 'b--', label = u'80th percentile', linewidth = 1.5)\n",
    "    ax1.plot(datarange, [_90pct,_90pct], 'b:', label = u'90th percentile', linewidth = 1.5)\n",
    "    ax1.plot(df.Au_val[df.STD == g], 'wo', label = '_nolegend_')\n",
    "    ax1.plot(df.Au_val[df.STD == g], 'k.', label = '_nolegend_')\n",
    "    labels = df[df.STD == g].SAMPLEID[(df[df.STD == g].Au_val > 0.015)]\n",
    "    for d, l in labels.iteritems():\n",
    "        ax1.annotate(l, xy = (d, df.Au_val[df.SAMPLEID == l]), xytext=(5, 5), textcoords= 'offset points')\n",
    "    ylim = ax1.get_ylim()\n",
    "    yshift = (ylim[1] - ylim[0]) /10.0\n",
    "\n",
    "    ax1.set_ylim(ylim[0] - yshift, ylim[1] + yshift)\n",
    "    ax1.legend(loc = 'best', fontsize = 'small')\n",
    "    ax1.set_title('Analyses for %s, n= %d' % (g, df[df.STD == g].Au_val.count()), fontsize = 12)\n",
    "\n",
    "    ax1.set_ylabel('Au g/t')\n",
    "\n",
    "    ax1.set_xticklabels([])\n",
    "    if a == length -1:    \n",
    "        xticks = ax1.get_xticks()\n",
    "        date_labels = [datetime.date.fromordinal(int(f)) for f in xticks]\n",
    "        ax1.set_xticklabels([x.strftime('%d-%b-%y') for x in date_labels], rotation = 45)\n",
    "    \n",
    "#fig.savefig('C:\\\\Temp\\\\blank.jpg', dpi = 200)  \n"
   ]
  },
  {
   "cell_type": "code",
   "execution_count": null,
   "metadata": {
    "collapsed": true
   },
   "outputs": [],
   "source": []
  }
 ],
 "metadata": {
  "kernelspec": {
   "display_name": "Python 2",
   "language": "python",
   "name": "python2"
  },
  "language_info": {
   "codemirror_mode": {
    "name": "ipython",
    "version": 2
   },
   "file_extension": ".py",
   "mimetype": "text/x-python",
   "name": "python",
   "nbconvert_exporter": "python",
   "pygments_lexer": "ipython2",
   "version": "2.7.5"
  }
 },
 "nbformat": 4,
 "nbformat_minor": 1
}
