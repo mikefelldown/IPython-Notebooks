{
 "cells": [
  {
   "cell_type": "code",
   "execution_count": 1,
   "metadata": {
    "collapsed": true
   },
   "outputs": [],
   "source": [
    "import os, pyodbc\n",
    "import pandas as pd\n",
    "import numpy as np\n",
    "from pandas import DataFrame\n",
    "from datetime import datetime, timedelta\n",
    "from matplotlib import pyplot as plt\n",
    "from sqlalchemy import create_engine"
   ]
  },
  {
   "cell_type": "code",
   "execution_count": 2,
   "metadata": {},
   "outputs": [
    {
     "name": "stdout",
     "output_type": "stream",
     "text": [
      "Using matplotlib backend: TkAgg\n",
      "Populating the interactive namespace from numpy and matplotlib\n"
     ]
    },
    {
     "name": "stderr",
     "output_type": "stream",
     "text": [
      "c:\\python27\\arcgis10.2\\lib\\site-packages\\IPython\\core\\magics\\pylab.py:161: UserWarning: pylab import has clobbered these variables: ['datetime']\n",
      "`%matplotlib` prevents importing * from pylab and numpy\n",
      "  \"\\n`%matplotlib` prevents importing * from pylab and numpy\"\n"
     ]
    }
   ],
   "source": [
    "%pylab\n"
   ]
  },
  {
   "cell_type": "code",
   "execution_count": 3,
   "metadata": {
    "collapsed": true
   },
   "outputs": [],
   "source": [
    "engine = create_engine(\"mssql+pyodbc://gt_KL_Master\")"
   ]
  },
  {
   "cell_type": "markdown",
   "metadata": {},
   "source": [
    "Query for Duplicate sample pairs"
   ]
  },
  {
   "cell_type": "code",
   "execution_count": 4,
   "metadata": {
    "collapsed": true
   },
   "outputs": [],
   "source": [
    "sql = (\"Select  b.Nom as 'HOLEID', c.NuEchantillon as 'SAMPLEID', c.Reference as 'Ref',\\\n",
    "c.TypeDoublon  as 'Type',  coalesce(c.Col114, c.Col101) as 'Au_gpt', coalesce(f.Col114, f.Col101) as 'Au_gpt_orig', e.DateEmis as 'Date' \\\n",
    "from tblNomProjet a join tblNuSondage b on a.idkey = b.idNomProjet \\\n",
    "join tblQAQC c on b.idkey = c.idNuSondage \\\n",
    "join tblCertEchQAQC d on c.idkey = d.idQAQC \\\n",
    "join tblAnalRegCertificat e on d.NuCertificat = e.NuCertificat \\\n",
    "join tblAnalReg f on c.Reference = f.NuEchantillon \\\n",
    "where c.TypeQAQC = 2 and c.Col101 is not NULL and \\\n",
    "e.DateEmis > DATEADD(MONTH, -3, GETDATE()) and exists (Select * from tblAnalReg g join tblCertEchAnalyse h on \\\n",
    "g.idkey = h.idAnalReg where c.Reference = g.NuEchantillon) \\\n",
    "UNION \\\n",
    "Select  b.Nom as 'HOLEID', f.NuEchantillon as 'SAMPLEID', f.NuEchantillon as 'Ref', \\\n",
    "'Lab Duplicate'  as 'Type',  coalesce(f.Col115, f.Col102) as 'Au_gpt', \\\n",
    "coalesce(f.Col114, f.Col101) as 'Au_gpt_orig', e.DateEmis as 'Date' \\\n",
    "from tblNomProjet a join tblNuSondage b on a.idkey = b.idNomProjet \\\n",
    "join tblAnalReg f on b.idkey = f.idNuSondage \\\n",
    "join tblCertEchAnalyse d on f.idkey = d.idAnalReg \\\n",
    "join tblAnalRegCertificat e on d.NuCertificat = e.NuCertificat \\\n",
    "where (f.Col102 is not NULL or f.Col115 is not NULL) \\\n",
    "and f.Col102 not like '%NSS' and e.DateEmis > DATEADD(MONTH, -3, GETDATE())\")"
   ]
  },
  {
   "cell_type": "code",
   "execution_count": 5,
   "metadata": {
    "collapsed": true
   },
   "outputs": [],
   "source": [
    "sql = (\"Select  b.Nom as 'HOLEID', c.NuEchantillon as 'SAMPLEID', c.Reference as 'Ref',\\\n",
    "c.TypeDoublon  as 'Type',  coalesce(c.Col114, c.Col101) as 'Au_gpt', coalesce(f.Col114, f.Col101) as 'Au_gpt_orig', e.DateEmis as 'Date' \\\n",
    "from tblNomProjet a join tblNuSondage b on a.idkey = b.idNomProjet \\\n",
    "join tblQAQC c on b.idkey = c.idNuSondage \\\n",
    "join tblCertEchQAQC d on c.idkey = d.idQAQC \\\n",
    "join tblAnalRegCertificat e on d.NuCertificat = e.NuCertificat \\\n",
    "join tblAnalReg f on c.Reference = f.NuEchantillon \\\n",
    "where c.TypeQAQC = 2 and c.Col101 is not NULL and \\\n",
    "e.DateEmis between '2017-01-01' and '2017-07-01' and exists (Select * from tblAnalReg g join tblCertEchAnalyse h on \\\n",
    "g.idkey = h.idAnalReg where c.Reference = g.NuEchantillon) \\\n",
    "UNION \\\n",
    "Select  b.Nom as 'HOLEID', f.NuEchantillon as 'SAMPLEID', f.NuEchantillon as 'Ref', \\\n",
    "'Lab Duplicate'  as 'Type',  coalesce(f.Col115, f.Col102) as 'Au_gpt', \\\n",
    "coalesce(f.Col114, f.Col101) as 'Au_gpt_orig', e.DateEmis as 'Date' \\\n",
    "from tblNomProjet a join tblNuSondage b on a.idkey = b.idNomProjet \\\n",
    "join tblAnalReg f on b.idkey = f.idNuSondage \\\n",
    "join tblCertEchAnalyse d on f.idkey = d.idAnalReg \\\n",
    "join tblAnalRegCertificat e on d.NuCertificat = e.NuCertificat \\\n",
    "where (f.Col102 is not NULL or f.Col115 is not NULL) \\\n",
    "and f.Col102 not like '%NSS' and e.DateEmis between '2017-01-01' and '2017-07-01' \")"
   ]
  },
  {
   "cell_type": "code",
   "execution_count": 5,
   "metadata": {
    "collapsed": true
   },
   "outputs": [],
   "source": [
    "df = pd.read_sql(sql, engine)"
   ]
  },
  {
   "cell_type": "code",
   "execution_count": 6,
   "metadata": {
    "collapsed": true
   },
   "outputs": [],
   "source": [
    "df = df.reindex(columns = [u'HOLEID', u'SAMPLEID', u'Ref',u'Type', u'Au_gpt',u'Au_gpt_orig', u'Date',u'Au_val', u'Au_orig'])"
   ]
  },
  {
   "cell_type": "code",
   "execution_count": 7,
   "metadata": {
    "collapsed": true
   },
   "outputs": [],
   "source": [
    "df.Au_val = df.Au_gpt[(df.Au_gpt <> 'NIL') & (df.Au_gpt <> '<0.01') & (df.Au_gpt <> '<0.005') \\\n",
    "                      & (df.Au_gpt <> '< 0.005')].astype(np.float)\n",
    "df.Au_orig = df.Au_gpt_orig[(df.Au_gpt_orig <> 'NIL') & (df.Au_gpt_orig <> '<0.01') \\\n",
    "                      & (df.Au_gpt_orig <> '<0.005') & (df.Au_gpt_orig <> '< 0.005')].astype(np.float)"
   ]
  },
  {
   "cell_type": "code",
   "execution_count": 8,
   "metadata": {},
   "outputs": [
    {
     "name": "stderr",
     "output_type": "stream",
     "text": [
      "c:\\python27\\arcgis10.2\\lib\\site-packages\\ipykernel_launcher.py:1: SettingWithCopyWarning: \n",
      "A value is trying to be set on a copy of a slice from a DataFrame\n",
      "\n",
      "See the caveats in the documentation: http://pandas.pydata.org/pandas-docs/stable/indexing.html#indexing-view-versus-copy\n",
      "  \"\"\"Entry point for launching an IPython kernel.\n",
      "c:\\python27\\arcgis10.2\\lib\\site-packages\\ipykernel_launcher.py:2: SettingWithCopyWarning: \n",
      "A value is trying to be set on a copy of a slice from a DataFrame\n",
      "\n",
      "See the caveats in the documentation: http://pandas.pydata.org/pandas-docs/stable/indexing.html#indexing-view-versus-copy\n",
      "  \n",
      "c:\\python27\\arcgis10.2\\lib\\site-packages\\ipykernel_launcher.py:5: SettingWithCopyWarning: \n",
      "A value is trying to be set on a copy of a slice from a DataFrame\n",
      "\n",
      "See the caveats in the documentation: http://pandas.pydata.org/pandas-docs/stable/indexing.html#indexing-view-versus-copy\n",
      "  \"\"\"\n",
      "c:\\python27\\arcgis10.2\\lib\\site-packages\\ipykernel_launcher.py:6: SettingWithCopyWarning: \n",
      "A value is trying to be set on a copy of a slice from a DataFrame\n",
      "\n",
      "See the caveats in the documentation: http://pandas.pydata.org/pandas-docs/stable/indexing.html#indexing-view-versus-copy\n",
      "  \n",
      "c:\\python27\\arcgis10.2\\lib\\site-packages\\ipykernel_launcher.py:7: SettingWithCopyWarning: \n",
      "A value is trying to be set on a copy of a slice from a DataFrame\n",
      "\n",
      "See the caveats in the documentation: http://pandas.pydata.org/pandas-docs/stable/indexing.html#indexing-view-versus-copy\n",
      "  import sys\n"
     ]
    }
   ],
   "source": [
    "df.loc[:,'Au_val'][df.Au_val.isnull()] = 0.005\n",
    "df.loc[:,'Au_orig'][df.Au_orig.isnull()] = 0.005\n",
    "df['Au_mean'] = (df.Au_val + df.Au_orig) /2.0\n",
    "df['Au_diff'] = (df.Au_val - df.Au_orig)\n",
    "df.Type[df['Type'] == 'FD'] = 'Field Duplicate'\n",
    "df.Type[df['Type'] == 'CRD'] = 'Coarse Reject Duplicate'\n",
    "df.Type[df['Type'] == 'PulpDuplicate'] = 'Umpire Lab'"
   ]
  },
  {
   "cell_type": "markdown",
   "metadata": {},
   "source": [
    "X-Y plots"
   ]
  },
  {
   "cell_type": "code",
   "execution_count": 9,
   "metadata": {
    "collapsed": true,
    "scrolled": true
   },
   "outputs": [],
   "source": [
    "fig= plt.figure(facecolor = 'w', figsize = (12,12))\n",
    "fig.suptitle('Duplicate Analyses for week of %s' % \\\n",
    "             (datetime.date.today() + datetime.timedelta(4 - \\\n",
    "              datetime.date.weekday(datetime.date.today()))).strftime('Friday, %B %d, %Y'), fontsize = 14)\n",
    "\n",
    "\n",
    "index = 1\n",
    "\n",
    "for d in ['Field Duplicate', 'Coarse Reject Duplicate', 'Lab Duplicate', 'Umpire Lab']:\n",
    "    ax = fig.add_subplot(2,2,index)\n",
    "    ax.plot((0,max(df.Au_val)*2), (0,max(df.Au_val)*2), 'r-')\n",
    "    \n",
    "    m, b = np.polyfit(df[df.Type == d].Au_val, df[df.Type == d].Au_orig, 1)\n",
    "    n = np.linspace(0.005, max(df.Au_val) * 1.1, 500)\n",
    "    ax.plot(n, (n * m) + b, 'b--')\n",
    "    ax.scatter(df[df.Type == d].Au_val, df[df.Type == d].Au_orig, c = 'k')\n",
    "    limit = max(max(df.Au_val), max(df.Au_orig)) * 1.1\n",
    "    ax.set_xlim((0.005,limit))\n",
    "    ax.set_ylim((0.005, limit))\n",
    "    ax.set_xscale('log')\n",
    "    ax.set_yscale('log')\n",
    "    ax.set_xlabel('Duplicate (gpt)', fontsize = 10)\n",
    "    ax.set_ylabel('Original (gpt)', fontsize = 10)\n",
    "    xticks = ax.get_xticks()\n",
    "    ax.set_xticklabels([x for x in xticks])\n",
    "    yticks = ax.get_yticks()\n",
    "    ax.set_yticklabels([y for y in yticks])\n",
    "    \n",
    "    # calculate and display correlation\n",
    "    r2 = df[df.Type == d].Au_val.corr(df[df.Type == d].Au_orig) **2\n",
    "    xpos = 10 ** (np.log10(0.005) - ((np.log10(0.005) - np.log10(limit))* 0.1) )\n",
    "    ypos = 10 ** (np.log10(0.005) - ((np.log10(0.005) - np.log10(limit))* 0.85) )\n",
    "    ax.annotate(u'r² = {:.3f}'.format(r2), (xpos, ypos) , bbox=dict(facecolor='w', alpha=0.2, ))\n",
    "    xpos = 10 ** (np.log10(0.005) - ((np.log10(0.005) - np.log10(limit))* 0.5) )\n",
    "    ypos = 10 ** (np.log10(0.005) - ((np.log10(0.005) - np.log10(limit))* 0.15) )\n",
    "    ax.annotate(u'y = {:.5f} * x {}\\n {:.5f}'.format(m, '-' if b < 0 else '+',abs(b)), (xpos, ypos), \\\n",
    "                bbox = dict(facecolor = 'b', alpha = 0.2, ), color = 'b')\n",
    "    \n",
    "    ax.set_title('Duplicate type %s, n = %d' % (d, df[df.Type == d]['HOLEID'].count()), fontsize = 12)\n",
    "    index += 1\n",
    "   "
   ]
  },
  {
   "cell_type": "markdown",
   "metadata": {},
   "source": [
    "Absolute Relative Difference vs Mean plots"
   ]
  },
  {
   "cell_type": "code",
   "execution_count": 10,
   "metadata": {
    "collapsed": true
   },
   "outputs": [],
   "source": [
    "fig2, axes = plt.subplots(4,1, facecolor = 'w', figsize = (12, 14), sharex = True, sharey = True)\n",
    "fig2.suptitle('Duplicate Analyses for week of %s' % \\\n",
    "             (datetime.date.today() + datetime.timedelta(4 - \\\n",
    "              datetime.date.weekday(datetime.date.today()))).strftime('Friday, %B %d, %Y'), fontsize = 14)\n",
    "#fig2.figimage(logo, 690,1030, zorder=1)\n",
    "\n",
    "index = 0\n",
    "for d in ['Field Duplicate', 'Coarse Reject Duplicate', 'Lab Duplicate', 'Umpire Lab']:\n",
    "    ax = axes[index]\n",
    "    \n",
    "    #Draw 3-sigma or 1% limit line\n",
    "    xlimit = max(df.Au_mean) * 1.1\n",
    "    lin = np.linspace(0.005, xlimit, 200)\n",
    "    mlin = np.where((lin*0.01)> 0.01, lin*0.01, 0.01)\n",
    "    ax.plot(lin,  mlin/lin * 100 , 'r--')\n",
    "    \n",
    "    #Plot average vs relative difference points\n",
    "    ax.scatter(df[df.Type == d].Au_mean,abs(df[df.Type == d].Au_diff)/df[df.Type == d].Au_mean *100, c = 'w', marker = 'o', s = 32 )\n",
    "    ax.scatter(df[df.Type == d].Au_mean,abs(df[df.Type == d].Au_diff)/df[df.Type == d].Au_mean *100, c = 'k', marker = '.', s = 8)\n",
    "    \n",
    "    #Set graph limits and log scale on x-axis\n",
    "    xlim((0.005,xlimit))\n",
    "    ylim((0, 200))\n",
    "    ax.set_xscale('log')\n",
    "    \n",
    "    #Plot x-axis labels on last graph\n",
    "    if d == 'Umpire Lab':\n",
    "        ax.set_xlabel('Pair Mean (Au g/t)')\n",
    "        xticks = ax.get_xticks()\n",
    "        ax.set_xticklabels([x for x in xticks])\n",
    "        \n",
    "    ax.set_ylabel('Absolute Relative Difference (%)')\n",
    "    ax.grid(b=True, which='both', color='grey', linestyle='-')\n",
    "    ax.set_title('Duplicate type %s, n = %d' % (d, df[df.Type == d]['HOLEID'].count()))\n",
    "    index += 1\n",
    "    "
   ]
  },
  {
   "cell_type": "markdown",
   "metadata": {},
   "source": [
    "Boxplots"
   ]
  },
  {
   "cell_type": "code",
   "execution_count": 11,
   "metadata": {
    "collapsed": true
   },
   "outputs": [],
   "source": [
    "fig, axes = plt.subplots(1,4, facecolor = 'w', sharey = True, figsize = (11,6))\n",
    "# fig.set_figwidth(10)\n",
    "boxprops = dict(color='grey')\n",
    "meanpointprops = dict(marker='*', markeredgecolor='black',\n",
    "                      markerfacecolor='firebrick', markersize = 8)\n",
    "index = 0\n",
    "for d in ['Field Duplicate', 'Coarse Reject Duplicate', 'Lab Duplicate', 'Umpire Lab']:\n",
    "    ax = axes[index]\n",
    "    data = np.array(df[df.Type == d][['Au_orig','Au_val']])\n",
    "    ax.boxplot(data, labels = ['Original','Duplicate'],\\\n",
    "               showmeans=True, meanprops = meanpointprops,\\\n",
    "               boxprops = boxprops)\n",
    "    ax.set_title(d)\n",
    "    ax.set_yscale('log')\n",
    "    if index == 0:\n",
    "        ax.set_ylabel('Au gpt')\n",
    "    yticks = ax.get_yticks()\n",
    "    ax.set_yticklabels([y for y in yticks])        \n",
    "    index += 1"
   ]
  },
  {
   "cell_type": "markdown",
   "metadata": {},
   "source": [
    "Q-Q Plots"
   ]
  },
  {
   "cell_type": "code",
   "execution_count": 12,
   "metadata": {
    "collapsed": true
   },
   "outputs": [],
   "source": [
    "fig= plt.figure(facecolor = 'w', figsize = (12,12))\n",
    "fig.suptitle('Q-Q plots for week of %s' % \\\n",
    "             (datetime.date.today() + datetime.timedelta(4 - \\\n",
    "              datetime.date.weekday(datetime.date.today()))).strftime('Friday, %B %d, %Y'), fontsize = 14)\n",
    "\n",
    "index = 1\n",
    "\n",
    "#create a range of numbers to get the percentiles for\n",
    "linspace = 10 ** (np.linspace(-3, 0, 250))\n",
    "\n",
    "for d in ['Field Duplicate', 'Coarse Reject Duplicate', 'Lab Duplicate', 'Umpire Lab']:\n",
    "    ax = fig.add_subplot(2,2,index)\n",
    "    \n",
    "    # plot 1:1 line\n",
    "    ax.plot((0,max(df[df.Type == d].Au_val)*1.1), (0,max(df[df.Type == d].Au_val)*1.1), 'r--')\n",
    "    \n",
    "    #plot data\n",
    "    ax.plot(df[df.Type == d].quantile(linspace)['Au_val'], df[df.Type == d].quantile(linspace)['Au_orig'], 'k-')\n",
    "    ax.plot(df[df.Type == d].quantile(linspace)['Au_val'], df[df.Type == d].quantile(linspace)['Au_orig'], 'r*')\n",
    "    \n",
    "    #set plot limits and scale\n",
    "    limit = max(max(df[df.Type == d].Au_val), max(df[df.Type == d].Au_orig))\n",
    "    xlim((0.005,limit))\n",
    "    ylim((0.005, limit))\n",
    "    ax.set_xscale('log')\n",
    "    ax.set_yscale('log')\n",
    "    xticks = ax.get_xticks()\n",
    "    ax.set_xticklabels([x for x in xticks])\n",
    "    yticks = ax.get_yticks()\n",
    "    ax.set_yticklabels([y for y in yticks])\n",
    "    \n",
    "    #set axis and chart titles\n",
    "    ax.set_xlabel('Duplicate (gpt)')\n",
    "    ax.set_ylabel('Original (gpt)')\n",
    "    ax.set_title('%s, n = %d' % (d, df[df.Type == d]['HOLEID'].count()))\n",
    "    \n",
    "    index += 1\n"
   ]
  },
  {
   "cell_type": "code",
   "execution_count": 13,
   "metadata": {},
   "outputs": [
    {
     "data": {
      "text/plain": [
       "<matplotlib.text.Text at 0xe7dc0d0>"
      ]
     },
     "execution_count": 13,
     "metadata": {},
     "output_type": "execute_result"
    }
   ],
   "source": [
    "fig= plt.figure(facecolor = 'w', figsize = (12,12))\n",
    "fig.suptitle('Q-Q Plots for week of %s' % datetime.date.today().strftime('%B %d, %Y'), fontsize = 14)\n",
    "\n",
    "\n",
    "\n",
    "#create a range of numbers to get the percentiles for\n",
    "linspace = 10 ** (np.linspace(-3, 0, 100))\n",
    "d = df[(df.Type == 'Coarse Reject Duplicate') | (df.Type == 'Field Duplicate')]\n",
    "\n",
    "ax = fig.add_subplot(1,1,1)\n",
    "\n",
    "# plot 1:1 line\n",
    "ax.plot((0,max(d.Au_val)*1.1), (0,max(d.Au_val)*1.1), 'r--')\n",
    "\n",
    "#plot data\n",
    "ax.plot(d.quantile(linspace)['Au_val'], d.quantile(linspace)['Au_orig'], 'k-')\n",
    "ax.plot(d.quantile(linspace)['Au_val'], d.quantile(linspace)['Au_orig'], 'r*')\n",
    "#set plot limits and scale\n",
    "limit = max(max(d.Au_val), max(d.Au_orig))\n",
    "xlim((0.005,limit))\n",
    "ylim((0.005, limit))\n",
    "ax.set_xscale('log')\n",
    "ax.set_yscale('log')\n",
    "\n",
    "#set axis and chart titles\n",
    "ax.set_xlabel('Duplicate')\n",
    "ax.set_ylabel('Original')\n",
    "\n",
    "\n",
    "    "
   ]
  },
  {
   "cell_type": "code",
   "execution_count": 14,
   "metadata": {},
   "outputs": [
    {
     "data": {
      "text/plain": [
       "array([<matplotlib.axes._subplots.AxesSubplot object at 0x0C377350>,\n",
       "       <matplotlib.axes._subplots.AxesSubplot object at 0x0C594D10>,\n",
       "       <matplotlib.axes._subplots.AxesSubplot object at 0x0C6125F0>,\n",
       "       <matplotlib.axes._subplots.AxesSubplot object at 0x0C63E6D0>], dtype=object)"
      ]
     },
     "execution_count": 14,
     "metadata": {},
     "output_type": "execute_result"
    }
   ],
   "source": [
    "axes"
   ]
  },
  {
   "cell_type": "code",
   "execution_count": 36,
   "metadata": {},
   "outputs": [
    {
     "data": {
      "text/html": [
       "<div>\n",
       "<table border=\"1\" class=\"dataframe\">\n",
       "  <thead>\n",
       "    <tr style=\"text-align: right;\">\n",
       "      <th></th>\n",
       "      <th>HOLEID</th>\n",
       "      <th>SAMPLEID</th>\n",
       "      <th>Ref</th>\n",
       "      <th>Type</th>\n",
       "      <th>Au_gpt</th>\n",
       "      <th>Au_gpt_orig</th>\n",
       "      <th>Date</th>\n",
       "      <th>Au_val</th>\n",
       "      <th>Au_orig</th>\n",
       "      <th>Au_mean</th>\n",
       "      <th>Au_diff</th>\n",
       "    </tr>\n",
       "  </thead>\n",
       "  <tbody>\n",
       "    <tr>\n",
       "      <th>95</th>\n",
       "      <td>UB17_420</td>\n",
       "      <td>S141217U</td>\n",
       "      <td>S141217</td>\n",
       "      <td>Umpire Lab</td>\n",
       "      <td>6.09</td>\n",
       "      <td>6.47</td>\n",
       "      <td>2017-07-18</td>\n",
       "      <td>6.090</td>\n",
       "      <td>6.470</td>\n",
       "      <td>6.2800</td>\n",
       "      <td>-0.380</td>\n",
       "    </tr>\n",
       "    <tr>\n",
       "      <th>149</th>\n",
       "      <td>AKC17_123</td>\n",
       "      <td>V364077U</td>\n",
       "      <td>V364077</td>\n",
       "      <td>Umpire Lab</td>\n",
       "      <td>4.657</td>\n",
       "      <td>5.02</td>\n",
       "      <td>2017-06-13</td>\n",
       "      <td>4.657</td>\n",
       "      <td>5.020</td>\n",
       "      <td>4.8385</td>\n",
       "      <td>-0.363</td>\n",
       "    </tr>\n",
       "    <tr>\n",
       "      <th>188</th>\n",
       "      <td>UB17_429</td>\n",
       "      <td>S141877U</td>\n",
       "      <td>S141877</td>\n",
       "      <td>Umpire Lab</td>\n",
       "      <td>5.22</td>\n",
       "      <td>0.034</td>\n",
       "      <td>2017-08-11</td>\n",
       "      <td>5.220</td>\n",
       "      <td>0.034</td>\n",
       "      <td>2.6270</td>\n",
       "      <td>5.186</td>\n",
       "    </tr>\n",
       "  </tbody>\n",
       "</table>\n",
       "</div>"
      ],
      "text/plain": [
       "        HOLEID  SAMPLEID      Ref        Type Au_gpt Au_gpt_orig       Date  \\\n",
       "95    UB17_420  S141217U  S141217  Umpire Lab   6.09        6.47 2017-07-18   \n",
       "149  AKC17_123  V364077U  V364077  Umpire Lab  4.657        5.02 2017-06-13   \n",
       "188   UB17_429  S141877U  S141877  Umpire Lab   5.22       0.034 2017-08-11   \n",
       "\n",
       "     Au_val  Au_orig  Au_mean  Au_diff  \n",
       "95    6.090    6.470   6.2800   -0.380  \n",
       "149   4.657    5.020   4.8385   -0.363  \n",
       "188   5.220    0.034   2.6270    5.186  "
      ]
     },
     "execution_count": 36,
     "metadata": {},
     "output_type": "execute_result"
    }
   ],
   "source": [
    "df[df.Au_val > 4]"
   ]
  },
  {
   "cell_type": "code",
   "execution_count": 51,
   "metadata": {},
   "outputs": [
    {
     "data": {
      "text/html": [
       "<div>\n",
       "<table border=\"1\" class=\"dataframe\">\n",
       "  <thead>\n",
       "    <tr style=\"text-align: right;\">\n",
       "      <th></th>\n",
       "      <th>HOLEID</th>\n",
       "      <th>SAMPLEID</th>\n",
       "      <th>Ref</th>\n",
       "      <th>Type</th>\n",
       "      <th>Au_gpt</th>\n",
       "      <th>Au_gpt_orig</th>\n",
       "      <th>Date</th>\n",
       "      <th>Au_val</th>\n",
       "      <th>Au_orig</th>\n",
       "      <th>Au_mean</th>\n",
       "      <th>Au_diff</th>\n",
       "    </tr>\n",
       "  </thead>\n",
       "  <tbody>\n",
       "    <tr>\n",
       "      <th>5</th>\n",
       "      <td>AKC17_123</td>\n",
       "      <td>V364217U</td>\n",
       "      <td>V364217</td>\n",
       "      <td>Umpire Lab</td>\n",
       "      <td>0.013</td>\n",
       "      <td>0.163</td>\n",
       "      <td>2017-06-13</td>\n",
       "      <td>0.013</td>\n",
       "      <td>0.163</td>\n",
       "      <td>0.0880</td>\n",
       "      <td>-0.150</td>\n",
       "    </tr>\n",
       "    <tr>\n",
       "      <th>12</th>\n",
       "      <td>AKC17_127</td>\n",
       "      <td>V364557U</td>\n",
       "      <td>V364557</td>\n",
       "      <td>Umpire Lab</td>\n",
       "      <td>0.014</td>\n",
       "      <td>0.071</td>\n",
       "      <td>2017-07-18</td>\n",
       "      <td>0.014</td>\n",
       "      <td>0.071</td>\n",
       "      <td>0.0425</td>\n",
       "      <td>-0.057</td>\n",
       "    </tr>\n",
       "    <tr>\n",
       "      <th>294</th>\n",
       "      <td>AKC17_123</td>\n",
       "      <td>V364057U</td>\n",
       "      <td>V364057</td>\n",
       "      <td>Umpire Lab</td>\n",
       "      <td>0.024</td>\n",
       "      <td>0.123</td>\n",
       "      <td>2017-06-13</td>\n",
       "      <td>0.024</td>\n",
       "      <td>0.123</td>\n",
       "      <td>0.0735</td>\n",
       "      <td>-0.099</td>\n",
       "    </tr>\n",
       "  </tbody>\n",
       "</table>\n",
       "</div>"
      ],
      "text/plain": [
       "        HOLEID  SAMPLEID      Ref        Type Au_gpt Au_gpt_orig       Date  \\\n",
       "5    AKC17_123  V364217U  V364217  Umpire Lab  0.013       0.163 2017-06-13   \n",
       "12   AKC17_127  V364557U  V364557  Umpire Lab  0.014       0.071 2017-07-18   \n",
       "294  AKC17_123  V364057U  V364057  Umpire Lab  0.024       0.123 2017-06-13   \n",
       "\n",
       "     Au_val  Au_orig  Au_mean  Au_diff  \n",
       "5     0.013    0.163   0.0880   -0.150  \n",
       "12    0.014    0.071   0.0425   -0.057  \n",
       "294   0.024    0.123   0.0735   -0.099  "
      ]
     },
     "execution_count": 51,
     "metadata": {},
     "output_type": "execute_result"
    }
   ],
   "source": [
    "df[(df.Au_val < 0.04) & (df.Au_orig >0.07) & (df.Type == 'Umpire Lab')]"
   ]
  },
  {
   "cell_type": "code",
   "execution_count": 12,
   "metadata": {
    "collapsed": true,
    "scrolled": true
   },
   "outputs": [],
   "source": [
    "fig= plt.figure(facecolor = 'w', figsize = (8,8))\n",
    "fig.suptitle('Duplicate Analyses for week of %s' % \\\n",
    "             (datetime.date.today() + datetime.timedelta(4 - \\\n",
    "              datetime.date.weekday(datetime.date.today()))).strftime('Friday, %B %d, %Y'), fontsize = 14)\n",
    "\n",
    "\n",
    "index = 1\n",
    "\n",
    "for d in ['Umpire Lab']:\n",
    "    ax = fig.add_subplot(1,1,1)\n",
    "    ax.plot((0,max(df.Au_val)*2), (0,max(df.Au_val)*2), 'r-')\n",
    "    \n",
    "    m, b = np.polyfit(df[df.Type == d].Au_val, df[df.Type == d].Au_orig, 1)\n",
    "    n = np.linspace(0.005, max(df.Au_val) * 1.1, 500)\n",
    "    ax.plot(n, (n * m) + b, 'b--')\n",
    "    ax.scatter(df[df.Type == d].Au_val, df[df.Type == d].Au_orig, c = 'k')\n",
    "    limit = max(max(df.Au_val), max(df.Au_orig)) * 1.1\n",
    "    ax.set_xlim((0.005,limit))\n",
    "    ax.set_ylim((0.005, limit))\n",
    "    ax.set_xscale('log')\n",
    "    ax.set_yscale('log')\n",
    "    ax.set_xlabel('Duplicate (gpt)', fontsize = 10)\n",
    "    ax.set_ylabel('Original (gpt)', fontsize = 10)\n",
    "    xticks = ax.get_xticks()\n",
    "    ax.set_xticklabels([x for x in xticks])\n",
    "    yticks = ax.get_yticks()\n",
    "    ax.set_yticklabels([y for y in yticks])\n",
    "    \n",
    "    # calculate and display correlation\n",
    "    r2 = df[df.Type == d].Au_val.corr(df[df.Type == d].Au_orig) **2\n",
    "    xpos = 10 ** (np.log10(0.005) - ((np.log10(0.005) - np.log10(limit))* 0.1) )\n",
    "    ypos = 10 ** (np.log10(0.005) - ((np.log10(0.005) - np.log10(limit))* 0.85) )\n",
    "    ax.annotate(u'r² = %.3f' % (r2), (xpos, ypos) , bbox=dict(facecolor='w', alpha=0.2, ))\n",
    "    xpos = 10 ** (np.log10(0.005) - ((np.log10(0.005) - np.log10(limit))* 0.5) )\n",
    "    ypos = 10 ** (np.log10(0.005) - ((np.log10(0.005) - np.log10(limit))* 0.15) )\n",
    "    ax.annotate(u'y = %.5f * x +\\n %.5f' % (m, b), (xpos, ypos), bbox = dict(facecolor = 'b', alpha = 0.2, ), color = 'b')\n",
    "    \n",
    "    ax.set_title('Duplicate type %s, n = %d' % (d, df[df.Type == d]['HOLEID'].count()), fontsize = 12)\n",
    "    index += 1\n",
    "   "
   ]
  },
  {
   "cell_type": "code",
   "execution_count": 22,
   "metadata": {},
   "outputs": [
    {
     "data": {
      "text/plain": [
       "'y = 1.00000 * x -\\n 0.50000'"
      ]
     },
     "execution_count": 22,
     "metadata": {},
     "output_type": "execute_result"
    }
   ],
   "source": [
    "m = 1\n",
    "b = -0.5\n",
    "'y = {:.5f} * x {}\\n {:.5f}'.format(m, '-' if b < 0 else '+',abs(b))"
   ]
  },
  {
   "cell_type": "code",
   "execution_count": null,
   "metadata": {
    "collapsed": true
   },
   "outputs": [],
   "source": []
  }
 ],
 "metadata": {
  "kernelspec": {
   "display_name": "Python 2",
   "language": "python",
   "name": "python2"
  },
  "language_info": {
   "codemirror_mode": {
    "name": "ipython",
    "version": 2
   },
   "file_extension": ".py",
   "mimetype": "text/x-python",
   "name": "python",
   "nbconvert_exporter": "python",
   "pygments_lexer": "ipython2",
   "version": "2.7.5"
  }
 },
 "nbformat": 4,
 "nbformat_minor": 1
}
