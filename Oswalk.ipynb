{
 "cells": [
  {
   "cell_type": "code",
   "execution_count": 1,
   "metadata": {
    "collapsed": true
   },
   "outputs": [],
   "source": [
    "import os"
   ]
  },
  {
   "cell_type": "code",
   "execution_count": 2,
   "metadata": {
    "collapsed": true
   },
   "outputs": [],
   "source": [
    "os.chdir(r'N:\\07_Geology\\07.2_Exploration\\4.5_ProjectsCurrent')"
   ]
  },
  {
   "cell_type": "code",
   "execution_count": 3,
   "metadata": {
    "collapsed": true
   },
   "outputs": [],
   "source": [
    "path = os.walk(os.getcwd())"
   ]
  },
  {
   "cell_type": "code",
   "execution_count": 4,
   "metadata": {},
   "outputs": [
    {
     "name": "stdout",
     "output_type": "stream",
     "text": [
      "('N:\\\\07_Geology\\\\07.2_Exploration\\\\4.5_ProjectsCurrent', ['Abitibi', 'Amalgamated Kirkland', 'Anoki', 'Bidgood', 'Callighan-Mednick-Katrine', 'Canadian Kirkland', 'Canico JV', 'Casan', 'Commodore', 'Cunningham', 'DCM-option', 'Duquesne', 'Fork Lake', 'Franco-Nevada JV', 'Gauthier', 'Glenor', 'Goldbanks', 'Golden Gate', 'Grizzly', 'Hammond Reef', 'Harvey', 'INCO Joint Venture', 'Kent Lake', 'Kirkland Gold Rand', 'Kirkland Lake Claims', 'Kirkland West', 'KL General', 'KLG JV', 'Lac McVittie', 'Lakeshore Tailings - Eastmaque', 'Lebel', 'Lucky Strike-Ashley Gold-Katrine Twp', 'Malartic', 'Matachewan', 'Mayfair', 'McBean', 'McElroy', 'McGregor', 'McVittie - former CSM claims', 'Munro', 'Murdock Creek', 'Newstrike JV', 'Noront JV', 'Northland', 'Pandora', 'Pawnee', 'Princeton', 'Quebec', 'Railway', 'Rand-Ross', 'Robertson', 'Skead-MacGregor', 'Sylvanite', 'Teck - A', 'Toburn', 'Upper Beaver', 'Upper Canada', 'Upper Canada JV', 'Victoria Creek', 'Vigrass', '__Project-1[Template]'], [])\n"
     ]
    }
   ],
   "source": [
    "root = path.next()\n",
    "print root"
   ]
  },
  {
   "cell_type": "code",
   "execution_count": 14,
   "metadata": {
    "collapsed": true
   },
   "outputs": [],
   "source": [
    "def explore(dir):\n",
    "    files = []\n",
    "    contents = os.walk(dir).next()\n",
    "    for i in contents[1]:\n",
    "        files.append(explore(contents[0]+\"\\\\\"+i))\n",
    "    for f in contents[2]:\n",
    "        files.append(contents[0]+\"\\\\\"+f)\n",
    "    return files    \n",
    "            \n",
    "            \n",
    "        "
   ]
  },
  {
   "cell_type": "code",
   "execution_count": 14,
   "metadata": {
    "collapsed": true
   },
   "outputs": [],
   "source": [
    "def seekdir(p):\n",
    "    empty = True\n",
    "    thisdir = os.walk(p).next()\n",
    "    if thisdir[2]:\n",
    "        empty = False\n",
    "    for i in thisdir[1]:\n",
    "        test = seekdir(thisdir[0]+\"\\\\\"+i)\n",
    "        if not test:\n",
    "            empty = False\n",
    "    if empty:\n",
    "        print p    \n",
    "    return empty\n",
    "\n",
    "        \n",
    "        "
   ]
  },
  {
   "cell_type": "code",
   "execution_count": 15,
   "metadata": {},
   "outputs": [],
   "source": [
    "def seekdir2(p):\n",
    "    empty = True\n",
    "    thisdir = os.listdir(p)\n",
    "    for f in thisdir:\n",
    "        fpath = os.path.join(p,f)\n",
    "        if os.path.isfile(fpath):\n",
    "            empty = False\n",
    "        elif os.path.isdir(fpath):\n",
    "            test = seekdir2(fpath)\n",
    "            if not test:\n",
    "                empty = False\n",
    "    if empty:\n",
    "        print p    \n",
    "    return empty\n"
   ]
  },
  {
   "cell_type": "code",
   "execution_count": 5,
   "metadata": {},
   "outputs": [
    {
     "data": {
      "text/plain": [
       "'N:\\\\07_Geology\\\\07.2_Exploration\\\\4.5_ProjectsCurrent'"
      ]
     },
     "execution_count": 5,
     "metadata": {},
     "output_type": "execute_result"
    }
   ],
   "source": [
    "os.getcwd()"
   ]
  },
  {
   "cell_type": "code",
   "execution_count": 17,
   "metadata": {},
   "outputs": [
    {
     "name": "stdout",
     "output_type": "stream",
     "text": [
      "N:\\07_Geology\\07.2_Exploration\\4.5_ProjectsCurrent\\Upper Beaver\\1-Reports\\Quarterlies\\2010\\1st 2010\n",
      "N:\\07_Geology\\07.2_Exploration\\4.5_ProjectsCurrent\\Upper Beaver\\1-Reports\\Resource Estimates\\2008\n",
      "N:\\07_Geology\\07.2_Exploration\\4.5_ProjectsCurrent\\Upper Beaver\\1-Reports\\Resource Estimates\\2015\\UB Technical Report - SRK April 21, 2015\\Technical Report - Final Ver- 2014\n",
      "N:\\07_Geology\\07.2_Exploration\\4.5_ProjectsCurrent\\Upper Beaver\\1-Reports\\Resource Estimates\\2016\\SRK PFS\\SRK-Cloud\\04 Metallurgy and Processing\\04 Metallurgy and Processing\n",
      "N:\\07_Geology\\07.2_Exploration\\4.5_ProjectsCurrent\\Upper Beaver\\1-Reports\\Resource Estimates\\2016\\SRK PFS\\SRK-Cloud\\04 Metallurgy and Processing\n",
      "N:\\07_Geology\\07.2_Exploration\\4.5_ProjectsCurrent\\Upper Beaver\\3-Field Grids and Control\\Field Notes\n",
      "N:\\07_Geology\\07.2_Exploration\\4.5_ProjectsCurrent\\Upper Beaver\\3-Field Grids and Control\\General Correspondence\n",
      "N:\\07_Geology\\07.2_Exploration\\4.5_ProjectsCurrent\\Upper Beaver\\3-Field Grids and Control\\Line Cutting Contracts\n",
      "N:\\07_Geology\\07.2_Exploration\\4.5_ProjectsCurrent\\Upper Beaver\\5-Mine Hazards\\Plans\n",
      "N:\\07_Geology\\07.2_Exploration\\4.5_ProjectsCurrent\\Upper Beaver\\6-Drill Data\\Assays and Certs\\Historical\n",
      "N:\\07_Geology\\07.2_Exploration\\4.5_ProjectsCurrent\\Upper Beaver\\6-Drill Data\\Assays and Certs\\QAQC\\Recheck Programs\\2010 LABO\n",
      "N:\\07_Geology\\07.2_Exploration\\4.5_ProjectsCurrent\\Upper Beaver\\6-Drill Data\\Assays and Certs\\UB_Assay_Certificates_scanned\\PDFs\\2010 PDF Certs\\Cu STD Probs\n",
      "N:\\07_Geology\\07.2_Exploration\\4.5_ProjectsCurrent\\Upper Beaver\\6-Drill Data\\Core Photos\\Core Photos\\2009\\UB10-158\n",
      "N:\\07_Geology\\07.2_Exploration\\4.5_ProjectsCurrent\\Upper Beaver\\6-Drill Data\\Core Photos\\Core Photos\\2010\\UB10-163W2 Core Photos\n",
      "N:\\07_Geology\\07.2_Exploration\\4.5_ProjectsCurrent\\Upper Beaver\\6-Drill Data\\Core Photos\\Core Photos\\2011\\Infill sampling pictures (Aug,2011)\\UB07-103\n",
      "N:\\07_Geology\\07.2_Exploration\\4.5_ProjectsCurrent\\Upper Beaver\\6-Drill Data\\Core Photos\\Core Photos\\2011\\Infill sampling pictures (Aug,2011)\\UB07-111\n",
      "N:\\07_Geology\\07.2_Exploration\\4.5_ProjectsCurrent\\Upper Beaver\\6-Drill Data\\Core Photos\\Core Photos\\2011\\Infill sampling pictures (Aug,2011)\\UB07-114\n",
      "N:\\07_Geology\\07.2_Exploration\\4.5_ProjectsCurrent\\Upper Beaver\\6-Drill Data\\Core Photos\\Core Photos\\2011\\Infill sampling pictures (Aug,2011)\\UB07-84\n",
      "N:\\07_Geology\\07.2_Exploration\\4.5_ProjectsCurrent\\Upper Beaver\\6-Drill Data\\Core Photos\\Core Photos\\2011\\Infill sampling pictures (Aug,2011)\\UB09-149\n",
      "N:\\07_Geology\\07.2_Exploration\\4.5_ProjectsCurrent\\Upper Beaver\\6-Drill Data\\Core Photos\\Core Photos\\2011\\Infill sampling pictures (Aug,2011)\\UB09-150W1\n",
      "N:\\07_Geology\\07.2_Exploration\\4.5_ProjectsCurrent\\Upper Beaver\\6-Drill Data\\Core Photos\\Core Photos\\2011\\Infill sampling pictures (Aug,2011)\\UB09-151\n",
      "N:\\07_Geology\\07.2_Exploration\\4.5_ProjectsCurrent\\Upper Beaver\\6-Drill Data\\Core Photos\\Core Photos\\2011\\Infill sampling pictures (Aug,2011)\\UB09-152\n",
      "N:\\07_Geology\\07.2_Exploration\\4.5_ProjectsCurrent\\Upper Beaver\\6-Drill Data\\Core Photos\\Core Photos\\2011\\Infill sampling pictures (Aug,2011)\\UB11-183\n",
      "N:\\07_Geology\\07.2_Exploration\\4.5_ProjectsCurrent\\Upper Beaver\\6-Drill Data\\Core Photos\\Core Photos\\2011\\UB11-189\n",
      "N:\\07_Geology\\07.2_Exploration\\4.5_ProjectsCurrent\\Upper Beaver\\6-Drill Data\\Core Photos\\Core Photos\\2012\\UB12-149EMacros\n",
      "N:\\07_Geology\\07.2_Exploration\\4.5_ProjectsCurrent\\Upper Beaver\\6-Drill Data\\Core Photos\\Representatives Masterfile\\Close ups\\core crop photos\n",
      "N:\\07_Geology\\07.2_Exploration\\4.5_ProjectsCurrent\\Upper Beaver\\6-Drill Data\\Core Photos\\Representatives Masterfile\\Mineralization Zones\\200\\Calcite\n",
      "N:\\07_Geology\\07.2_Exploration\\4.5_ProjectsCurrent\\Upper Beaver\\6-Drill Data\\Core Photos\\Representatives Masterfile\\Mineralization Zones\\200\\Carb_Anh\n",
      "N:\\07_Geology\\07.2_Exploration\\4.5_ProjectsCurrent\\Upper Beaver\\6-Drill Data\\Core Photos\\Representatives Masterfile\\Mineralization Zones\\200\\Disseminated and Fracture\n",
      "N:\\07_Geology\\07.2_Exploration\\4.5_ProjectsCurrent\\Upper Beaver\\6-Drill Data\\Core Photos\\Representatives Masterfile\\Mineralization Zones\\200\\Qtz_Moly_VG\n",
      "N:\\07_Geology\\07.2_Exploration\\4.5_ProjectsCurrent\\Upper Beaver\\6-Drill Data\\Core Photos\\Representatives Masterfile\\Mineralization Zones\\200\\Replacement Style\n",
      "N:\\07_Geology\\07.2_Exploration\\4.5_ProjectsCurrent\\Upper Beaver\\6-Drill Data\\Core Photos\\Representatives Masterfile\\Mineralization Zones\\NC1\\Calcite\n",
      "N:\\07_Geology\\07.2_Exploration\\4.5_ProjectsCurrent\\Upper Beaver\\6-Drill Data\\Core Photos\\Representatives Masterfile\\Mineralization Zones\\NC1\\Carb_Anh\n",
      "N:\\07_Geology\\07.2_Exploration\\4.5_ProjectsCurrent\\Upper Beaver\\6-Drill Data\\Core Photos\\Representatives Masterfile\\Mineralization Zones\\NC1\\Qtz_Moly_VG\n",
      "N:\\07_Geology\\07.2_Exploration\\4.5_ProjectsCurrent\\Upper Beaver\\6-Drill Data\\Core Photos\\Representatives Masterfile\\Mineralization Zones\\NC1\\Quartz\n",
      "N:\\07_Geology\\07.2_Exploration\\4.5_ProjectsCurrent\\Upper Beaver\\6-Drill Data\\Core Photos\\Representatives Masterfile\\Mineralization Zones\\NC1\\Replacement Style\n",
      "N:\\07_Geology\\07.2_Exploration\\4.5_ProjectsCurrent\\Upper Beaver\\6-Drill Data\\Core Photos\\Representatives Masterfile\\Mineralization Zones\\NC10\\Calcite\n",
      "N:\\07_Geology\\07.2_Exploration\\4.5_ProjectsCurrent\\Upper Beaver\\6-Drill Data\\Core Photos\\Representatives Masterfile\\Mineralization Zones\\NC10\\Carb_Anh\n",
      "N:\\07_Geology\\07.2_Exploration\\4.5_ProjectsCurrent\\Upper Beaver\\6-Drill Data\\Core Photos\\Representatives Masterfile\\Mineralization Zones\\NC10\\Disseminated and Fracture\n",
      "N:\\07_Geology\\07.2_Exploration\\4.5_ProjectsCurrent\\Upper Beaver\\6-Drill Data\\Core Photos\\Representatives Masterfile\\Mineralization Zones\\NC10\\Qtz_Cc_Mt_Cpy\n",
      "N:\\07_Geology\\07.2_Exploration\\4.5_ProjectsCurrent\\Upper Beaver\\6-Drill Data\\Core Photos\\Representatives Masterfile\\Mineralization Zones\\NC10\\Qtz_Moly_VG\n",
      "N:\\07_Geology\\07.2_Exploration\\4.5_ProjectsCurrent\\Upper Beaver\\6-Drill Data\\Core Photos\\Representatives Masterfile\\Mineralization Zones\\NC10\\Quartz\n",
      "N:\\07_Geology\\07.2_Exploration\\4.5_ProjectsCurrent\\Upper Beaver\\6-Drill Data\\Core Photos\\Representatives Masterfile\\Mineralization Zones\\NC10\\Replacement Style\n",
      "N:\\07_Geology\\07.2_Exploration\\4.5_ProjectsCurrent\\Upper Beaver\\6-Drill Data\\Core Photos\\Representatives Masterfile\\Mineralization Zones\\NC10\n",
      "N:\\07_Geology\\07.2_Exploration\\4.5_ProjectsCurrent\\Upper Beaver\\6-Drill Data\\Core Photos\\Representatives Masterfile\\Mineralization Zones\\NC11\\Calcite\n",
      "N:\\07_Geology\\07.2_Exploration\\4.5_ProjectsCurrent\\Upper Beaver\\6-Drill Data\\Core Photos\\Representatives Masterfile\\Mineralization Zones\\NC11\\Carb_Anh\n",
      "N:\\07_Geology\\07.2_Exploration\\4.5_ProjectsCurrent\\Upper Beaver\\6-Drill Data\\Core Photos\\Representatives Masterfile\\Mineralization Zones\\NC11\\Disseminated and Fracture\n",
      "N:\\07_Geology\\07.2_Exploration\\4.5_ProjectsCurrent\\Upper Beaver\\6-Drill Data\\Core Photos\\Representatives Masterfile\\Mineralization Zones\\NC11\\Qtz_Cc_Mt_Cpy\n",
      "N:\\07_Geology\\07.2_Exploration\\4.5_ProjectsCurrent\\Upper Beaver\\6-Drill Data\\Core Photos\\Representatives Masterfile\\Mineralization Zones\\NC11\\Qtz_Moly_VG\n",
      "N:\\07_Geology\\07.2_Exploration\\4.5_ProjectsCurrent\\Upper Beaver\\6-Drill Data\\Core Photos\\Representatives Masterfile\\Mineralization Zones\\NC11\\Quartz\n",
      "N:\\07_Geology\\07.2_Exploration\\4.5_ProjectsCurrent\\Upper Beaver\\6-Drill Data\\Core Photos\\Representatives Masterfile\\Mineralization Zones\\NC11\\Replacement Style\n",
      "N:\\07_Geology\\07.2_Exploration\\4.5_ProjectsCurrent\\Upper Beaver\\6-Drill Data\\Core Photos\\Representatives Masterfile\\Mineralization Zones\\NC11\n",
      "N:\\07_Geology\\07.2_Exploration\\4.5_ProjectsCurrent\\Upper Beaver\\6-Drill Data\\Core Photos\\Representatives Masterfile\\Mineralization Zones\\NC12\\Calcite\n",
      "N:\\07_Geology\\07.2_Exploration\\4.5_ProjectsCurrent\\Upper Beaver\\6-Drill Data\\Core Photos\\Representatives Masterfile\\Mineralization Zones\\NC12\\Carb_Anh\n",
      "N:\\07_Geology\\07.2_Exploration\\4.5_ProjectsCurrent\\Upper Beaver\\6-Drill Data\\Core Photos\\Representatives Masterfile\\Mineralization Zones\\NC12\\Disseminated and Fracture\n",
      "N:\\07_Geology\\07.2_Exploration\\4.5_ProjectsCurrent\\Upper Beaver\\6-Drill Data\\Core Photos\\Representatives Masterfile\\Mineralization Zones\\NC12\\Qtz_Cc_Mt_Cpy\n",
      "N:\\07_Geology\\07.2_Exploration\\4.5_ProjectsCurrent\\Upper Beaver\\6-Drill Data\\Core Photos\\Representatives Masterfile\\Mineralization Zones\\NC12\\Qtz_Moly_VG\n",
      "N:\\07_Geology\\07.2_Exploration\\4.5_ProjectsCurrent\\Upper Beaver\\6-Drill Data\\Core Photos\\Representatives Masterfile\\Mineralization Zones\\NC12\\Quartz\n",
      "N:\\07_Geology\\07.2_Exploration\\4.5_ProjectsCurrent\\Upper Beaver\\6-Drill Data\\Core Photos\\Representatives Masterfile\\Mineralization Zones\\NC12\\Replacement Style\n",
      "N:\\07_Geology\\07.2_Exploration\\4.5_ProjectsCurrent\\Upper Beaver\\6-Drill Data\\Core Photos\\Representatives Masterfile\\Mineralization Zones\\NC12\n",
      "N:\\07_Geology\\07.2_Exploration\\4.5_ProjectsCurrent\\Upper Beaver\\6-Drill Data\\Core Photos\\Representatives Masterfile\\Mineralization Zones\\NC2\\Carb_Anh\n",
      "N:\\07_Geology\\07.2_Exploration\\4.5_ProjectsCurrent\\Upper Beaver\\6-Drill Data\\Core Photos\\Representatives Masterfile\\Mineralization Zones\\NC2\\Disseminated and Fracture\n",
      "N:\\07_Geology\\07.2_Exploration\\4.5_ProjectsCurrent\\Upper Beaver\\6-Drill Data\\Core Photos\\Representatives Masterfile\\Mineralization Zones\\NC2\\Qtz_Moly_VG\n",
      "N:\\07_Geology\\07.2_Exploration\\4.5_ProjectsCurrent\\Upper Beaver\\6-Drill Data\\Core Photos\\Representatives Masterfile\\Mineralization Zones\\NC2\\Quartz\n",
      "N:\\07_Geology\\07.2_Exploration\\4.5_ProjectsCurrent\\Upper Beaver\\6-Drill Data\\Core Photos\\Representatives Masterfile\\Mineralization Zones\\NC2\\Replacement Style\n",
      "N:\\07_Geology\\07.2_Exploration\\4.5_ProjectsCurrent\\Upper Beaver\\6-Drill Data\\Core Photos\\Representatives Masterfile\\Mineralization Zones\\NC3\\Calcite\n",
      "N:\\07_Geology\\07.2_Exploration\\4.5_ProjectsCurrent\\Upper Beaver\\6-Drill Data\\Core Photos\\Representatives Masterfile\\Mineralization Zones\\NC3\\Carb_Anh\n",
      "N:\\07_Geology\\07.2_Exploration\\4.5_ProjectsCurrent\\Upper Beaver\\6-Drill Data\\Core Photos\\Representatives Masterfile\\Mineralization Zones\\NC3\\Disseminated and Fracture\n",
      "N:\\07_Geology\\07.2_Exploration\\4.5_ProjectsCurrent\\Upper Beaver\\6-Drill Data\\Core Photos\\Representatives Masterfile\\Mineralization Zones\\NC3\\Qtz_Moly_VG\n",
      "N:\\07_Geology\\07.2_Exploration\\4.5_ProjectsCurrent\\Upper Beaver\\6-Drill Data\\Core Photos\\Representatives Masterfile\\Mineralization Zones\\NC3\\Quartz\n",
      "N:\\07_Geology\\07.2_Exploration\\4.5_ProjectsCurrent\\Upper Beaver\\6-Drill Data\\Core Photos\\Representatives Masterfile\\Mineralization Zones\\NC3\\Replacement Style\n",
      "N:\\07_Geology\\07.2_Exploration\\4.5_ProjectsCurrent\\Upper Beaver\\6-Drill Data\\Core Photos\\Representatives Masterfile\\Mineralization Zones\\NC4\\Calcite\n",
      "N:\\07_Geology\\07.2_Exploration\\4.5_ProjectsCurrent\\Upper Beaver\\6-Drill Data\\Core Photos\\Representatives Masterfile\\Mineralization Zones\\NC4\\Carb_Anh\n",
      "N:\\07_Geology\\07.2_Exploration\\4.5_ProjectsCurrent\\Upper Beaver\\6-Drill Data\\Core Photos\\Representatives Masterfile\\Mineralization Zones\\NC4\\Disseminated and Fracture\n",
      "N:\\07_Geology\\07.2_Exploration\\4.5_ProjectsCurrent\\Upper Beaver\\6-Drill Data\\Core Photos\\Representatives Masterfile\\Mineralization Zones\\NC4\\Qtz_Cc_Mt_Cpy\n",
      "N:\\07_Geology\\07.2_Exploration\\4.5_ProjectsCurrent\\Upper Beaver\\6-Drill Data\\Core Photos\\Representatives Masterfile\\Mineralization Zones\\NC4\\Qtz_Moly_VG\n",
      "N:\\07_Geology\\07.2_Exploration\\4.5_ProjectsCurrent\\Upper Beaver\\6-Drill Data\\Core Photos\\Representatives Masterfile\\Mineralization Zones\\NC4\\Quartz\n",
      "N:\\07_Geology\\07.2_Exploration\\4.5_ProjectsCurrent\\Upper Beaver\\6-Drill Data\\Core Photos\\Representatives Masterfile\\Mineralization Zones\\NC4\\Replacement Style\n",
      "N:\\07_Geology\\07.2_Exploration\\4.5_ProjectsCurrent\\Upper Beaver\\6-Drill Data\\Core Photos\\Representatives Masterfile\\Mineralization Zones\\NC4\n",
      "N:\\07_Geology\\07.2_Exploration\\4.5_ProjectsCurrent\\Upper Beaver\\6-Drill Data\\Core Photos\\Representatives Masterfile\\Mineralization Zones\\NC5\\Calcite\n"
     ]
    },
    {
     "name": "stdout",
     "output_type": "stream",
     "text": [
      "N:\\07_Geology\\07.2_Exploration\\4.5_ProjectsCurrent\\Upper Beaver\\6-Drill Data\\Core Photos\\Representatives Masterfile\\Mineralization Zones\\NC5\\Carb_Anh\n",
      "N:\\07_Geology\\07.2_Exploration\\4.5_ProjectsCurrent\\Upper Beaver\\6-Drill Data\\Core Photos\\Representatives Masterfile\\Mineralization Zones\\NC5\\Quartz\n",
      "N:\\07_Geology\\07.2_Exploration\\4.5_ProjectsCurrent\\Upper Beaver\\6-Drill Data\\Core Photos\\Representatives Masterfile\\Mineralization Zones\\NC5\\Replacement Style\n",
      "N:\\07_Geology\\07.2_Exploration\\4.5_ProjectsCurrent\\Upper Beaver\\6-Drill Data\\Core Photos\\Representatives Masterfile\\Mineralization Zones\\NC6\\Carb_Anh\n",
      "N:\\07_Geology\\07.2_Exploration\\4.5_ProjectsCurrent\\Upper Beaver\\6-Drill Data\\Core Photos\\Representatives Masterfile\\Mineralization Zones\\NC6\\Disseminated and Fracture\n",
      "N:\\07_Geology\\07.2_Exploration\\4.5_ProjectsCurrent\\Upper Beaver\\6-Drill Data\\Core Photos\\Representatives Masterfile\\Mineralization Zones\\NC6\\Qtz_Moly_VG\n",
      "N:\\07_Geology\\07.2_Exploration\\4.5_ProjectsCurrent\\Upper Beaver\\6-Drill Data\\Core Photos\\Representatives Masterfile\\Mineralization Zones\\NC6\\Quartz\n",
      "N:\\07_Geology\\07.2_Exploration\\4.5_ProjectsCurrent\\Upper Beaver\\6-Drill Data\\Core Photos\\Representatives Masterfile\\Mineralization Zones\\NC6\\Replacement Style\n",
      "N:\\07_Geology\\07.2_Exploration\\4.5_ProjectsCurrent\\Upper Beaver\\6-Drill Data\\Core Photos\\Representatives Masterfile\\Mineralization Zones\\NC7\\Calcite\n",
      "N:\\07_Geology\\07.2_Exploration\\4.5_ProjectsCurrent\\Upper Beaver\\6-Drill Data\\Core Photos\\Representatives Masterfile\\Mineralization Zones\\NC7\\Carb_Anh\n",
      "N:\\07_Geology\\07.2_Exploration\\4.5_ProjectsCurrent\\Upper Beaver\\6-Drill Data\\Core Photos\\Representatives Masterfile\\Mineralization Zones\\NC7\\Qtz_Cc_Mt_Cpy\n",
      "N:\\07_Geology\\07.2_Exploration\\4.5_ProjectsCurrent\\Upper Beaver\\6-Drill Data\\Core Photos\\Representatives Masterfile\\Mineralization Zones\\NC7\\Qtz_Moly_VG\n",
      "N:\\07_Geology\\07.2_Exploration\\4.5_ProjectsCurrent\\Upper Beaver\\6-Drill Data\\Core Photos\\Representatives Masterfile\\Mineralization Zones\\NC7\\Quartz\n",
      "N:\\07_Geology\\07.2_Exploration\\4.5_ProjectsCurrent\\Upper Beaver\\6-Drill Data\\Core Photos\\Representatives Masterfile\\Mineralization Zones\\NC7\\Replacement Style\n",
      "N:\\07_Geology\\07.2_Exploration\\4.5_ProjectsCurrent\\Upper Beaver\\6-Drill Data\\Core Photos\\Representatives Masterfile\\Mineralization Zones\\NC8\\Calcite\n",
      "N:\\07_Geology\\07.2_Exploration\\4.5_ProjectsCurrent\\Upper Beaver\\6-Drill Data\\Core Photos\\Representatives Masterfile\\Mineralization Zones\\NC8\\Carb_Anh\n",
      "N:\\07_Geology\\07.2_Exploration\\4.5_ProjectsCurrent\\Upper Beaver\\6-Drill Data\\Core Photos\\Representatives Masterfile\\Mineralization Zones\\NC8\\Qtz_Cc_Mt_Cpy\n",
      "N:\\07_Geology\\07.2_Exploration\\4.5_ProjectsCurrent\\Upper Beaver\\6-Drill Data\\Core Photos\\Representatives Masterfile\\Mineralization Zones\\NC8\\Qtz_Moly_VG\n",
      "N:\\07_Geology\\07.2_Exploration\\4.5_ProjectsCurrent\\Upper Beaver\\6-Drill Data\\Core Photos\\Representatives Masterfile\\Mineralization Zones\\NC8\\Quartz\n",
      "N:\\07_Geology\\07.2_Exploration\\4.5_ProjectsCurrent\\Upper Beaver\\6-Drill Data\\Core Photos\\Representatives Masterfile\\Mineralization Zones\\NC8\\Replacement Style\n",
      "N:\\07_Geology\\07.2_Exploration\\4.5_ProjectsCurrent\\Upper Beaver\\6-Drill Data\\Core Photos\\Representatives Masterfile\\Mineralization Zones\\NC9\\Calcite\n",
      "N:\\07_Geology\\07.2_Exploration\\4.5_ProjectsCurrent\\Upper Beaver\\6-Drill Data\\Core Photos\\Representatives Masterfile\\Mineralization Zones\\NC9\\Carb_Anh\n",
      "N:\\07_Geology\\07.2_Exploration\\4.5_ProjectsCurrent\\Upper Beaver\\6-Drill Data\\Core Photos\\Representatives Masterfile\\Mineralization Zones\\NC9\\Qtz_Cc_Mt_Cpy\n",
      "N:\\07_Geology\\07.2_Exploration\\4.5_ProjectsCurrent\\Upper Beaver\\6-Drill Data\\Core Photos\\Representatives Masterfile\\Mineralization Zones\\NC9\\Qtz_Moly_VG\n",
      "N:\\07_Geology\\07.2_Exploration\\4.5_ProjectsCurrent\\Upper Beaver\\6-Drill Data\\Core Photos\\Representatives Masterfile\\Mineralization Zones\\NC9\\Quartz\n",
      "N:\\07_Geology\\07.2_Exploration\\4.5_ProjectsCurrent\\Upper Beaver\\6-Drill Data\\Core Photos\\Representatives Masterfile\\Mineralization Zones\\NC9\\Replacement Style\n",
      "N:\\07_Geology\\07.2_Exploration\\4.5_ProjectsCurrent\\Upper Beaver\\6-Drill Data\\Core Photos\\Representatives Masterfile\\Mineralization Zones\\Porphyry East Lower\\Calcite\n",
      "N:\\07_Geology\\07.2_Exploration\\4.5_ProjectsCurrent\\Upper Beaver\\6-Drill Data\\Core Photos\\Representatives Masterfile\\Mineralization Zones\\Porphyry East Lower\\Carb_Anh\n",
      "N:\\07_Geology\\07.2_Exploration\\4.5_ProjectsCurrent\\Upper Beaver\\6-Drill Data\\Core Photos\\Representatives Masterfile\\Mineralization Zones\\Porphyry East Lower\\Disseminated and Fracture\n",
      "N:\\07_Geology\\07.2_Exploration\\4.5_ProjectsCurrent\\Upper Beaver\\6-Drill Data\\Core Photos\\Representatives Masterfile\\Mineralization Zones\\Porphyry East Lower\\Qtz_Moly_VG\n",
      "N:\\07_Geology\\07.2_Exploration\\4.5_ProjectsCurrent\\Upper Beaver\\6-Drill Data\\Core Photos\\Representatives Masterfile\\Mineralization Zones\\Porphyry East Lower\\Quartz\n",
      "N:\\07_Geology\\07.2_Exploration\\4.5_ProjectsCurrent\\Upper Beaver\\6-Drill Data\\Core Photos\\Representatives Masterfile\\Mineralization Zones\\Porphyry East Lower\\Replacement Style\n",
      "N:\\07_Geology\\07.2_Exploration\\4.5_ProjectsCurrent\\Upper Beaver\\6-Drill Data\\Core Photos\\Representatives Masterfile\\Mineralization Zones\\Porphyry East Upper\\Disseminated and Fracture\n",
      "N:\\07_Geology\\07.2_Exploration\\4.5_ProjectsCurrent\\Upper Beaver\\6-Drill Data\\Core Photos\\Representatives Masterfile\\Mineralization Zones\\Porphyry West Lower\\Calcite\n",
      "N:\\07_Geology\\07.2_Exploration\\4.5_ProjectsCurrent\\Upper Beaver\\6-Drill Data\\Core Photos\\Representatives Masterfile\\Mineralization Zones\\Porphyry West Lower\\Carb_Anh\n",
      "N:\\07_Geology\\07.2_Exploration\\4.5_ProjectsCurrent\\Upper Beaver\\6-Drill Data\\Core Photos\\Representatives Masterfile\\Mineralization Zones\\Porphyry West Lower\\Qtz_Cc_Mt_Cpy\n",
      "N:\\07_Geology\\07.2_Exploration\\4.5_ProjectsCurrent\\Upper Beaver\\6-Drill Data\\Core Photos\\Representatives Masterfile\\Mineralization Zones\\Porphyry West Lower\\Qtz_Moly_VG\n",
      "N:\\07_Geology\\07.2_Exploration\\4.5_ProjectsCurrent\\Upper Beaver\\6-Drill Data\\Core Photos\\Representatives Masterfile\\Mineralization Zones\\Porphyry West Lower\\Quartz\n",
      "N:\\07_Geology\\07.2_Exploration\\4.5_ProjectsCurrent\\Upper Beaver\\6-Drill Data\\Core Photos\\Representatives Masterfile\\Mineralization Zones\\Porphyry West Lower\\Replacement Style\n",
      "N:\\07_Geology\\07.2_Exploration\\4.5_ProjectsCurrent\\Upper Beaver\\6-Drill Data\\Core Photos\\Representatives Masterfile\\Mineralization Zones\\Porphyry West Upper\\Calcite\n",
      "N:\\07_Geology\\07.2_Exploration\\4.5_ProjectsCurrent\\Upper Beaver\\6-Drill Data\\Core Photos\\Representatives Masterfile\\Mineralization Zones\\Porphyry West Upper\\Carb_Anh\n",
      "N:\\07_Geology\\07.2_Exploration\\4.5_ProjectsCurrent\\Upper Beaver\\6-Drill Data\\Core Photos\\Representatives Masterfile\\Mineralization Zones\\Porphyry West Upper\\Qtz_Cc_Mt_Cpy\n",
      "N:\\07_Geology\\07.2_Exploration\\4.5_ProjectsCurrent\\Upper Beaver\\6-Drill Data\\Core Photos\\Representatives Masterfile\\Mineralization Zones\\Porphyry West Upper\\Qtz_Moly_VG\n",
      "N:\\07_Geology\\07.2_Exploration\\4.5_ProjectsCurrent\\Upper Beaver\\6-Drill Data\\Core Photos\\Representatives Masterfile\\Mineralization Zones\\Porphyry West Upper\\Quartz\n",
      "N:\\07_Geology\\07.2_Exploration\\4.5_ProjectsCurrent\\Upper Beaver\\6-Drill Data\\Core Photos\\Representatives Masterfile\\Mineralization Zones\\Porphyry West Upper\\Replacement Style\n",
      "N:\\07_Geology\\07.2_Exploration\\4.5_ProjectsCurrent\\Upper Beaver\\6-Drill Data\\Core Photos\\Representatives Masterfile\\Mineralization Zones\\Q1\\Carb_Anh\n",
      "N:\\07_Geology\\07.2_Exploration\\4.5_ProjectsCurrent\\Upper Beaver\\6-Drill Data\\Core Photos\\Representatives Masterfile\\Mineralization Zones\\Q1\\Quartz\n",
      "N:\\07_Geology\\07.2_Exploration\\4.5_ProjectsCurrent\\Upper Beaver\\6-Drill Data\\Core Photos\\Representatives Masterfile\\Mineralization Zones\\Q1\\Replacement Style\n",
      "N:\\07_Geology\\07.2_Exploration\\4.5_ProjectsCurrent\\Upper Beaver\\6-Drill Data\\Core Photos\\Representatives Masterfile\\Mineralization Zones\\Q2\\Carb_Anh\n",
      "N:\\07_Geology\\07.2_Exploration\\4.5_ProjectsCurrent\\Upper Beaver\\6-Drill Data\\Core Photos\\Representatives Masterfile\\Mineralization Zones\\Q2\\Qtz_Cc_Mt_Cpy\n",
      "N:\\07_Geology\\07.2_Exploration\\4.5_ProjectsCurrent\\Upper Beaver\\6-Drill Data\\Core Photos\\Representatives Masterfile\\Mineralization Zones\\Q2\\Quartz\n",
      "N:\\07_Geology\\07.2_Exploration\\4.5_ProjectsCurrent\\Upper Beaver\\6-Drill Data\\Core Photos\\Representatives Masterfile\\Mineralization Zones\\Q2\\Replacement Style\n",
      "N:\\07_Geology\\07.2_Exploration\\4.5_ProjectsCurrent\\Upper Beaver\\6-Drill Data\\Core Photos\\Representatives Masterfile\\Mineralization Zones\\Q3\\Carb_Anh\n",
      "N:\\07_Geology\\07.2_Exploration\\4.5_ProjectsCurrent\\Upper Beaver\\6-Drill Data\\Core Photos\\Representatives Masterfile\\Mineralization Zones\\Q3\\Qtz_Cc_Mt_Cpy\n",
      "N:\\07_Geology\\07.2_Exploration\\4.5_ProjectsCurrent\\Upper Beaver\\6-Drill Data\\Core Photos\\Representatives Masterfile\\Mineralization Zones\\Q3\\Qtz_Moly_VG\n",
      "N:\\07_Geology\\07.2_Exploration\\4.5_ProjectsCurrent\\Upper Beaver\\6-Drill Data\\Core Photos\\Representatives Masterfile\\Mineralization Zones\\Q3\\Quartz\n",
      "N:\\07_Geology\\07.2_Exploration\\4.5_ProjectsCurrent\\Upper Beaver\\6-Drill Data\\Core Photos\\Representatives Masterfile\\Mineralization Zones\\Q3\\Replacement Style\n",
      "N:\\07_Geology\\07.2_Exploration\\4.5_ProjectsCurrent\\Upper Beaver\\6-Drill Data\\Core Photos\\Representatives Masterfile\\Mineralization Zones\\Q4\\Carb_Anh\n",
      "N:\\07_Geology\\07.2_Exploration\\4.5_ProjectsCurrent\\Upper Beaver\\6-Drill Data\\Core Photos\\Representatives Masterfile\\Mineralization Zones\\Q4\\Disseminated and Fracture\n",
      "N:\\07_Geology\\07.2_Exploration\\4.5_ProjectsCurrent\\Upper Beaver\\6-Drill Data\\Core Photos\\Representatives Masterfile\\Mineralization Zones\\Q4\\Qtz_Cc_Mt_Cpy\n",
      "N:\\07_Geology\\07.2_Exploration\\4.5_ProjectsCurrent\\Upper Beaver\\6-Drill Data\\Core Photos\\Representatives Masterfile\\Mineralization Zones\\Q4\\Qtz_Moly_VG\n",
      "N:\\07_Geology\\07.2_Exploration\\4.5_ProjectsCurrent\\Upper Beaver\\6-Drill Data\\Core Photos\\Representatives Masterfile\\Mineralization Zones\\Q4\\Quartz\n",
      "N:\\07_Geology\\07.2_Exploration\\4.5_ProjectsCurrent\\Upper Beaver\\6-Drill Data\\Core Photos\\Representatives Masterfile\\Mineralization Zones\\Q4\\Replacement Style\n",
      "N:\\07_Geology\\07.2_Exploration\\4.5_ProjectsCurrent\\Upper Beaver\\6-Drill Data\\Core Photos\\Representatives Masterfile\\Mineralization Zones\\Q5\\Carb_Anh\n",
      "N:\\07_Geology\\07.2_Exploration\\4.5_ProjectsCurrent\\Upper Beaver\\6-Drill Data\\Core Photos\\Representatives Masterfile\\Mineralization Zones\\Q5\\Disseminated and Fracture\n"
     ]
    },
    {
     "name": "stdout",
     "output_type": "stream",
     "text": [
      "N:\\07_Geology\\07.2_Exploration\\4.5_ProjectsCurrent\\Upper Beaver\\6-Drill Data\\Core Photos\\Representatives Masterfile\\Mineralization Zones\\Q5\\Qtz_Cc_Mt_Cpy\n",
      "N:\\07_Geology\\07.2_Exploration\\4.5_ProjectsCurrent\\Upper Beaver\\6-Drill Data\\Core Photos\\Representatives Masterfile\\Mineralization Zones\\Q5\\Qtz_Moly_VG\n",
      "N:\\07_Geology\\07.2_Exploration\\4.5_ProjectsCurrent\\Upper Beaver\\6-Drill Data\\Core Photos\\Representatives Masterfile\\Mineralization Zones\\Q5\\Quartz\n",
      "N:\\07_Geology\\07.2_Exploration\\4.5_ProjectsCurrent\\Upper Beaver\\6-Drill Data\\Core Photos\\Representatives Masterfile\\Mineralization Zones\\Q5\\Replacement Style\n",
      "N:\\07_Geology\\07.2_Exploration\\4.5_ProjectsCurrent\\Upper Beaver\\6-Drill Data\\Core Photos\\Representatives Masterfile\\Mineralization Zones\\Q6\\Calcite\n",
      "N:\\07_Geology\\07.2_Exploration\\4.5_ProjectsCurrent\\Upper Beaver\\6-Drill Data\\Core Photos\\Representatives Masterfile\\Mineralization Zones\\Q6\\Carb_Anh\n",
      "N:\\07_Geology\\07.2_Exploration\\4.5_ProjectsCurrent\\Upper Beaver\\6-Drill Data\\Core Photos\\Representatives Masterfile\\Mineralization Zones\\Q6\\Qtz_Cc_Mt_Cpy\n",
      "N:\\07_Geology\\07.2_Exploration\\4.5_ProjectsCurrent\\Upper Beaver\\6-Drill Data\\Core Photos\\Representatives Masterfile\\Mineralization Zones\\Q6\\Qtz_Moly_VG\n",
      "N:\\07_Geology\\07.2_Exploration\\4.5_ProjectsCurrent\\Upper Beaver\\6-Drill Data\\Core Photos\\Representatives Masterfile\\Mineralization Zones\\Q6\\Quartz\n",
      "N:\\07_Geology\\07.2_Exploration\\4.5_ProjectsCurrent\\Upper Beaver\\6-Drill Data\\Core Photos\\Representatives Masterfile\\Mineralization Zones\\Q6\\Replacement Style\n",
      "N:\\07_Geology\\07.2_Exploration\\4.5_ProjectsCurrent\\Upper Beaver\\6-Drill Data\\Core Photos\\Representatives Masterfile\\Mineralization Zones\\SC1\\Carb_Anh\n",
      "N:\\07_Geology\\07.2_Exploration\\4.5_ProjectsCurrent\\Upper Beaver\\6-Drill Data\\Core Photos\\Representatives Masterfile\\Mineralization Zones\\SC1\\Disseminated and Fracture\n",
      "N:\\07_Geology\\07.2_Exploration\\4.5_ProjectsCurrent\\Upper Beaver\\6-Drill Data\\Core Photos\\Representatives Masterfile\\Mineralization Zones\\SC1\\Qtz_Cc_Mt_Cpy\n",
      "N:\\07_Geology\\07.2_Exploration\\4.5_ProjectsCurrent\\Upper Beaver\\6-Drill Data\\Core Photos\\Representatives Masterfile\\Mineralization Zones\\SC1\\Qtz_Moly_VG\n",
      "N:\\07_Geology\\07.2_Exploration\\4.5_ProjectsCurrent\\Upper Beaver\\6-Drill Data\\Core Photos\\Representatives Masterfile\\Mineralization Zones\\SC1\\Quartz\n",
      "N:\\07_Geology\\07.2_Exploration\\4.5_ProjectsCurrent\\Upper Beaver\\6-Drill Data\\Core Photos\\Representatives Masterfile\\Mineralization Zones\\SC1\\Replacement Style\n",
      "N:\\07_Geology\\07.2_Exploration\\4.5_ProjectsCurrent\\Upper Beaver\\6-Drill Data\\Core Photos\\Representatives Masterfile\\Mineralization Zones\\SC2\\Calcite\n",
      "N:\\07_Geology\\07.2_Exploration\\4.5_ProjectsCurrent\\Upper Beaver\\6-Drill Data\\Core Photos\\Representatives Masterfile\\Mineralization Zones\\SC2\\Carb_Anh\n",
      "N:\\07_Geology\\07.2_Exploration\\4.5_ProjectsCurrent\\Upper Beaver\\6-Drill Data\\Core Photos\\Representatives Masterfile\\Mineralization Zones\\SC2\\Qtz_Cc_Mt_Cpy\n",
      "N:\\07_Geology\\07.2_Exploration\\4.5_ProjectsCurrent\\Upper Beaver\\6-Drill Data\\Core Photos\\Representatives Masterfile\\Mineralization Zones\\SC2\\Qtz_Moly_VG\n",
      "N:\\07_Geology\\07.2_Exploration\\4.5_ProjectsCurrent\\Upper Beaver\\6-Drill Data\\Core Photos\\Representatives Masterfile\\Mineralization Zones\\SC2\\Quartz\n",
      "N:\\07_Geology\\07.2_Exploration\\4.5_ProjectsCurrent\\Upper Beaver\\6-Drill Data\\Core Photos\\Representatives Masterfile\\Mineralization Zones\\SC2\\Replacement Style\n",
      "N:\\07_Geology\\07.2_Exploration\\4.5_ProjectsCurrent\\Upper Beaver\\6-Drill Data\\Core Photos\\Representatives Masterfile\\Mineralization Zones\\SC3\\Calcite\n",
      "N:\\07_Geology\\07.2_Exploration\\4.5_ProjectsCurrent\\Upper Beaver\\6-Drill Data\\Core Photos\\Representatives Masterfile\\Mineralization Zones\\SC3\\Carb_Anh\n",
      "N:\\07_Geology\\07.2_Exploration\\4.5_ProjectsCurrent\\Upper Beaver\\6-Drill Data\\Core Photos\\Representatives Masterfile\\Mineralization Zones\\SC3\\Disseminated and Fracture\n",
      "N:\\07_Geology\\07.2_Exploration\\4.5_ProjectsCurrent\\Upper Beaver\\6-Drill Data\\Core Photos\\Representatives Masterfile\\Mineralization Zones\\SC3\\Qtz_Cc_Mt_Cpy\n",
      "N:\\07_Geology\\07.2_Exploration\\4.5_ProjectsCurrent\\Upper Beaver\\6-Drill Data\\Core Photos\\Representatives Masterfile\\Mineralization Zones\\SC3\\Qtz_Moly_VG\n",
      "N:\\07_Geology\\07.2_Exploration\\4.5_ProjectsCurrent\\Upper Beaver\\6-Drill Data\\Core Photos\\Representatives Masterfile\\Mineralization Zones\\SC3\\Quartz\n",
      "N:\\07_Geology\\07.2_Exploration\\4.5_ProjectsCurrent\\Upper Beaver\\6-Drill Data\\Core Photos\\Representatives Masterfile\\Mineralization Zones\\SC3\\Replacement Style\n",
      "N:\\07_Geology\\07.2_Exploration\\4.5_ProjectsCurrent\\Upper Beaver\\6-Drill Data\\Core Photos\\Representatives Masterfile\\Mineralization Zones\\South Contact\\Disseminated and Fracture\n",
      "N:\\07_Geology\\07.2_Exploration\\4.5_ProjectsCurrent\\Upper Beaver\\6-Drill Data\\Core Photos\\Representatives Masterfile\\Mineralization Zones\\South Contact\\Qtz_Cc_Mt_Cpy\n",
      "N:\\07_Geology\\07.2_Exploration\\4.5_ProjectsCurrent\\Upper Beaver\\6-Drill Data\\Core Photos\\Representatives Masterfile\\Mineralization Zones\\South Contact\\Qtz_Moly_VG\n",
      "N:\\07_Geology\\07.2_Exploration\\4.5_ProjectsCurrent\\Upper Beaver\\6-Drill Data\\Core Photos\\Representatives Masterfile\\Mineralization Zones\\South Contact\\Quartz\n",
      "N:\\07_Geology\\07.2_Exploration\\4.5_ProjectsCurrent\\Upper Beaver\\6-Drill Data\\Core Photos\\Representatives Masterfile\\Mineralization Zones\\South Contact\\Replacement Style\n",
      "N:\\07_Geology\\07.2_Exploration\\4.5_ProjectsCurrent\\Upper Beaver\\6-Drill Data\\Core Photos\\Representatives Masterfile\\Mineralization Zones\\Syenite Breccia\\Calcite\n",
      "N:\\07_Geology\\07.2_Exploration\\4.5_ProjectsCurrent\\Upper Beaver\\6-Drill Data\\Core Photos\\Representatives Masterfile\\Mineralization Zones\\Syenite Breccia\\Carb_Anh\n",
      "N:\\07_Geology\\07.2_Exploration\\4.5_ProjectsCurrent\\Upper Beaver\\6-Drill Data\\Core Photos\\Representatives Masterfile\\Mineralization Zones\\Syenite Breccia\\Disseminated and Fracture\n",
      "N:\\07_Geology\\07.2_Exploration\\4.5_ProjectsCurrent\\Upper Beaver\\6-Drill Data\\Core Photos\\Representatives Masterfile\\Mineralization Zones\\Syenite Breccia\\Qtz_Cc_Mt_Cpy\n",
      "N:\\07_Geology\\07.2_Exploration\\4.5_ProjectsCurrent\\Upper Beaver\\6-Drill Data\\Core Photos\\Representatives Masterfile\\Mineralization Zones\\Syenite Breccia\\Qtz_Moly_VG\n",
      "N:\\07_Geology\\07.2_Exploration\\4.5_ProjectsCurrent\\Upper Beaver\\6-Drill Data\\Core Photos\\Representatives Masterfile\\Mineralization Zones\\Syenite Breccia\\Quartz\n",
      "N:\\07_Geology\\07.2_Exploration\\4.5_ProjectsCurrent\\Upper Beaver\\6-Drill Data\\Core Photos\\Representatives Masterfile\\Mineralization Zones\\Syenite Breccia\\Replacement Style\n",
      "N:\\07_Geology\\07.2_Exploration\\4.5_ProjectsCurrent\\Upper Beaver\\6-Drill Data\\Core Photos\\Representatives Masterfile\\Mineralization Zones\\Syenite Breccia\n",
      "N:\\07_Geology\\07.2_Exploration\\4.5_ProjectsCurrent\\Upper Beaver\\6-Drill Data\\Geochem\\GEOCHEMISTRY\\Shaft Sample Project\\Original Data_shaft\\Upper Beaver DDH 178GT Sections with samples\\Upper Beaver DDH 178GT Sections with samples\n",
      "N:\\07_Geology\\07.2_Exploration\\4.5_ProjectsCurrent\\Upper Beaver\\6-Drill Data\\Geochem\\GEOCHEMISTRY\\Shaft Sample Project\\Original Data_shaft\\Upper Beaver DDH 178GT Sections with samples\n",
      "N:\\07_Geology\\07.2_Exploration\\4.5_ProjectsCurrent\\Upper Beaver\\6-Drill Data\\Geochem\\GEOCHEMISTRY\\Shaft Sample Project_Chris Clarke_OCT2012\\Shaft Sample Project\\Original Data_shaft\\Upper Beaver DDH 178GT Sections with samples\n",
      "N:\\07_Geology\\07.2_Exploration\\4.5_ProjectsCurrent\\Upper Beaver\\6-Drill Data\\Geochem\\GEOCHEMISTRY\\Shaft Sample Project_Chris Clarke_OCT2012\\Triplot\\Downloads\n",
      "N:\\07_Geology\\07.2_Exploration\\4.5_ProjectsCurrent\\Upper Beaver\\6-Drill Data\\Geochem\\GEOCHEMISTRY\\South Contact Project\n",
      "N:\\07_Geology\\07.2_Exploration\\4.5_ProjectsCurrent\\Upper Beaver\\6-Drill Data\\Geochem\\GEOCHEMISTRY\\Triplot\\Downloads\n",
      "N:\\07_Geology\\07.2_Exploration\\4.5_ProjectsCurrent\\Upper Beaver\\6-Drill Data\\Geotic_DB\\gt_KL_UpperBeaver_EXPORT\\Certificates\\Geochemistry\n",
      "N:\\07_Geology\\07.2_Exploration\\4.5_ProjectsCurrent\\Upper Beaver\\6-Drill Data\\Geotic_DB\\gt_KL_UpperBeaver_EXPORT\\Export\n",
      "N:\\07_Geology\\07.2_Exploration\\4.5_ProjectsCurrent\\Upper Beaver\\6-Drill Data\\Geotic_DB\\gt_KL_UpperBeaver_EXPORT\\Geophys\n",
      "N:\\07_Geology\\07.2_Exploration\\4.5_ProjectsCurrent\\Upper Beaver\\6-Drill Data\\Geotic_DB\\gt_KL_UpperBeaver_EXPORT\\Import\n",
      "N:\\07_Geology\\07.2_Exploration\\4.5_ProjectsCurrent\\Upper Beaver\\6-Drill Data\\Geotic_DB\\gt_KL_UpperBeaver_EXPORT\\Photos\n"
     ]
    },
    {
     "name": "stdout",
     "output_type": "stream",
     "text": [
      "N:\\07_Geology\\07.2_Exploration\\4.5_ProjectsCurrent\\Upper Beaver\\Environmental\\Aquatic\\Fish derby\\Fish derby 2012 pics\\MISC\n",
      "N:\\07_Geology\\07.2_Exploration\\4.5_ProjectsCurrent\\Upper Beaver\\Environmental\\Socio-Economic\\Digital Orthophotos\n",
      "N:\\07_Geology\\07.2_Exploration\\4.5_ProjectsCurrent\\Upper Beaver\\Environmental\\UBSE Drilling 2017\\UBSE 2017 drill inspection photos\\New folder\n",
      "N:\\07_Geology\\07.2_Exploration\\4.5_ProjectsCurrent\\Upper Beaver\\Geochem Survey\\MMI Surveys\n",
      "N:\\07_Geology\\07.2_Exploration\\4.5_ProjectsCurrent\\Upper Beaver\\Maps - Sections\\Historical_Plans_sections\\Scanning_program_2006\\Disc_2\\Geology\\nad83\n",
      "N:\\07_Geology\\07.2_Exploration\\4.5_ProjectsCurrent\\Upper Beaver\\Maps - Sections\\Level Plans\n",
      "N:\\07_Geology\\07.2_Exploration\\4.5_ProjectsCurrent\\Upper Beaver\\Maps - Sections\\Mine Plans\\Level Plans\n",
      "N:\\07_Geology\\07.2_Exploration\\4.5_ProjectsCurrent\\Upper Beaver\\Maps - Sections\\Mine Plans\\Surface Plans\n",
      "N:\\07_Geology\\07.2_Exploration\\4.5_ProjectsCurrent\\Upper Beaver\\Maps - Sections\\Surface Plans\\Trenching and Stripping\n",
      "N:\\07_Geology\\07.2_Exploration\\4.5_ProjectsCurrent\\Upper Beaver\\Maps - Sections\\Upper Beaver 1_10 scale Digitizing\\UBUGW_Nov2014\\ArcGIS\\AddIns\\Desktop10.2\n",
      "N:\\07_Geology\\07.2_Exploration\\4.5_ProjectsCurrent\\Upper Beaver\\Maps - Sections\\Upper Beaver 1_10 scale Digitizing\\UBUGW_Nov2014\\ArcGIS\\AddIns\n",
      "N:\\07_Geology\\07.2_Exploration\\4.5_ProjectsCurrent\\Upper Beaver\\Maps - Sections\\Upper Beaver 1_10 scale Digitizing\\Upper Beaver 1_10 Scale Digitizing Project for ArcGIS\\ArcGIS\\AddIns\\Desktop10.2\n",
      "N:\\07_Geology\\07.2_Exploration\\4.5_ProjectsCurrent\\Upper Beaver\\Maps - Sections\\Upper Beaver 1_10 scale Digitizing\\Upper Beaver 1_10 Scale Digitizing Project for ArcGIS\\ArcGIS\\AddIns\n",
      "N:\\07_Geology\\07.2_Exploration\\4.5_ProjectsCurrent\\Upper Beaver\\Maps - Sections\\Upper Beaver 1_10 scale Digitizing\\Upper Beaver 1_10 Scale Digitizing Project for ArcGIS\\ArcGIS_Chris_backup\\addins\\Desktop10.2\n",
      "N:\\07_Geology\\07.2_Exploration\\4.5_ProjectsCurrent\\Upper Beaver\\Maps - Sections\\Upper Beaver 1_10 scale Digitizing\\Upper Beaver 1_10 Scale Digitizing Project for ArcGIS\\ArcGIS_Chris_backup\\addins\n",
      "N:\\07_Geology\\07.2_Exploration\\4.5_ProjectsCurrent\\Upper Beaver\\Maps - Sections\\Upper Beaver 1_10 scale Digitizing\\Upper Beaver 1_10 Scale Digitizing Project for ArcGIS\\Upper Beaver Scanned Mine (detailed) levels_Jan2014\\Book P\\BookP-Georefd\n",
      "N:\\07_Geology\\07.2_Exploration\\4.5_ProjectsCurrent\\Upper Beaver\\Maps - Sections - Levels - Plans - Models\\Maps - Sections\n",
      "N:\\07_Geology\\07.2_Exploration\\4.5_ProjectsCurrent\\Upper Beaver\\Upper Beaver East\\6-Drill Data\\Core Photos\n",
      "N:\\07_Geology\\07.2_Exploration\\4.5_ProjectsCurrent\\Upper Beaver\\Upper Beaver East\\6-Drill Data\\Drill Logs\\Survey Downhole\\Gyro\n",
      "N:\\07_Geology\\07.2_Exploration\\4.5_ProjectsCurrent\\Upper Beaver\\Upper Beaver East\\6-Drill Data\\Drill Logs\\Survey Downhole\n"
     ]
    },
    {
     "data": {
      "text/plain": [
       "False"
      ]
     },
     "execution_count": 17,
     "metadata": {},
     "output_type": "execute_result"
    }
   ],
   "source": [
    "seekdir2(os.getcwd()+'\\\\Upper Beaver')"
   ]
  },
  {
   "cell_type": "code",
   "execution_count": 9,
   "metadata": {},
   "outputs": [
    {
     "data": {
      "text/plain": [
       "False"
      ]
     },
     "execution_count": 9,
     "metadata": {},
     "output_type": "execute_result"
    }
   ],
   "source": [
    "os.path.isfile('\\\\Abitibi\\\\'+_[0])"
   ]
  },
  {
   "cell_type": "code",
   "execution_count": 13,
   "metadata": {},
   "outputs": [
    {
     "data": {
      "text/plain": [
       "'N:\\\\07_Geology\\\\07.2_Exploration\\\\4.5_ProjectsCurrent\\\\Amalgamated Kirkland'"
      ]
     },
     "execution_count": 13,
     "metadata": {},
     "output_type": "execute_result"
    }
   ],
   "source": [
    "os.path.join(os.getcwd(),'Amalgamated Kirkland')"
   ]
  },
  {
   "cell_type": "code",
   "execution_count": 14,
   "metadata": {},
   "outputs": [
    {
     "data": {
      "text/plain": [
       "<generator object walk at 0x0386C5A8>"
      ]
     },
     "execution_count": 14,
     "metadata": {},
     "output_type": "execute_result"
    }
   ],
   "source": [
    "path"
   ]
  },
  {
   "cell_type": "code",
   "execution_count": null,
   "metadata": {
    "collapsed": true
   },
   "outputs": [],
   "source": []
  }
 ],
 "metadata": {
  "kernelspec": {
   "display_name": "Python 2",
   "language": "python",
   "name": "python2"
  },
  "language_info": {
   "codemirror_mode": {
    "name": "ipython",
    "version": 2
   },
   "file_extension": ".py",
   "mimetype": "text/x-python",
   "name": "python",
   "nbconvert_exporter": "python",
   "pygments_lexer": "ipython2",
   "version": "2.7.5"
  }
 },
 "nbformat": 4,
 "nbformat_minor": 2
}
