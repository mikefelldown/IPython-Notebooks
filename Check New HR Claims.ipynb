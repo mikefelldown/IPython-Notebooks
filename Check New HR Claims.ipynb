{
 "cells": [
  {
   "cell_type": "code",
   "execution_count": 1,
   "metadata": {
    "collapsed": true
   },
   "outputs": [],
   "source": [
    "import arcpy\n",
    "import urllib2\n",
    "import urllib\n",
    "import os, sys, glob\n",
    "import zipfile\n",
    "import smtplib\n",
    "import email.mime.multipart as multipart\n",
    "import email.mime.text as tx\n",
    "from email.utils import formatdate\n",
    "import BeautifulSoup as bs\n",
    "from dateutil.parser import parse\n",
    "import datetime"
   ]
  },
  {
   "cell_type": "code",
   "execution_count": 2,
   "metadata": {
    "collapsed": true
   },
   "outputs": [],
   "source": [
    "os.chdir(r'C:\\Users\\mfell\\Documents\\Claim Staking Monitor\\New Claims')\n",
    "baseurl = r'http://www.geologyontario.mndm.gov.on.ca/mines/documents/claimaps/complete_claims.zip'"
   ]
  },
  {
   "cell_type": "code",
   "execution_count": 3,
   "metadata": {
    "collapsed": true
   },
   "outputs": [],
   "source": [
    "myzipfile = urllib.urlretrieve(baseurl)"
   ]
  },
  {
   "cell_type": "code",
   "execution_count": 4,
   "metadata": {
    "collapsed": true
   },
   "outputs": [],
   "source": [
    "this = zipfile.ZipFile(myzipfile[0])\n"
   ]
  },
  {
   "cell_type": "code",
   "execution_count": 5,
   "metadata": {
    "collapsed": true
   },
   "outputs": [],
   "source": [
    "file_list = glob.glob(\"*.*\")\n",
    "for f in file_list:\n",
    "    os.remove(f)\n",
    "this.extractall()"
   ]
  },
  {
   "cell_type": "code",
   "execution_count": 6,
   "metadata": {
    "collapsed": true
   },
   "outputs": [],
   "source": [
    "mxd = arcpy.mapping.MapDocument(r'C:\\Users\\mfell\\Documents\\Claim Staking Monitor\\Claim_monitor.mxd')\n",
    "arcpy.env.workspace = r\"C:\\users\\mfell\\documents\\Claim Staking Monitor\"\n",
    "lyrList = arcpy.mapping.ListLayers(mxd)\n"
   ]
  },
  {
   "cell_type": "code",
   "execution_count": 7,
   "metadata": {
    "collapsed": true
   },
   "outputs": [],
   "source": [
    "arcpy.SelectLayerByLocation_management(lyrList[0],\"INTERSECT\",lyrList[2],'',\"NEW_SELECTION\")\n",
    "rows = rows = arcpy.da.SearchCursor(lyrList[0], [\"CLAIM_NUM\"])\n",
    "claims = [r[0] for r in rows]\n",
    "del r, rows\n",
    "arcpy.SelectLayerByLocation_management(lyrList[1],\"INTERSECT\",lyrList[2],'',\"NEW_SELECTION\")\n",
    "rows = rows = arcpy.da.SearchCursor(lyrList[1], [\"CLAIM_NUM\"])\n",
    "old_claims = [r[0] for r in rows]\n",
    "res = set(claims).difference(set(old_claims))\n",
    "    "
   ]
  },
  {
   "cell_type": "code",
   "execution_count": 8,
   "metadata": {
    "collapsed": true
   },
   "outputs": [],
   "source": [
    "def getinfo(params):\n",
    "    page = urllib2.urlopen(r'https://www.mci.mndm.gov.on.ca/claims/cf_claims/clm_csd.cfm?Div=40&Claim_View__Claim_Number={}'\\\n",
    "                           .format(params)).read()\n",
    "    soup = bs.BeautifulSoup(page)\n",
    "    tables = soup.findAll('table')\n",
    "    try:\n",
    "        staked = parse(tables[3].findAll('td')[7].text)\n",
    "    except:\n",
    "        staked = datetime.date.today()\n",
    "    cells = tables[5].findAll('td')\n",
    "    try:\n",
    "        clients = [x.text for x in cells[::2]]\n",
    "    except:\n",
    "        clients = None\n",
    "    return {'clients':clients,'staked':staked}\n",
    "\n",
    "    "
   ]
  },
  {
   "cell_type": "code",
   "execution_count": 9,
   "metadata": {
    "collapsed": true
   },
   "outputs": [],
   "source": [
    "if res:\n",
    "    conn = smtplib.SMTP('smtp.office365.com')\n",
    "    conn.starttls()\n",
    "    conn.login('mfell@canadianmalartic.com', 'mfPJW6ti')\n",
    "    msg = multipart.MIMEMultipart('related')\n",
    "    msg['Subject'] = 'New claims in Hammond Reef project area'\n",
    "    msg['From'] = 'mfell@canadianmalartic.com'\n",
    "    msg['Date'] = formatdate(localtime = True)\n",
    "    msg['To'] = 'mfell@canadianmalartic.com'\n",
    "    html = ['''\n",
    "<html>\n",
    "<head>\n",
    "<style>\n",
    "h1 {\n",
    "    font-family: arial, sans-serif;\n",
    "}\n",
    "table {\n",
    "    font-family: arial, sans-serif;\n",
    "    border-collapse: collapse;\n",
    "    width: 100%;\n",
    "}\n",
    "\n",
    "td, th {\n",
    "    border: 1px solid #dddddd;\n",
    "    text-align: left;\n",
    "    padding: 8px;\n",
    "}\n",
    "\n",
    "tr:nth-child(even) {\n",
    "    background-color: #dddddd;\n",
    "}\n",
    "</style>\n",
    "</head>\n",
    "<body><h1>New claims within 30 km of the Hammond Reef Property</h1>''']\n",
    "    html.append('<table>')\n",
    "    html.append('<tr><th>Claim Number</th><th>Claim Holders</th><th>Staked</th></tr>')\n",
    "    for r in res:\n",
    "        html.append('<tr>')\n",
    "        params = urllib.urlencode({\"Div\":40,\"Claim_View__Claim_Number\":r})\n",
    "        info = getinfo(r)\n",
    "        html.append('<td><a href = \\'https://www.mci.mndm.gov.on.ca/claims/cf_claims/clm_csd.cfm?' + params +'\\'>' + r + '</a></td>')\n",
    "        html.append('<td>')\n",
    "        for c in info['clients']:\n",
    "            html.append(c.title() + '<br>')\n",
    "        html.append('</td><td>' + info['staked'].strftime('%Y-%b-%d') + '</td>')    \n",
    "        html.append('</tr>')\n",
    "    html.append('''</table>\n",
    "    </body>\n",
    "    </html>''')    \n",
    "    msg.attach(tx.MIMEText(''.join(html), 'html'))\n",
    "    conn.sendmail('mfell@canadianmalartic.com', ['mfell@canadianmalartic.com'], msg.as_string())\n",
    "    conn.close()"
   ]
  },
  {
   "cell_type": "code",
   "execution_count": 10,
   "metadata": {
    "collapsed": true
   },
   "outputs": [],
   "source": [
    "del mxd, r, rows, lyrList"
   ]
  },
  {
   "cell_type": "code",
   "execution_count": 11,
   "metadata": {
    "collapsed": true
   },
   "outputs": [],
   "source": [
    "os.chdir(r'C:\\Users\\mfell\\Documents\\Claim Staking Monitor\\Old Claims')\n",
    "file_list = glob.glob(\"*.*\")\n",
    "for f in file_list:\n",
    "    os.remove(f)\n",
    "this.extractall()    "
   ]
  },
  {
   "cell_type": "code",
   "execution_count": 12,
   "metadata": {},
   "outputs": [
    {
     "name": "stdout",
     "output_type": "stream",
     "text": [
      "set([])\n"
     ]
    }
   ],
   "source": [
    "print res"
   ]
  },
  {
   "cell_type": "code",
   "execution_count": 14,
   "metadata": {},
   "outputs": [
    {
     "ename": "SMTPDataError",
     "evalue": "(550, '5.7.60 SMTP; Client does not have permissions to send as this sender [BN6PR06MB3059.namprd06.prod.outlook.com]')",
     "output_type": "error",
     "traceback": [
      "\u001b[1;31m---------------------------------------------------------------------------\u001b[0m",
      "\u001b[1;31mSMTPDataError\u001b[0m                             Traceback (most recent call last)",
      "\u001b[1;32m<ipython-input-14-eecdefcf0c2d>\u001b[0m in \u001b[0;36m<module>\u001b[1;34m()\u001b[0m\n\u001b[0;32m      9\u001b[0m \u001b[0mhtml\u001b[0m \u001b[1;33m=\u001b[0m \u001b[1;34m'''This is a test, this is only a test. Do not pass go. Do not collect $200.'''\u001b[0m\u001b[1;33m\u001b[0m\u001b[0m\n\u001b[0;32m     10\u001b[0m \u001b[0mmsg\u001b[0m\u001b[1;33m.\u001b[0m\u001b[0mattach\u001b[0m\u001b[1;33m(\u001b[0m\u001b[0mtx\u001b[0m\u001b[1;33m.\u001b[0m\u001b[0mMIMEText\u001b[0m\u001b[1;33m(\u001b[0m\u001b[0mhtml\u001b[0m\u001b[1;33m,\u001b[0m \u001b[1;34m'html'\u001b[0m\u001b[1;33m)\u001b[0m\u001b[1;33m)\u001b[0m\u001b[1;33m\u001b[0m\u001b[0m\n\u001b[1;32m---> 11\u001b[1;33m \u001b[0mconn\u001b[0m\u001b[1;33m.\u001b[0m\u001b[0msendmail\u001b[0m\u001b[1;33m(\u001b[0m\u001b[1;34m'noreply@findmespot.com'\u001b[0m\u001b[1;33m,\u001b[0m \u001b[1;33m[\u001b[0m\u001b[1;34m'geology.dobie@canadianmalartic.com'\u001b[0m\u001b[1;33m]\u001b[0m\u001b[1;33m,\u001b[0m \u001b[0mmsg\u001b[0m\u001b[1;33m.\u001b[0m\u001b[0mas_string\u001b[0m\u001b[1;33m(\u001b[0m\u001b[1;33m)\u001b[0m\u001b[1;33m)\u001b[0m\u001b[1;33m\u001b[0m\u001b[0m\n\u001b[0m\u001b[0;32m     12\u001b[0m \u001b[0mconn\u001b[0m\u001b[1;33m.\u001b[0m\u001b[0mclose\u001b[0m\u001b[1;33m(\u001b[0m\u001b[1;33m)\u001b[0m\u001b[1;33m\u001b[0m\u001b[0m\n",
      "\u001b[1;32mc:\\python27\\arcgis10.2\\lib\\smtplib.pyc\u001b[0m in \u001b[0;36msendmail\u001b[1;34m(self, from_addr, to_addrs, msg, mail_options, rcpt_options)\u001b[0m\n\u001b[0;32m    736\u001b[0m         \u001b[1;32mif\u001b[0m \u001b[0mcode\u001b[0m \u001b[1;33m!=\u001b[0m \u001b[1;36m250\u001b[0m\u001b[1;33m:\u001b[0m\u001b[1;33m\u001b[0m\u001b[0m\n\u001b[0;32m    737\u001b[0m             \u001b[0mself\u001b[0m\u001b[1;33m.\u001b[0m\u001b[0mrset\u001b[0m\u001b[1;33m(\u001b[0m\u001b[1;33m)\u001b[0m\u001b[1;33m\u001b[0m\u001b[0m\n\u001b[1;32m--> 738\u001b[1;33m             \u001b[1;32mraise\u001b[0m \u001b[0mSMTPDataError\u001b[0m\u001b[1;33m(\u001b[0m\u001b[0mcode\u001b[0m\u001b[1;33m,\u001b[0m \u001b[0mresp\u001b[0m\u001b[1;33m)\u001b[0m\u001b[1;33m\u001b[0m\u001b[0m\n\u001b[0m\u001b[0;32m    739\u001b[0m         \u001b[1;31m#if we got here then somebody got our mail\u001b[0m\u001b[1;33m\u001b[0m\u001b[1;33m\u001b[0m\u001b[0m\n\u001b[0;32m    740\u001b[0m         \u001b[1;32mreturn\u001b[0m \u001b[0msenderrs\u001b[0m\u001b[1;33m\u001b[0m\u001b[0m\n",
      "\u001b[1;31mSMTPDataError\u001b[0m: (550, '5.7.60 SMTP; Client does not have permissions to send as this sender [BN6PR06MB3059.namprd06.prod.outlook.com]')"
     ]
    }
   ],
   "source": [
    "conn = smtplib.SMTP('smtp.office365.com')\n",
    "conn.starttls()\n",
    "conn.login('mfell@canadianmalartic.com', 'mfPJW6ti')\n",
    "msg = multipart.MIMEMultipart('related')\n",
    "msg['Subject'] = 'test email'\n",
    "msg['From'] = 'noreply@findmespot.com'\n",
    "msg['Date'] = formatdate(localtime = True)\n",
    "msg['To'] = 'geology.dobie@canadianmalartic.com'\n",
    "html = '''This is a test, this is only a test. Do not pass go. Do not collect $200.'''\n",
    "msg.attach(tx.MIMEText(html, 'html'))\n",
    "conn.sendmail('noreply@findmespot.com', ['geology.dobie@canadianmalartic.com'], msg.as_string())\n",
    "conn.close()"
   ]
  },
  {
   "cell_type": "code",
   "execution_count": null,
   "metadata": {
    "collapsed": true
   },
   "outputs": [],
   "source": []
  }
 ],
 "metadata": {
  "kernelspec": {
   "display_name": "Python 2",
   "language": "python",
   "name": "python2"
  },
  "language_info": {
   "codemirror_mode": {
    "name": "ipython",
    "version": 2
   },
   "file_extension": ".py",
   "mimetype": "text/x-python",
   "name": "python",
   "nbconvert_exporter": "python",
   "pygments_lexer": "ipython2",
   "version": "2.7.5"
  }
 },
 "nbformat": 4,
 "nbformat_minor": 1
}
