{
 "cells": [
  {
   "cell_type": "code",
   "execution_count": 1,
   "metadata": {
    "collapsed": true
   },
   "outputs": [],
   "source": [
    "import os, pyodbc\n",
    "import pandas as pd\n",
    "#import numpy as np\n",
    "from pandas import DataFrame\n",
    "from datetime import datetime, timedelta\n",
    "from matplotlib import pyplot as plt\n",
    "from sqlalchemy import create_engine\n"
   ]
  },
  {
   "cell_type": "code",
   "execution_count": 2,
   "metadata": {},
   "outputs": [
    {
     "name": "stdout",
     "output_type": "stream",
     "text": [
      "Using matplotlib backend: TkAgg\n",
      "Populating the interactive namespace from numpy and matplotlib\n"
     ]
    },
    {
     "name": "stderr",
     "output_type": "stream",
     "text": [
      "c:\\python27\\arcgis10.2\\lib\\site-packages\\IPython\\core\\magics\\pylab.py:161: UserWarning: pylab import has clobbered these variables: ['datetime']\n",
      "`%matplotlib` prevents importing * from pylab and numpy\n",
      "  \"\\n`%matplotlib` prevents importing * from pylab and numpy\"\n"
     ]
    }
   ],
   "source": [
    "%pylab\n"
   ]
  },
  {
   "cell_type": "markdown",
   "metadata": {},
   "source": [
    "Connect to SQL db and create dataframe"
   ]
  },
  {
   "cell_type": "code",
   "execution_count": 3,
   "metadata": {
    "collapsed": true
   },
   "outputs": [],
   "source": [
    "engine = create_engine(\"mssql+pyodbc://gt_KL_Logger\")\n"
   ]
  },
  {
   "cell_type": "markdown",
   "metadata": {},
   "source": [
    "Query for Au standards"
   ]
  },
  {
   "cell_type": "code",
   "execution_count": 4,
   "metadata": {
    "collapsed": true
   },
   "outputs": [],
   "source": [
    "sql = \"Select  b.Nom as 'HOLEID', c.NuEchantillon as 'SAMPLEID', c.Reference as 'STD', \\\n",
    "COALESCE(c.Col4, c.col65,c.col45) as Au_gpt, d.DateForagFin as 'Date', c.Description as 'Desc' \\\n",
    "from tblNomProjet a join tblNuSondage b on a.idkey = b.idNomProjet \\\n",
    "join tblQAQC c on b.idkey = c.idNuSondage \\\n",
    "join tblColletInformation d on b.idkey = d.idNuSondage \\\n",
    "where  c.TypeQAQC = 3 and COALESCE(c.Col4, c.col65, c.Col45) is not NULL \\\n",
    "and isnumeric(COALESCE(c.Col4, c.col65, c.Col45)) = 1 and d.DateForagFin \\\n",
    "is not NULL and a.NomProjet like 'UpperCanada%'\""
   ]
  },
  {
   "cell_type": "code",
   "execution_count": 5,
   "metadata": {
    "collapsed": true
   },
   "outputs": [],
   "source": [
    "engine2 = create_engine(\"mssql+pyodbc://gt_KL_Master\")"
   ]
  },
  {
   "cell_type": "code",
   "execution_count": 6,
   "metadata": {
    "collapsed": true
   },
   "outputs": [],
   "source": [
    "sql2 = \"Select  b.Nom as 'HOLEID', c.NuEchantillon as 'SAMPLEID', c.Reference as 'STD', \\\n",
    "c.Col101 as 'Au_gpt', e.DateEmis as 'Date' \\\n",
    "from tblNomProjet a join tblNuSondage b on a.idkey = b.idNomProjet \\\n",
    "join tblQAQC c on b.idkey = c.idNuSondage \\\n",
    "join tblCertEchQAQC d on c.idkey = d.idQAQC \\\n",
    "join tblAnalRegCertificat e on d.NuCertificat = e.NuCertificat \\\n",
    "where c.TypeQAQC = 3 and c.Col101 is not NULL \\\n",
    "and a.NomProjet = 'UpperCanada'  and isnumeric(Col101) = 1\""
   ]
  },
  {
   "cell_type": "markdown",
   "metadata": {},
   "source": [
    "Query for Blanks"
   ]
  },
  {
   "cell_type": "code",
   "execution_count": 54,
   "metadata": {
    "collapsed": true
   },
   "outputs": [],
   "source": [
    "sql = \"Select  b.Nom as 'HOLEID', c.NuEchantillon as 'SAMPLEID', c.Reference as 'STD', \\\n",
    "COALESCE(c.Col4, c.col65, c.Col45) as Au_gpt, d.DateForagFin as 'Date', c.Description as 'Desc'\\\n",
    "from tblNomProjet a join tblNuSondage b on a.idkey = b.idNomProjet \\\n",
    "join tblQAQC c on b.idkey = c.idNuSondage \\\n",
    "left join tblColletInformation d on b.idkey = d.idNuSondage \\\n",
    "where c.TypeQAQC = 1 and a.NomProjet like 'UpperCanada%' and COALESCE(c.Col4, c.col65, c.col45) is not NULL \\\n",
    "and COALESCE(c.Col4, c.col65, c.Col45) <> '' \\\n",
    "and d.DateForagFin is not NULL \""
   ]
  },
  {
   "cell_type": "code",
   "execution_count": 55,
   "metadata": {
    "collapsed": true
   },
   "outputs": [],
   "source": [
    "sql2 = \"Select  b.Nom as 'HOLEID', c.NuEchantillon as 'SAMPLEID', c.Reference as 'STD', \\\n",
    "c.Col101 as 'Au_gpt', d.DateForagFin as 'Date' \\\n",
    "from tblNomProjet a join tblNuSondage b on a.idkey = b.idNomProjet \\\n",
    "join tblQAQC c on b.idkey = c.idNuSondage \\\n",
    "left join tblColletInformation d on b.idkey = d.idNuSondage \\\n",
    "where c.TypeQAQC = 1 and c.Col101 is not NULL \\\n",
    "and a.NomProjet = 'UpperCanada'  and isnumeric(Col101) = 1\""
   ]
  },
  {
   "cell_type": "code",
   "execution_count": 7,
   "metadata": {
    "collapsed": true
   },
   "outputs": [],
   "source": [
    "df = pd.read_sql(sql, engine)#, index_col = 'Date')\n",
    "df2 = pd.read_sql(sql2, engine2)#, index_col = 'Date')\n",
    "\n",
    "#df = df.append(df2)"
   ]
  },
  {
   "cell_type": "code",
   "execution_count": 8,
   "metadata": {
    "collapsed": true
   },
   "outputs": [],
   "source": [
    "stds = pd.read_sql(\"Select * from tblTypeStandard\", engine)\n",
    "stds.columns = ['idkey','std_name','alias','col','avg','active','sigma']"
   ]
  },
  {
   "cell_type": "code",
   "execution_count": 9,
   "metadata": {
    "collapsed": true
   },
   "outputs": [],
   "source": [
    "\n",
    "df['Au_val'] = df.Au_gpt[(df.Au_gpt <> '<0.005') & (df.Au_gpt <> '< 0.01') & (df.Au_gpt <> '<0.01')].astype(np.float)\n",
    "df = df.fillna({'Au_val':0.005})\n",
    "df2['Au_val'] = df2.Au_gpt[(df2.Au_gpt <> '<0.005') & (df2.Au_gpt <> '< 0.01') & (df2.Au_gpt <> '<0.01')].astype(np.float)\n",
    "df2 = df2.fillna({'Au_val':0.005})"
   ]
  },
  {
   "cell_type": "code",
   "execution_count": 10,
   "metadata": {
    "collapsed": true
   },
   "outputs": [],
   "source": [
    "df = df.append(df2)"
   ]
  },
  {
   "cell_type": "code",
   "execution_count": 11,
   "metadata": {
    "collapsed": true
   },
   "outputs": [],
   "source": [
    "df.index = df.Date"
   ]
  },
  {
   "cell_type": "code",
   "execution_count": 12,
   "metadata": {
    "collapsed": true
   },
   "outputs": [],
   "source": [
    "#df.STD = \"BLANK\"\n",
    "groups =list(set(df['STD']))"
   ]
  },
  {
   "cell_type": "markdown",
   "metadata": {},
   "source": [
    "Generate Standard Graph"
   ]
  },
  {
   "cell_type": "code",
   "execution_count": 17,
   "metadata": {
    "collapsed": true
   },
   "outputs": [],
   "source": [
    "# with plt.xkcd():\n",
    "fig = plt.figure(facecolor = 'w', figsize = (10, 12), tight_layout = False)\n",
    "\n",
    "# fig.suptitle('CRM Analyses for week of %s' % (datetime.date.today() + datetime.timedelta(4 - \\\n",
    "#               datetime.date.weekday(datetime.date.today()))).strftime('Friday, %B %d, %Y'), fontsize = 16)\n",
    "#fig.figimage(logo, 700,1025, zorder=1)\n",
    "length = len(groups[:2])\n",
    "\n",
    "for a, g in enumerate(groups[0:2]):   \n",
    "    ax1 = fig.add_subplot(length,1,a+1)\n",
    "    time_buffer = max((df.index.max() - df.index.min()) * 0.1, timedelta(5))\n",
    "    datarange = [df.index.min() - time_buffer, df.index.max()+ time_buffer]\n",
    "\n",
    "    #standard graphs\n",
    "    std_mean = stds.avg[stds['alias'] == g].values[0]\n",
    "    std_sd = stds.sigma[stds['alias'] == g].values[0]\n",
    "    ax1.plot(datarange, [df[df.STD == g].Au_val.mean(), df[df.STD == g].Au_val.mean()], 'r-',\\\n",
    "              label = 'measured avg = %0.3f' % (df[df.STD == g].Au_val.mean()), linewidth = 1)\n",
    "    ax1.plot(datarange, [std_mean, std_mean], 'b-', label = 'published avg = %0.3f' % (std_mean), linewidth = 1)\n",
    "    _2sig1 = df[df.STD == g].Au_val.mean() + 2 * df[df.STD == g].Au_val.std()\n",
    "    _2sig2 = df[df.STD == g].Au_val.mean() - 2 * df[df.STD == g].Au_val.std()\n",
    "    _3sig1 = df[df.STD == g].Au_val.mean() + 3 * df[df.STD == g].Au_val.std()\n",
    "    _3sig2 = df[df.STD == g].Au_val.mean() - 3 * df[df.STD == g].Au_val.std()\n",
    "    _2sigm1 = std_mean + 2 * std_sd\n",
    "    _2sigm2 = std_mean - 2 * std_sd\n",
    "    _3sigm1 = std_mean + 3 * std_sd\n",
    "    _3sigm2 = std_mean - 3 * std_sd\n",
    "    ax1.plot(datarange, [_2sig1,_2sig1], 'r--', label = u'measured 2 sigma', linewidth = 1)\n",
    "    ax1.plot(datarange, [_2sig2,_2sig2], 'r--')\n",
    "    ax1.plot(datarange, [_3sig1,_3sig1], 'r:', label = u'meausred 3 sigma', linewidth = 1)\n",
    "    ax1.plot(datarange, [_3sig2,_3sig2], 'r:')\n",
    "    ax1.plot(datarange, [_2sigm1,_2sigm1], 'b--', label = u'published 2 sigma', linewidth = 1)\n",
    "    ax1.plot(datarange, [_2sigm2,_2sigm2], 'b--')\n",
    "    ax1.plot(datarange, [_3sigm1,_3sigm1], 'b:', label = u'published 3 sigma', linewidth = 1)\n",
    "    ax1.plot(datarange, [_3sigm2,_3sigm2], 'b:', linewidth = 2)\n",
    "    ax1.plot(df.Au_val[df.STD == g], 'wo', label = '_nolegend_')\n",
    "    ax1.plot(df.Au_val[df.STD == g], 'k.', label = '_nolegend_')\n",
    "#     labels = df['SAMPLEID'][(df.STD == g) & ((df.Au_val < std_mean - 2 * std_sd) |\\\n",
    "#                          (df.Au_val > std_mean + 2 * std_sd))]\n",
    "#     for d, l in labels.iteritems():\n",
    "#         ax1.annotate(l, xy = (d, df.Au_val[df.SAMPLEID == l]), xytext=(5, 5), textcoords= 'offset points', color = 'r')\n",
    "    ylim = ax1.get_ylim()\n",
    "    yshift = (ylim[1] - ylim[0]) /10.0\n",
    "\n",
    "    ax1.set_ylim(ylim[0] - yshift, ylim[1] + yshift)\n",
    "    ax1.legend(loc = 'best', fontsize = 'small')\n",
    "    ax1.set_title('Analyses for %s, n= %d' % (g, df[df.STD == g].Au_val.count()), fontsize = 12)\n",
    "\n",
    "    ax1.set_ylabel('Au g/t')\n",
    "    xticks = ax1.get_xticks()\n",
    "    date_labels = [datetime.date.fromordinal(int(f)) for f in xticks]\n",
    "    ax1.set_xticklabels([])\n",
    "    if a == length -1:\n",
    "      ax1.set_xticklabels([x.strftime('%d-%b-%y') for x in date_labels], rotation = 45)\n",
    "    \n",
    "#fig.savefig('C:\\\\Temp\\\\crm.jpg', dpi = 200)  \n",
    "\n",
    "\n"
   ]
  },
  {
   "cell_type": "markdown",
   "metadata": {},
   "source": [
    "Generate Blank graph"
   ]
  },
  {
   "cell_type": "code",
   "execution_count": 77,
   "metadata": {
    "collapsed": true
   },
   "outputs": [],
   "source": [
    "# with plt.xkcd():\n",
    "fig = plt.figure(facecolor = 'w', figsize = (10, 8))\n",
    "\n",
    "\n",
    "# fig.suptitle('Blank Analyses for week of %s' % (datetime.date.today() + datetime.timedelta(4 - \\\n",
    "#               datetime.date.weekday(datetime.date.today()))).strftime('Friday, %B %d, %Y'), fontsize = 16)\n",
    "#fig.figimage(logo, 690*3,1035*3, zorder=1)\n",
    "length = len(groups)\n",
    "\n",
    "for a, g in enumerate(groups): \n",
    "    ax1 = fig.add_subplot(length,1,a+1)\n",
    "\n",
    "    time_buffer = max((df.index.max() - df.index.min()) * 0.1, timedelta(5))\n",
    "    datarange = [df.index.min() - time_buffer, df.index.max()+ time_buffer]\n",
    "\n",
    "    ax1.plot(datarange, [0.015, 0.015], 'r-', label = '3 * L.O.D. (0.015 g/t)', linewidth = 1.5)\n",
    "    _80pct = df[df.STD == g].Au_val.quantile(0.8)\n",
    "    _90pct = df[df.STD == g].Au_val.quantile(0.9)\n",
    "    ax1.plot(datarange, [_80pct,_80pct], 'b--', label = u'80th percentile', linewidth = 1.5)\n",
    "    ax1.plot(datarange, [_90pct,_90pct], 'b:', label = u'90th percentile', linewidth = 1.5)\n",
    "    ax1.plot(df.Au_val[df.STD == g], 'wo', label = '_nolegend_')\n",
    "    ax1.plot(df.Au_val[df.STD == g], 'k.', label = '_nolegend_')\n",
    "    labels = df[df.STD == g].SAMPLEID[(df[df.STD == g].Au_val > 0.015)]\n",
    "#     for d, l in labels.iteritems():\n",
    "#         ax1.annotate(l, xy = (d, df.Au_val[df.SAMPLEID == l]), xytext=(5, 5), textcoords= 'offset points')\n",
    "    ylim = ax1.get_ylim()\n",
    "    yshift = (ylim[1] - ylim[0]) /10.0\n",
    "\n",
    "    ax1.set_ylim(ylim[0] - yshift, ylim[1] + yshift)\n",
    "    ax1.legend(loc = 'best', fontsize = 'small')\n",
    "    ax1.set_title('Analyses for %s, n= %d' % (g, df[df.STD == g].Au_val.count()), fontsize = 12)\n",
    "\n",
    "    ax1.set_ylabel('Au g/t')\n",
    "\n",
    "    ax1.set_xticklabels([])\n",
    "    if a == length -1:    \n",
    "        xticks = ax1.get_xticks()\n",
    "        date_labels = [datetime.date.fromordinal(int(f)) for f in xticks]\n",
    "        ax1.set_xticklabels([x.strftime('%d-%b-%y') for x in date_labels], rotation = 45)\n",
    "    \n",
    "#fig.savefig('C:\\\\Temp\\\\blank.jpg', dpi = 200)  \n"
   ]
  },
  {
   "cell_type": "code",
   "execution_count": 78,
   "metadata": {
    "scrolled": true
   },
   "outputs": [
    {
     "data": {
      "text/html": [
       "<div>\n",
       "<table border=\"1\" class=\"dataframe\">\n",
       "  <thead>\n",
       "    <tr style=\"text-align: right;\">\n",
       "      <th></th>\n",
       "      <th>HOLEID</th>\n",
       "      <th>SAMPLEID</th>\n",
       "      <th>STD</th>\n",
       "      <th>Au_gpt</th>\n",
       "      <th>Date</th>\n",
       "      <th>Au_val</th>\n",
       "    </tr>\n",
       "    <tr>\n",
       "      <th>Date</th>\n",
       "      <th></th>\n",
       "      <th></th>\n",
       "      <th></th>\n",
       "      <th></th>\n",
       "      <th></th>\n",
       "      <th></th>\n",
       "    </tr>\n",
       "  </thead>\n",
       "  <tbody>\n",
       "    <tr>\n",
       "      <th>2010-04-30</th>\n",
       "      <td>UC10_076</td>\n",
       "      <td>_UC10_076_60375</td>\n",
       "      <td>BLANK</td>\n",
       "      <td>1.13</td>\n",
       "      <td>2010-04-30</td>\n",
       "      <td>1.130</td>\n",
       "    </tr>\n",
       "    <tr>\n",
       "      <th>2011-09-01</th>\n",
       "      <td>UC11_367</td>\n",
       "      <td>_UC11_367_206075</td>\n",
       "      <td>BLANK</td>\n",
       "      <td>3.27</td>\n",
       "      <td>2011-09-01</td>\n",
       "      <td>3.270</td>\n",
       "    </tr>\n",
       "    <tr>\n",
       "      <th>2012-03-13</th>\n",
       "      <td>UC12_428</td>\n",
       "      <td>_UC12_428_M571525</td>\n",
       "      <td>BLANK</td>\n",
       "      <td>1.96</td>\n",
       "      <td>2012-03-13</td>\n",
       "      <td>1.960</td>\n",
       "    </tr>\n",
       "    <tr>\n",
       "      <th>2012-08-18</th>\n",
       "      <td>UC12_457</td>\n",
       "      <td>_UC12_457_N592250</td>\n",
       "      <td>BLANK</td>\n",
       "      <td>0.696</td>\n",
       "      <td>2012-08-18</td>\n",
       "      <td>0.696</td>\n",
       "    </tr>\n",
       "    <tr>\n",
       "      <th>2013-04-30</th>\n",
       "      <td>UC13_018E</td>\n",
       "      <td>_UC13_018E_Q555900</td>\n",
       "      <td>BLANK</td>\n",
       "      <td>0.52</td>\n",
       "      <td>2013-04-30</td>\n",
       "      <td>0.520</td>\n",
       "    </tr>\n",
       "    <tr>\n",
       "      <th>2013-04-23</th>\n",
       "      <td>UC13_173E</td>\n",
       "      <td>_UC13_173E_P965250</td>\n",
       "      <td>BLANK</td>\n",
       "      <td>0.504</td>\n",
       "      <td>2013-04-23</td>\n",
       "      <td>0.504</td>\n",
       "    </tr>\n",
       "    <tr>\n",
       "      <th>2013-04-11</th>\n",
       "      <td>UC13_174E</td>\n",
       "      <td>_UC13_174E_P964525</td>\n",
       "      <td>BLANK</td>\n",
       "      <td>1.04</td>\n",
       "      <td>2013-04-11</td>\n",
       "      <td>1.040</td>\n",
       "    </tr>\n",
       "    <tr>\n",
       "      <th>2013-03-29</th>\n",
       "      <td>UC13_474E</td>\n",
       "      <td>_UC13_474E_P964175</td>\n",
       "      <td>BLANK</td>\n",
       "      <td>2.11</td>\n",
       "      <td>2013-03-29</td>\n",
       "      <td>2.110</td>\n",
       "    </tr>\n",
       "    <tr>\n",
       "      <th>2013-03-26</th>\n",
       "      <td>UC13_478</td>\n",
       "      <td>_UC13_478_L765775</td>\n",
       "      <td>BLANK</td>\n",
       "      <td>0.504</td>\n",
       "      <td>2013-03-26</td>\n",
       "      <td>0.504</td>\n",
       "    </tr>\n",
       "    <tr>\n",
       "      <th>2013-02-28</th>\n",
       "      <td>UC13_481</td>\n",
       "      <td>_UC13_481_Q552050</td>\n",
       "      <td>BLANK</td>\n",
       "      <td>0.499</td>\n",
       "      <td>2013-02-28</td>\n",
       "      <td>0.499</td>\n",
       "    </tr>\n",
       "  </tbody>\n",
       "</table>\n",
       "</div>"
      ],
      "text/plain": [
       "               HOLEID            SAMPLEID    STD Au_gpt       Date  Au_val\n",
       "Date                                                                      \n",
       "2010-04-30   UC10_076     _UC10_076_60375  BLANK   1.13 2010-04-30   1.130\n",
       "2011-09-01   UC11_367    _UC11_367_206075  BLANK   3.27 2011-09-01   3.270\n",
       "2012-03-13   UC12_428   _UC12_428_M571525  BLANK   1.96 2012-03-13   1.960\n",
       "2012-08-18   UC12_457   _UC12_457_N592250  BLANK  0.696 2012-08-18   0.696\n",
       "2013-04-30  UC13_018E  _UC13_018E_Q555900  BLANK   0.52 2013-04-30   0.520\n",
       "2013-04-23  UC13_173E  _UC13_173E_P965250  BLANK  0.504 2013-04-23   0.504\n",
       "2013-04-11  UC13_174E  _UC13_174E_P964525  BLANK   1.04 2013-04-11   1.040\n",
       "2013-03-29  UC13_474E  _UC13_474E_P964175  BLANK   2.11 2013-03-29   2.110\n",
       "2013-03-26   UC13_478   _UC13_478_L765775  BLANK  0.504 2013-03-26   0.504\n",
       "2013-02-28   UC13_481   _UC13_481_Q552050  BLANK  0.499 2013-02-28   0.499"
      ]
     },
     "execution_count": 78,
     "metadata": {},
     "output_type": "execute_result"
    }
   ],
   "source": [
    "df[df.Au_val > 0.49]"
   ]
  },
  {
   "cell_type": "code",
   "execution_count": 62,
   "metadata": {
    "collapsed": true
   },
   "outputs": [],
   "source": [
    "grp = df.groupby('STD')\n"
   ]
  },
  {
   "cell_type": "code",
   "execution_count": 52,
   "metadata": {
    "collapsed": true
   },
   "outputs": [],
   "source": [
    "fig = plt.figure(facecolor = 'w')\n",
    "ax = fig.add_subplot(1,1,1)\n",
    "colors = ['#003300','#006633','#FF0000','#00FF00','#0000FF','#FFFF00','#FF00FF','#00FFFF','#666666','#FF9966', '#006666','#336699','#996633']"
   ]
  },
  {
   "cell_type": "code",
   "execution_count": 63,
   "metadata": {
    "collapsed": true
   },
   "outputs": [],
   "source": [
    "for a, g in enumerate(grp):\n",
    "    #if g[0] in ['STD11','STD9']:\n",
    "    ax.plot(g[1].Au_val, 'wo', label = g[0])#, c = colors[a])"
   ]
  },
  {
   "cell_type": "code",
   "execution_count": 64,
   "metadata": {},
   "outputs": [
    {
     "data": {
      "text/plain": [
       "<matplotlib.legend.Legend at 0xb173630>"
      ]
     },
     "execution_count": 64,
     "metadata": {},
     "output_type": "execute_result"
    }
   ],
   "source": [
    "ax.legend(loc='upper left', fontsize = 'small')"
   ]
  },
  {
   "cell_type": "code",
   "execution_count": 97,
   "metadata": {},
   "outputs": [
    {
     "data": {
      "text/plain": [
       "10"
      ]
     },
     "execution_count": 97,
     "metadata": {},
     "output_type": "execute_result"
    }
   ],
   "source": [
    "len(grp)"
   ]
  },
  {
   "cell_type": "code",
   "execution_count": 20,
   "metadata": {},
   "outputs": [
    {
     "data": {
      "text/plain": [
       "[<matplotlib.lines.Line2D at 0xa7a11b0>]"
      ]
     },
     "execution_count": 20,
     "metadata": {},
     "output_type": "execute_result"
    }
   ],
   "source": [
    "ax.plot(df[df.Desc.str.startswith('Corrected', na=False)].Au_val, 'b.', label = '_no_legend_')"
   ]
  },
  {
   "cell_type": "code",
   "execution_count": 19,
   "metadata": {},
   "outputs": [
    {
     "data": {
      "text/plain": [
       "[<matplotlib.lines.Line2D at 0xa79ad70>]"
      ]
     },
     "execution_count": 19,
     "metadata": {},
     "output_type": "execute_result"
    }
   ],
   "source": [
    "ax.plot(df[~df.Desc.str.startswith('Corrected', na=False)].Au_val, 'r.', label = '_no_legend_')"
   ]
  },
  {
   "cell_type": "code",
   "execution_count": 19,
   "metadata": {},
   "outputs": [
    {
     "data": {
      "text/plain": [
       "<matplotlib.legend.Legend at 0x9e9ee10>"
      ]
     },
     "execution_count": 19,
     "metadata": {},
     "output_type": "execute_result"
    }
   ],
   "source": [
    "ax.legend(loc = 'upper left', fontsize = 'small')"
   ]
  },
  {
   "cell_type": "code",
   "execution_count": 65,
   "metadata": {
    "collapsed": true
   },
   "outputs": [],
   "source": [
    "for label in  ax.xaxis.get_majorticklabels():\n",
    "    label.set_rotation(40)"
   ]
  },
  {
   "cell_type": "code",
   "execution_count": 66,
   "metadata": {},
   "outputs": [
    {
     "data": {
      "text/plain": [
       "<matplotlib.text.Text at 0xa936650>"
      ]
     },
     "execution_count": 66,
     "metadata": {},
     "output_type": "execute_result"
    }
   ],
   "source": [
    "ax.set_ylabel('Au g/t')"
   ]
  },
  {
   "cell_type": "code",
   "execution_count": 67,
   "metadata": {},
   "outputs": [
    {
     "data": {
      "text/plain": [
       "<matplotlib.text.Text at 0xa94aab0>"
      ]
     },
     "execution_count": 67,
     "metadata": {},
     "output_type": "execute_result"
    }
   ],
   "source": [
    "ax.set_title('UC Control Sample Distribution from 2009 to 2015')"
   ]
  },
  {
   "cell_type": "code",
   "execution_count": 48,
   "metadata": {},
   "outputs": [
    {
     "data": {
      "text/plain": [
       "13"
      ]
     },
     "execution_count": 48,
     "metadata": {},
     "output_type": "execute_result"
    }
   ],
   "source": [
    "len(grp)"
   ]
  },
  {
   "cell_type": "code",
   "execution_count": 18,
   "metadata": {},
   "outputs": [
    {
     "data": {
      "text/plain": [
       "[u'CM28',\n",
       " u'CM24',\n",
       " u'SL77',\n",
       " u'STD19',\n",
       " u'STD9',\n",
       " u'STD18',\n",
       " u'STD15',\n",
       " u'STD4',\n",
       " u'STD7',\n",
       " u'STD11',\n",
       " u'STD17',\n",
       " u'STD13',\n",
       " u'STD12']"
      ]
     },
     "execution_count": 18,
     "metadata": {},
     "output_type": "execute_result"
    }
   ],
   "source": [
    "groups"
   ]
  },
  {
   "cell_type": "code",
   "execution_count": null,
   "metadata": {
    "collapsed": true
   },
   "outputs": [],
   "source": []
  }
 ],
 "metadata": {
  "kernelspec": {
   "display_name": "Python 2",
   "language": "python",
   "name": "python2"
  },
  "language_info": {
   "codemirror_mode": {
    "name": "ipython",
    "version": 2
   },
   "file_extension": ".py",
   "mimetype": "text/x-python",
   "name": "python",
   "nbconvert_exporter": "python",
   "pygments_lexer": "ipython2",
   "version": "2.7.5"
  }
 },
 "nbformat": 4,
 "nbformat_minor": 1
}
